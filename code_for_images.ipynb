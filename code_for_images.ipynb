{
  "nbformat": 4,
  "nbformat_minor": 0,
  "metadata": {
    "colab": {
      "provenance": [],
      "authorship_tag": "ABX9TyOXcvyFjnMbf5xtT/UhD6KA",
      "include_colab_link": true
    },
    "kernelspec": {
      "name": "python3",
      "display_name": "Python 3"
    },
    "language_info": {
      "name": "python"
    },
    "accelerator": "GPU",
    "gpuClass": "standard"
  },
  "cells": [
    {
      "cell_type": "markdown",
      "metadata": {
        "id": "view-in-github",
        "colab_type": "text"
      },
      "source": [
        "<a href=\"https://colab.research.google.com/github/LatifulJoy/covid19-cnn-TL-mobilenet/blob/main/code_for_images.ipynb\" target=\"_parent\"><img src=\"https://colab.research.google.com/assets/colab-badge.svg\" alt=\"Open In Colab\"/></a>"
      ]
    },
    {
      "cell_type": "code",
      "execution_count": 1,
      "metadata": {
        "id": "RNMwE3OnuHbE"
      },
      "outputs": [],
      "source": [
        "import os \n",
        "import pathlib \n",
        "import numpy as np\n",
        "import pandas as pd\n",
        "import matplotlib.pyplot as plt \n",
        "import matplotlib.image as mpimg\n",
        "import random\n",
        "import cv2\n",
        "from sklearn.model_selection import train_test_split\n",
        "from tensorflow.keras.models import Sequential\n",
        "from tensorflow.keras.models import Model\n",
        "from tensorflow.keras.layers import Dense, Activation, Conv2D, MaxPool2D,SeparableConv2D, Flatten, Dropout, BatchNormalization\n",
        "from tensorflow.keras.callbacks import EarlyStopping\n",
        "import tensorflow as tf\n",
        "from google.colab import files\n",
        "from sklearn.metrics import classification_report,confusion_matrix"
      ]
    },
    {
      "cell_type": "code",
      "source": [
        "files.upload()"
      ],
      "metadata": {
        "colab": {
          "base_uri": "https://localhost:8080/",
          "height": 91
        },
        "id": "o_Mv043MvaGa",
        "outputId": "03625320-ee15-4bfe-cfc3-55d5661f2d8b"
      },
      "execution_count": 2,
      "outputs": [
        {
          "output_type": "display_data",
          "data": {
            "text/plain": [
              "<IPython.core.display.HTML object>"
            ],
            "text/html": [
              "\n",
              "     <input type=\"file\" id=\"files-647d75df-0803-4cba-a054-22c7d5d8eeba\" name=\"files[]\" multiple disabled\n",
              "        style=\"border:none\" />\n",
              "     <output id=\"result-647d75df-0803-4cba-a054-22c7d5d8eeba\">\n",
              "      Upload widget is only available when the cell has been executed in the\n",
              "      current browser session. Please rerun this cell to enable.\n",
              "      </output>\n",
              "      <script>// Copyright 2017 Google LLC\n",
              "//\n",
              "// Licensed under the Apache License, Version 2.0 (the \"License\");\n",
              "// you may not use this file except in compliance with the License.\n",
              "// You may obtain a copy of the License at\n",
              "//\n",
              "//      http://www.apache.org/licenses/LICENSE-2.0\n",
              "//\n",
              "// Unless required by applicable law or agreed to in writing, software\n",
              "// distributed under the License is distributed on an \"AS IS\" BASIS,\n",
              "// WITHOUT WARRANTIES OR CONDITIONS OF ANY KIND, either express or implied.\n",
              "// See the License for the specific language governing permissions and\n",
              "// limitations under the License.\n",
              "\n",
              "/**\n",
              " * @fileoverview Helpers for google.colab Python module.\n",
              " */\n",
              "(function(scope) {\n",
              "function span(text, styleAttributes = {}) {\n",
              "  const element = document.createElement('span');\n",
              "  element.textContent = text;\n",
              "  for (const key of Object.keys(styleAttributes)) {\n",
              "    element.style[key] = styleAttributes[key];\n",
              "  }\n",
              "  return element;\n",
              "}\n",
              "\n",
              "// Max number of bytes which will be uploaded at a time.\n",
              "const MAX_PAYLOAD_SIZE = 100 * 1024;\n",
              "\n",
              "function _uploadFiles(inputId, outputId) {\n",
              "  const steps = uploadFilesStep(inputId, outputId);\n",
              "  const outputElement = document.getElementById(outputId);\n",
              "  // Cache steps on the outputElement to make it available for the next call\n",
              "  // to uploadFilesContinue from Python.\n",
              "  outputElement.steps = steps;\n",
              "\n",
              "  return _uploadFilesContinue(outputId);\n",
              "}\n",
              "\n",
              "// This is roughly an async generator (not supported in the browser yet),\n",
              "// where there are multiple asynchronous steps and the Python side is going\n",
              "// to poll for completion of each step.\n",
              "// This uses a Promise to block the python side on completion of each step,\n",
              "// then passes the result of the previous step as the input to the next step.\n",
              "function _uploadFilesContinue(outputId) {\n",
              "  const outputElement = document.getElementById(outputId);\n",
              "  const steps = outputElement.steps;\n",
              "\n",
              "  const next = steps.next(outputElement.lastPromiseValue);\n",
              "  return Promise.resolve(next.value.promise).then((value) => {\n",
              "    // Cache the last promise value to make it available to the next\n",
              "    // step of the generator.\n",
              "    outputElement.lastPromiseValue = value;\n",
              "    return next.value.response;\n",
              "  });\n",
              "}\n",
              "\n",
              "/**\n",
              " * Generator function which is called between each async step of the upload\n",
              " * process.\n",
              " * @param {string} inputId Element ID of the input file picker element.\n",
              " * @param {string} outputId Element ID of the output display.\n",
              " * @return {!Iterable<!Object>} Iterable of next steps.\n",
              " */\n",
              "function* uploadFilesStep(inputId, outputId) {\n",
              "  const inputElement = document.getElementById(inputId);\n",
              "  inputElement.disabled = false;\n",
              "\n",
              "  const outputElement = document.getElementById(outputId);\n",
              "  outputElement.innerHTML = '';\n",
              "\n",
              "  const pickedPromise = new Promise((resolve) => {\n",
              "    inputElement.addEventListener('change', (e) => {\n",
              "      resolve(e.target.files);\n",
              "    });\n",
              "  });\n",
              "\n",
              "  const cancel = document.createElement('button');\n",
              "  inputElement.parentElement.appendChild(cancel);\n",
              "  cancel.textContent = 'Cancel upload';\n",
              "  const cancelPromise = new Promise((resolve) => {\n",
              "    cancel.onclick = () => {\n",
              "      resolve(null);\n",
              "    };\n",
              "  });\n",
              "\n",
              "  // Wait for the user to pick the files.\n",
              "  const files = yield {\n",
              "    promise: Promise.race([pickedPromise, cancelPromise]),\n",
              "    response: {\n",
              "      action: 'starting',\n",
              "    }\n",
              "  };\n",
              "\n",
              "  cancel.remove();\n",
              "\n",
              "  // Disable the input element since further picks are not allowed.\n",
              "  inputElement.disabled = true;\n",
              "\n",
              "  if (!files) {\n",
              "    return {\n",
              "      response: {\n",
              "        action: 'complete',\n",
              "      }\n",
              "    };\n",
              "  }\n",
              "\n",
              "  for (const file of files) {\n",
              "    const li = document.createElement('li');\n",
              "    li.append(span(file.name, {fontWeight: 'bold'}));\n",
              "    li.append(span(\n",
              "        `(${file.type || 'n/a'}) - ${file.size} bytes, ` +\n",
              "        `last modified: ${\n",
              "            file.lastModifiedDate ? file.lastModifiedDate.toLocaleDateString() :\n",
              "                                    'n/a'} - `));\n",
              "    const percent = span('0% done');\n",
              "    li.appendChild(percent);\n",
              "\n",
              "    outputElement.appendChild(li);\n",
              "\n",
              "    const fileDataPromise = new Promise((resolve) => {\n",
              "      const reader = new FileReader();\n",
              "      reader.onload = (e) => {\n",
              "        resolve(e.target.result);\n",
              "      };\n",
              "      reader.readAsArrayBuffer(file);\n",
              "    });\n",
              "    // Wait for the data to be ready.\n",
              "    let fileData = yield {\n",
              "      promise: fileDataPromise,\n",
              "      response: {\n",
              "        action: 'continue',\n",
              "      }\n",
              "    };\n",
              "\n",
              "    // Use a chunked sending to avoid message size limits. See b/62115660.\n",
              "    let position = 0;\n",
              "    do {\n",
              "      const length = Math.min(fileData.byteLength - position, MAX_PAYLOAD_SIZE);\n",
              "      const chunk = new Uint8Array(fileData, position, length);\n",
              "      position += length;\n",
              "\n",
              "      const base64 = btoa(String.fromCharCode.apply(null, chunk));\n",
              "      yield {\n",
              "        response: {\n",
              "          action: 'append',\n",
              "          file: file.name,\n",
              "          data: base64,\n",
              "        },\n",
              "      };\n",
              "\n",
              "      let percentDone = fileData.byteLength === 0 ?\n",
              "          100 :\n",
              "          Math.round((position / fileData.byteLength) * 100);\n",
              "      percent.textContent = `${percentDone}% done`;\n",
              "\n",
              "    } while (position < fileData.byteLength);\n",
              "  }\n",
              "\n",
              "  // All done.\n",
              "  yield {\n",
              "    response: {\n",
              "      action: 'complete',\n",
              "    }\n",
              "  };\n",
              "}\n",
              "\n",
              "scope.google = scope.google || {};\n",
              "scope.google.colab = scope.google.colab || {};\n",
              "scope.google.colab._files = {\n",
              "  _uploadFiles,\n",
              "  _uploadFilesContinue,\n",
              "};\n",
              "})(self);\n",
              "</script> "
            ]
          },
          "metadata": {}
        },
        {
          "output_type": "stream",
          "name": "stdout",
          "text": [
            "Saving kaggle (2).json to kaggle (2).json\n"
          ]
        },
        {
          "output_type": "execute_result",
          "data": {
            "text/plain": [
              "{'kaggle (2).json': b'{\"username\":\"latifuljoy\",\"key\":\"c9493e600d8dfc76ec7a58ea29031a33\"}'}"
            ]
          },
          "metadata": {},
          "execution_count": 2
        }
      ]
    },
    {
      "cell_type": "code",
      "source": [
        "import os\n",
        "os.environ[\"KAGGLE_CONFIG_DIR\"] = \"/content\""
      ],
      "metadata": {
        "id": "a6-hz8mRvaDe"
      },
      "execution_count": 3,
      "outputs": []
    },
    {
      "cell_type": "code",
      "source": [
        "!kaggle datasets download -d latifuljoy/covid-chest-xray-image-dataset"
      ],
      "metadata": {
        "colab": {
          "base_uri": "https://localhost:8080/"
        },
        "id": "x0-a06V8vaAR",
        "outputId": "d535da9d-5a57-4f92-af56-049785113a2f"
      },
      "execution_count": 4,
      "outputs": [
        {
          "output_type": "stream",
          "name": "stdout",
          "text": [
            "Warning: Your Kaggle API key is readable by other users on this system! To fix this, you can run 'chmod 600 /content/kaggle.json'\n",
            "Downloading covid-chest-xray-image-dataset.zip to /content\n",
            " 98% 473M/484M [00:04<00:00, 134MB/s]\n",
            "100% 484M/484M [00:04<00:00, 107MB/s]\n"
          ]
        }
      ]
    },
    {
      "cell_type": "code",
      "source": [
        "!unzip \\*.zip"
      ],
      "metadata": {
        "colab": {
          "base_uri": "https://localhost:8080/"
        },
        "id": "w33_QA9Xvytz",
        "outputId": "e37d6502-6144-4489-c95c-e496d88eff4d"
      },
      "execution_count": 5,
      "outputs": [
        {
          "output_type": "stream",
          "name": "stdout",
          "text": [
            "Archive:  covid-chest-xray-image-dataset.zip\n",
            "  inflating: COVID_IEEE/covid/01E392EE-69F9-4E33-BFCE-E5C968654078.jpeg  \n",
            "  inflating: COVID_IEEE/covid/03BF7561-A9BA-4C3C-B8A0-D3E585F73F3C.jpeg  \n",
            "  inflating: COVID_IEEE/covid/1-s2.0-S0140673620303706-fx1_lrg.jpg  \n",
            "  inflating: COVID_IEEE/covid/1-s2.0-S0929664620300449-gr2_lrg-a.jpg  \n",
            "  inflating: COVID_IEEE/covid/1-s2.0-S0929664620300449-gr2_lrg-b.jpg  \n",
            "  inflating: COVID_IEEE/covid/1-s2.0-S0929664620300449-gr2_lrg-c.jpg  \n",
            "  inflating: COVID_IEEE/covid/1-s2.0-S0929664620300449-gr2_lrg-d.jpg  \n",
            "  inflating: COVID_IEEE/covid/1-s2.0-S1684118220300608-main.pdf-001.jpg  \n",
            "  inflating: COVID_IEEE/covid/1-s2.0-S1684118220300608-main.pdf-002.jpg  \n",
            "  inflating: COVID_IEEE/covid/1-s2.0-S1684118220300682-main.pdf-002-a1.png  \n",
            "  inflating: COVID_IEEE/covid/1-s2.0-S1684118220300682-main.pdf-002-a2.png  \n",
            "  inflating: COVID_IEEE/covid/1-s2.0-S1684118220300682-main.pdf-003-b1.png  \n",
            "  inflating: COVID_IEEE/covid/1-s2.0-S1684118220300682-main.pdf-003-b2.png  \n",
            "  inflating: COVID_IEEE/covid/1.CXRCTThoraximagesofCOVID-19fromSingapore.pdf-000-fig1a.png  \n",
            "  inflating: COVID_IEEE/covid/1.CXRCTThoraximagesofCOVID-19fromSingapore.pdf-000-fig1b.png  \n",
            "  inflating: COVID_IEEE/covid/1.CXRCTThoraximagesofCOVID-19fromSingapore.pdf-001-fig2a.png  \n",
            "  inflating: COVID_IEEE/covid/1.CXRCTThoraximagesofCOVID-19fromSingapore.pdf-001-fig2b.png  \n",
            "  inflating: COVID_IEEE/covid/1.CXRCTThoraximagesofCOVID-19fromSingapore.pdf-002-fig3a.png  \n",
            "  inflating: COVID_IEEE/covid/1.CXRCTThoraximagesofCOVID-19fromSingapore.pdf-002-fig3b.png  \n",
            "  inflating: COVID_IEEE/covid/1.CXRCTThoraximagesofCOVID-19fromSingapore.pdf-003-fig4a.png  \n",
            "  inflating: COVID_IEEE/covid/1.CXRCTThoraximagesofCOVID-19fromSingapore.pdf-003-fig4b.png  \n",
            "  inflating: COVID_IEEE/covid/1312A392-67A3-4EBF-9319-810CF6DA5EF6.jpeg  \n",
            "  inflating: COVID_IEEE/covid/16654_1_1.png  \n",
            "  inflating: COVID_IEEE/covid/16654_2_1.jpg  \n",
            "  inflating: COVID_IEEE/covid/16654_4_1.jpg  \n",
            "  inflating: COVID_IEEE/covid/16660_1_1.jpg  \n",
            "  inflating: COVID_IEEE/covid/16660_2_1.jpg  \n",
            "  inflating: COVID_IEEE/covid/16660_3_1.jpg  \n",
            "  inflating: COVID_IEEE/covid/16660_4_1.jpg  \n",
            "  inflating: COVID_IEEE/covid/16669_3_1.jpeg  \n",
            "  inflating: COVID_IEEE/covid/16672_1_1.jpg  \n",
            "  inflating: COVID_IEEE/covid/16691_1_1.jpg  \n",
            "  inflating: COVID_IEEE/covid/1B734A89-A1BF-49A8-A1D3-66FAFA4FAC5D.jpeg  \n",
            "  inflating: COVID_IEEE/covid/23E99E2E-447C-46E5-8EB2-D35D12473C39.png  \n",
            "  inflating: COVID_IEEE/covid/2966893D-5DDF-4B68-9E2B-4979D5956C8E.jpeg  \n",
            "  inflating: COVID_IEEE/covid/2C26F453-AF3B-4517-BB9E-802CF2179543.jpeg  \n",
            "  inflating: COVID_IEEE/covid/31BA3780-2323-493F-8AED-62081B9C383B.jpeg  \n",
            "  inflating: COVID_IEEE/covid/353889E0-A1E8-4F9E-A0B8-F24F36BCFBFB.jpeg  \n",
            "  inflating: COVID_IEEE/covid/38_A.jpg  \n",
            "  inflating: COVID_IEEE/covid/41591_2020_819_Fig1_HTML.webp-day10.png  \n",
            "  inflating: COVID_IEEE/covid/41591_2020_819_Fig1_HTML.webp-day5.png  \n",
            "  inflating: COVID_IEEE/covid/4e43e48d52c9e2d4c6c1fb9bc1544f_jumbo.jpeg  \n",
            "  inflating: COVID_IEEE/covid/53EC07C9-5CC6-4BE4-9B6F-D7B0D72AAA7E.jpeg  \n",
            "  inflating: COVID_IEEE/covid/58cb9263f16e94305c730685358e4e_jumbo.jpeg  \n",
            "  inflating: COVID_IEEE/covid/6C94A287-C059-46A0-8600-AFB95F4727B7.jpeg  \n",
            "  inflating: COVID_IEEE/covid/6CB4EFC6-68FA-4CD5-940C-BEFA8DAFE9A7.jpeg  \n",
            "  inflating: COVID_IEEE/covid/6b3bdbc31f65230b8cdcc3cef5f8ba8a-40ac-0.jpg  \n",
            "  inflating: COVID_IEEE/covid/6b44464d-73a7-4cf3-bbb6-ffe7168300e3.annot.original.jpeg  \n",
            "  inflating: COVID_IEEE/covid/7-fatal-covid19.jpg  \n",
            "  inflating: COVID_IEEE/covid/7AF6C1AF-D249-4BD2-8C26-449304105D03.jpeg  \n",
            "  inflating: COVID_IEEE/covid/7C69C012-7479-493F-8722-ABC29C60A2DD.jpeg  \n",
            "  inflating: COVID_IEEE/covid/80446565-E090-4187-A031-9D3CEAA586C8.jpeg  \n",
            "  inflating: COVID_IEEE/covid/85E52EB3-56E9-4D67-82DA-DEA247C82886.jpeg  \n",
            "  inflating: COVID_IEEE/covid/88de9d8c39e946abd495b37cd07d89e5-2ee6-0.jpg  \n",
            "  inflating: COVID_IEEE/covid/88de9d8c39e946abd495b37cd07d89e5-6531-0.jpg  \n",
            "  inflating: COVID_IEEE/covid/8FDE8DBA-CFBD-4B4C-B1A4-6F36A93B7E87.jpeg  \n",
            "  inflating: COVID_IEEE/covid/93FE0BB1-022D-4F24-9727-987A07975FFB.jpeg  \n",
            "  inflating: COVID_IEEE/covid/9C34AF49-E589-44D5-92D3-168B3B04E4A6.jpeg  \n",
            "  inflating: COVID_IEEE/covid/9fdd3c3032296fd04d2cad5d9070d4_jumbo.jpeg  \n",
            "  inflating: COVID_IEEE/covid/AR-1.jpg  \n",
            "  inflating: COVID_IEEE/covid/AR-2.jpg  \n",
            "  inflating: COVID_IEEE/covid/B2D20576-00B7-4519-A415-72DE29C90C34.jpeg  \n",
            "  inflating: COVID_IEEE/covid/CASE21_XRAY_1.jpg  \n",
            "  inflating: COVID_IEEE/covid/CASE22_XRAY_1.jpg  \n",
            "  inflating: COVID_IEEE/covid/CASE23_XRAY_1.jpg  \n",
            "  inflating: COVID_IEEE/covid/CASE24_XRAY_1.jpg  \n",
            "  inflating: COVID_IEEE/covid/CASE25_XRAY_1.jpg  \n",
            "  inflating: COVID_IEEE/covid/CASE26_XRAY_1.jpg  \n",
            "  inflating: COVID_IEEE/covid/CASE27_XRAY_1.jpg  \n",
            "  inflating: COVID_IEEE/covid/CASE29_XRAY_1.jpg  \n",
            "  inflating: COVID_IEEE/covid/CASE30_XRAY_1.jpg  \n",
            "  inflating: COVID_IEEE/covid/CASE31_XRAY_1.jpg  \n",
            "  inflating: COVID_IEEE/covid/CASE32_XRAY_1.jpg  \n",
            "  inflating: COVID_IEEE/covid/CASE54_XRAY_1.jpeg  \n",
            "  inflating: COVID_IEEE/covid/CASE55_XRAY_1.jpeg  \n",
            "  inflating: COVID_IEEE/covid/CASE56_XRAY_1.jpeg  \n",
            "  inflating: COVID_IEEE/covid/CASE57_XRAY_1.jpeg  \n",
            "  inflating: COVID_IEEE/covid/CASE58_XRAY_1.jpeg  \n",
            "  inflating: COVID_IEEE/covid/CASE59_XRAY_1.jpeg  \n",
            "  inflating: COVID_IEEE/covid/CASE60_XRAY_1.jpeg  \n",
            "  inflating: COVID_IEEE/covid/CASE60_XRAY_2.jpeg  \n",
            "  inflating: COVID_IEEE/covid/CASE61_XRAY_1.jpeg  \n",
            "  inflating: COVID_IEEE/covid/CASE63_XRAY_1.jpeg  \n",
            "  inflating: COVID_IEEE/covid/CASE64_XRAY_1.jpeg  \n",
            "  inflating: COVID_IEEE/covid/CASE65_XRAY_2.jpeg  \n",
            "  inflating: COVID_IEEE/covid/CASE66_XRAY_1.jpeg  \n",
            "  inflating: COVID_IEEE/covid/CASE67_XRAY_1.jpeg  \n",
            "  inflating: COVID_IEEE/covid/CD50BA96-6982-4C80-AE7B-5F67ACDBFA56.jpeg  \n",
            "  inflating: COVID_IEEE/covid/E63574A7-4188-4C8D-8D17-9D67A18A1AFA.jpeg  \n",
            "  inflating: COVID_IEEE/covid/EUNJ-OBXgAEV_1y.jfif  \n",
            "  inflating: COVID_IEEE/covid/EUNJ6ZsXkAYcyW8.jfif  \n",
            "  inflating: COVID_IEEE/covid/EUNJ81ZXYAIpXGC.jfif  \n",
            "  inflating: COVID_IEEE/covid/EUNJ_q6WsAALXas.jfif  \n",
            "  inflating: COVID_IEEE/covid/EUNJkQbWsAAJhw-.jfif  \n",
            "  inflating: COVID_IEEE/covid/EUNK-sHWoAAttJB.jfif  \n",
            "  inflating: COVID_IEEE/covid/EUNK5-hXgAE_LZq.jfif  \n",
            "  inflating: COVID_IEEE/covid/EUNK7bZWsAAOiRf.jfif  \n",
            "  inflating: COVID_IEEE/covid/EUNK9aGXgAAjyz-.jfif  \n",
            "  inflating: COVID_IEEE/covid/EUNKdRwX0AkSuqk.jfif  \n",
            "  inflating: COVID_IEEE/covid/EUNKfK4XYAsZEGJ.jfif  \n",
            "  inflating: COVID_IEEE/covid/EUNKhePXkAcPjIs.jfif  \n",
            "  inflating: COVID_IEEE/covid/EUNL-rAXkAUdgDs.jfif  \n",
            "  inflating: COVID_IEEE/covid/EUNL8znX0AA_dzC.jfif  \n",
            "  inflating: COVID_IEEE/covid/EUNLZGfWsAMl1t1.jfif  \n",
            "  inflating: COVID_IEEE/covid/EUNL_1FXkAEloX3.jfif  \n",
            "  inflating: COVID_IEEE/covid/EUNLaa6XkAA4k5p.jfif  \n",
            "  inflating: COVID_IEEE/covid/EUNLptKWkAEwbk4.jfif  \n",
            "  inflating: COVID_IEEE/covid/EUNM3uLX0AALWoL.jfif  \n",
            "  inflating: COVID_IEEE/covid/EUNM6J0XsAEEAl9.jfif  \n",
            "  inflating: COVID_IEEE/covid/EUNMA6SWAAMHods.jfif  \n",
            "  inflating: COVID_IEEE/covid/EUNMSP9XgAUp2gT.jfif  \n",
            "  inflating: COVID_IEEE/covid/EUNN1FeWkAUvcPK.jfif  \n",
            "  inflating: COVID_IEEE/covid/EUNN2g1XgAMzICz.jfif  \n",
            "  inflating: COVID_IEEE/covid/EUNN3psWAAASg3p.jfif  \n",
            "  inflating: COVID_IEEE/covid/EUNNeTSXYAMAVE8.jfif  \n",
            "  inflating: COVID_IEEE/covid/EUNNfv2XYAAtYQo.jfif  \n",
            "  inflating: COVID_IEEE/covid/EUNNhF6WkAAwedM.jfif  \n",
            "  inflating: COVID_IEEE/covid/EUNNiDVXkAYP1W-.jfif  \n",
            "  inflating: COVID_IEEE/covid/EUNO4YLXQAMnLsT.jfif  \n",
            "  inflating: COVID_IEEE/covid/EUNO5pTWsAE0rw_.jfif  \n",
            "  inflating: COVID_IEEE/covid/EUNO77QXYAA8MPb.jfif  \n",
            "  inflating: COVID_IEEE/covid/EUNO9IkXgAAazUZ.jfif  \n",
            "  inflating: COVID_IEEE/covid/EUNOXdOXYAARIWj.jfif  \n",
            "  inflating: COVID_IEEE/covid/EUNOYrWXYAEWy3r.jfif  \n",
            "  inflating: COVID_IEEE/covid/EUNPInyXkAIvcOX.jfif  \n",
            "  inflating: COVID_IEEE/covid/EUNP_R3XgAMivfJ.jfif  \n",
            "  inflating: COVID_IEEE/covid/EUNPho1WsAg4eE6.jfif  \n",
            "  inflating: COVID_IEEE/covid/EUNPrNHWoAA4e2Z.jfif  \n",
            "  inflating: COVID_IEEE/covid/EUNPuoiWoAAW435.jfif  \n",
            "  inflating: COVID_IEEE/covid/EUNPvyQWAAEICd1.jfif  \n",
            "  inflating: COVID_IEEE/covid/EUNQ4TDXkAAxvth.jfif  \n",
            "  inflating: COVID_IEEE/covid/EUNQAlZXsAEfH0_.jfif  \n",
            "  inflating: COVID_IEEE/covid/EUNQCewXYAAOxkU.jfif  \n",
            "  inflating: COVID_IEEE/covid/EUNQEglXkAM0MA0.jfif  \n",
            "  inflating: COVID_IEEE/covid/EUNQY7LXQAAk6N6.jfif  \n",
            "  inflating: COVID_IEEE/covid/EUNQ_O5WkAEkfoN.jfif  \n",
            "  inflating: COVID_IEEE/covid/EUNQb-bXQAEvKWx.jfif  \n",
            "  inflating: COVID_IEEE/covid/EUNQnsTXsAE8zqD.jfif  \n",
            "  inflating: COVID_IEEE/covid/EUNQpLCWkAA8EeI.jfif  \n",
            "  inflating: COVID_IEEE/covid/EUNQqWYX0AA_CHh.jfif  \n",
            "  inflating: COVID_IEEE/covid/EUNQrxvWsAElFV0.jfif  \n",
            "  inflating: COVID_IEEE/covid/EUNR30nXkAYYWYN.jfif  \n",
            "  inflating: COVID_IEEE/covid/EUNRORPXgAEm4oe.jfif  \n",
            "  inflating: COVID_IEEE/covid/EUNRQsxWAAM_rOW.jfif  \n",
            "  inflating: COVID_IEEE/covid/EUNRcbKXQAAAThb.jfif  \n",
            "  inflating: COVID_IEEE/covid/EUNRp5aX0AE3btZ.jfif  \n",
            "  inflating: COVID_IEEE/covid/EUNRrxJXsAIrgas.jfif  \n",
            "  inflating: COVID_IEEE/covid/EUNSJVAXsAADTXF.jfif  \n",
            "  inflating: COVID_IEEE/covid/EUNT6a4X0AE38he.jfif  \n",
            "  inflating: COVID_IEEE/covid/EUNT7qdWoAAJDkc.jfif  \n",
            "  inflating: COVID_IEEE/covid/EUNT86fWsAE3k1u.jfif  \n",
            "  inflating: COVID_IEEE/covid/EUNTHE_XkAAtmiY.jfif  \n",
            "  inflating: COVID_IEEE/covid/EUNTIOHXkAEr5tE.jfif  \n",
            "  inflating: COVID_IEEE/covid/EUNTZLxWoAAtKn5.jfif  \n",
            "  inflating: COVID_IEEE/covid/EUNT_GzXsAAxpdg.jfif  \n",
            "  inflating: COVID_IEEE/covid/EUNTay6XkAAobzP.jfif  \n",
            "  inflating: COVID_IEEE/covid/EUNTcLTXYAEzvUG.jfif  \n",
            "  inflating: COVID_IEEE/covid/EUNU62aXQAIUo_F.jfif  \n",
            "  inflating: COVID_IEEE/covid/EUNU6cSXgAATX_h.jfif  \n",
            "  inflating: COVID_IEEE/covid/EUNU8D_WAAA6Kon.jfif  \n",
            "  inflating: COVID_IEEE/covid/EUNUa7YXgAEu4hn.jfif  \n",
            "  inflating: COVID_IEEE/covid/EUNUghfXkAM7VHk.jfif  \n",
            "  inflating: COVID_IEEE/covid/EUNUiJ0WAAE9I2Q.jfif  \n",
            "  inflating: COVID_IEEE/covid/EUNV3ZZWkAAo3wq.jfif  \n",
            "  inflating: COVID_IEEE/covid/EUNVH9LWoAI9DVJ.jfif  \n",
            "  inflating: COVID_IEEE/covid/EUNVJLXXsAAc2bH.jfif  \n",
            "  inflating: COVID_IEEE/covid/EUNVKIjWoAAwF9b.jfif  \n",
            "  inflating: COVID_IEEE/covid/EUNVLFTWkAExRZS.jfif  \n",
            "  inflating: COVID_IEEE/covid/EUNVUpwWoAAoaFw.jfif  \n",
            "  inflating: COVID_IEEE/covid/EUNVaHHXYAIkYgM.jfif  \n",
            "  inflating: COVID_IEEE/covid/EUNVlT9X0AAJyqS.jfif  \n",
            "  inflating: COVID_IEEE/covid/EUNVtm2X0AEXFs1.jfif  \n",
            "  inflating: COVID_IEEE/covid/EUNW3p_WAAETF-h.jfif  \n",
            "  inflating: COVID_IEEE/covid/EUNW4xcWsAE8G4S.jfif  \n",
            "  inflating: COVID_IEEE/covid/EUNW5rCXYAAC9bf.jfif  \n",
            "  inflating: COVID_IEEE/covid/EUNW6wFWAAAgk0W.jfif  \n",
            "  inflating: COVID_IEEE/covid/EUNWBoVXYAMNmRi.jfif  \n",
            "  inflating: COVID_IEEE/covid/EUNWPaTWAAEhWhl.jfif  \n",
            "  inflating: COVID_IEEE/covid/EUNWUd3XYAAd7s1.jfif  \n",
            "  inflating: COVID_IEEE/covid/EUNWVT7X0AA3MzP.jfif  \n",
            "  inflating: COVID_IEEE/covid/EUNWmR3XsAARmxa.jfif  \n",
            "  inflating: COVID_IEEE/covid/EUNWoZ8X0AIBvCM.jfif  \n",
            "  inflating: COVID_IEEE/covid/EUNWpWGWoAMgXxO.jfif  \n",
            "  inflating: COVID_IEEE/covid/EUNXDMHX0AEioiZ.jfif  \n",
            "  inflating: COVID_IEEE/covid/EUNXXzOXsAEaQrp.jfif  \n",
            "  inflating: COVID_IEEE/covid/EUNXXzTWoAA9oNk.jfif  \n",
            "  inflating: COVID_IEEE/covid/EUNXfwIWsAEHSIL.jfif  \n",
            "  inflating: COVID_IEEE/covid/EUNYKqDXYAIcyty.jfif  \n",
            "  inflating: COVID_IEEE/covid/EUNYQzRWsAIhJg2.jfif  \n",
            "  inflating: COVID_IEEE/covid/EUNYTfgXkAEUybN.jfif  \n",
            "  inflating: COVID_IEEE/covid/EUNYaU8XQAAvS0z.jfif  \n",
            "  inflating: COVID_IEEE/covid/EUNYaU8XsAE16Y1.jfif  \n",
            "  inflating: COVID_IEEE/covid/EUR1DIHXYAIpOqi.jfif  \n",
            "  inflating: COVID_IEEE/covid/EUR1EeAWkAEZPqh.jfif  \n",
            "  inflating: COVID_IEEE/covid/EUR2CTsWoAAo4O9.jfif  \n",
            "  inflating: COVID_IEEE/covid/EUR2DcOXgAEg1Xt.jfif  \n",
            "  inflating: COVID_IEEE/covid/EURyFBbXYAAp3GU.jfif  \n",
            "  inflating: COVID_IEEE/covid/EURyGCJWAAEbSwa.jfif  \n",
            "  inflating: COVID_IEEE/covid/EURyHSzXgAE4O-n.jfif  \n",
            "  inflating: COVID_IEEE/covid/EURz8m_WoAAZle7.jfif  \n",
            "  inflating: COVID_IEEE/covid/EURzhIvXsAY5tyz.jfif  \n",
            "  inflating: COVID_IEEE/covid/EURzicIWkAEQV0B.jfif  \n",
            "  inflating: COVID_IEEE/covid/EURzjweWAAAGOO9.jfif  \n",
            "  inflating: COVID_IEEE/covid/EURzk-YXsAERAsI.jfif  \n",
            "  inflating: COVID_IEEE/covid/F2DE909F-E19C-4900-92F5-8F435B031AC6.jpeg  \n",
            "  inflating: COVID_IEEE/covid/F4341CE7-73C9-45C6-99C8-8567A5484B63.jpeg  \n",
            "  inflating: COVID_IEEE/covid/F63AB6CE-1968-4154-A70F-913AF154F53D.jpeg  \n",
            "  inflating: COVID_IEEE/covid/FE9F9A5D-2830-46F9-851B-1FF4534959BE.jpeg  \n",
            "  inflating: COVID_IEEE/covid/ae6c954c0039de4b5edee53865ffee43-e6c8-0.jpg  \n",
            "  inflating: COVID_IEEE/covid/all14238-fig-0001-m-b.jpg  \n",
            "  inflating: COVID_IEEE/covid/all14238-fig-0001-m-c.jpg  \n",
            "  inflating: COVID_IEEE/covid/auntminnie-a-2020_01_28_23_51_6665_2020_01_28_Vietnam_coronavirus.jpeg  \n",
            "  inflating: COVID_IEEE/covid/auntminnie-b-2020_01_28_23_51_6665_2020_01_28_Vietnam_coronavirus.jpeg  \n",
            "  inflating: COVID_IEEE/covid/auntminnie-c-2020_01_28_23_51_6665_2020_01_28_Vietnam_coronavirus.jpeg  \n",
            "  inflating: COVID_IEEE/covid/auntminnie-d-2020_01_28_23_51_6665_2020_01_28_Vietnam_coronavirus.jpeg  \n",
            "  inflating: COVID_IEEE/covid/case13_xray_1.jpeg  \n",
            "  inflating: COVID_IEEE/covid/case14_xray_1.jpeg  \n",
            "  inflating: COVID_IEEE/covid/case2_xray_1.jpeg  \n",
            "  inflating: COVID_IEEE/covid/case34_Xray_1.jpeg  \n",
            "  inflating: COVID_IEEE/covid/case34_Xray_3.jpeg  \n",
            "  inflating: COVID_IEEE/covid/case38_Xray_1.jpeg  \n",
            "  inflating: COVID_IEEE/covid/case40_Xray_1.jpeg  \n",
            "  inflating: COVID_IEEE/covid/case41_Xray_1.jpeg  \n",
            "  inflating: COVID_IEEE/covid/case42_Xray_1.jpeg  \n",
            "  inflating: COVID_IEEE/covid/case43_Xray_1.jpeg  \n",
            "  inflating: COVID_IEEE/covid/case44_Xray_1.jpeg  \n",
            "  inflating: COVID_IEEE/covid/case44_Xray_2.jpeg  \n",
            "  inflating: COVID_IEEE/covid/case46_Xray_1.jpeg  \n",
            "  inflating: COVID_IEEE/covid/case47_Xray_1.jpeg  \n",
            "  inflating: COVID_IEEE/covid/case47_Xray_2.jpeg  \n",
            "  inflating: COVID_IEEE/covid/case47_Xray_3.jpeg  \n",
            "  inflating: COVID_IEEE/covid/case48_Xray_1.jpeg  \n",
            "  inflating: COVID_IEEE/covid/case48_Xray_2.jpeg  \n",
            "  inflating: COVID_IEEE/covid/case48_Xray_3.jpeg  \n",
            "  inflating: COVID_IEEE/covid/case48_Xray_4.jpeg  \n",
            "  inflating: COVID_IEEE/covid/case48_Xray_5.jpeg  \n",
            "  inflating: COVID_IEEE/covid/case4_xray_1.jpeg  \n",
            "  inflating: COVID_IEEE/covid/case50_Xray_1.png  \n",
            "  inflating: COVID_IEEE/covid/case68_xray_1.jpeg  \n",
            "  inflating: COVID_IEEE/covid/case70_xray_1.jpeg  \n",
            "  inflating: COVID_IEEE/covid/case70_xray_3.jpeg  \n",
            "  inflating: COVID_IEEE/covid/case7_xray_1.jpeg  \n",
            "  inflating: COVID_IEEE/covid/case8_xray_1.jpeg  \n",
            "  inflating: COVID_IEEE/covid/case8_xray_2.jpeg  \n",
            "  inflating: COVID_IEEE/covid/ciaa199.pdf-001-a.png  \n",
            "  inflating: COVID_IEEE/covid/ciaa199.pdf-001-b.png  \n",
            "  inflating: COVID_IEEE/covid/ciaa199.pdf-001-c.png  \n",
            "  inflating: COVID_IEEE/covid/covid-19-caso-70-1-PA.jpg  \n",
            "  inflating: COVID_IEEE/covid/covid-19-infection-exclusive-gastrointestinal-symptoms-pa.png  \n",
            "  inflating: COVID_IEEE/covid/covid-19-pneumonia-12.jpg  \n",
            "  inflating: COVID_IEEE/covid/covid-19-pneumonia-14-PA.png  \n",
            "  inflating: COVID_IEEE/covid/covid-19-pneumonia-15-PA.jpg  \n",
            "  inflating: COVID_IEEE/covid/covid-19-pneumonia-19.jpg  \n",
            "  inflating: COVID_IEEE/covid/covid-19-pneumonia-2.jpg  \n",
            "  inflating: COVID_IEEE/covid/covid-19-pneumonia-20-pa-on-admission.jpg  \n",
            "  inflating: COVID_IEEE/covid/covid-19-pneumonia-20.jpg  \n",
            "  inflating: COVID_IEEE/covid/covid-19-pneumonia-28.png  \n",
            "  inflating: COVID_IEEE/covid/covid-19-pneumonia-30-PA.jpg  \n",
            "  inflating: COVID_IEEE/covid/covid-19-pneumonia-34.png  \n",
            "  inflating: COVID_IEEE/covid/covid-19-pneumonia-35-1.jpg  \n",
            "  inflating: COVID_IEEE/covid/covid-19-pneumonia-35-2.jpg  \n",
            "  inflating: COVID_IEEE/covid/covid-19-pneumonia-38-pa.jpg  \n",
            "  inflating: COVID_IEEE/covid/covid-19-pneumonia-44-day-0.jpeg  \n",
            "  inflating: COVID_IEEE/covid/covid-19-pneumonia-53.jpg  \n",
            "  inflating: COVID_IEEE/covid/covid-19-pneumonia-58-day-3.jpg  \n",
            "  inflating: COVID_IEEE/covid/covid-19-pneumonia-58-day-7.jpg  \n",
            "  inflating: COVID_IEEE/covid/covid-19-pneumonia-58-day-9.jpg  \n",
            "  inflating: COVID_IEEE/covid/covid-19-pneumonia-67.jpeg  \n",
            "  inflating: COVID_IEEE/covid/covid-19-pneumonia-7-PA.jpg  \n",
            "  inflating: COVID_IEEE/covid/covid-19-pneumonia-bilateral.jpg  \n",
            "  inflating: COVID_IEEE/covid/covid-19-pneumonia-evolution-over-a-week-1-day0-PA.jpg  \n",
            "  inflating: COVID_IEEE/covid/covid1900106.png  \n",
            "  inflating: COVID_IEEE/covid/covid1900107.png  \n",
            "  inflating: COVID_IEEE/covid/covid1900108.png  \n",
            "  inflating: COVID_IEEE/covid/covid1900117.png  \n",
            "  inflating: COVID_IEEE/covid/covid1900118.png  \n",
            "  inflating: COVID_IEEE/covid/covid1900119.png  \n",
            "  inflating: COVID_IEEE/covid/covid1900127.png  \n",
            "  inflating: COVID_IEEE/covid/covid1900132.png  \n",
            "  inflating: COVID_IEEE/covid/covid1900137.png  \n",
            "  inflating: COVID_IEEE/covid/covid1900145.png  \n",
            "  inflating: COVID_IEEE/covid/covid1900147.png  \n",
            "  inflating: COVID_IEEE/covid/covid1900149.png  \n",
            "  inflating: COVID_IEEE/covid/covid1900150.png  \n",
            "  inflating: COVID_IEEE/covid/covid1900151.png  \n",
            "  inflating: COVID_IEEE/covid/covid1900154.png  \n",
            "  inflating: COVID_IEEE/covid/covid1900155.png  \n",
            "  inflating: COVID_IEEE/covid/covid1900156.png  \n",
            "  inflating: COVID_IEEE/covid/covid1900161.png  \n",
            "  inflating: COVID_IEEE/covid/covid1900163.png  \n",
            "  inflating: COVID_IEEE/covid/covid1900164.png  \n",
            "  inflating: COVID_IEEE/covid/covid1900165.png  \n",
            "  inflating: COVID_IEEE/covid/covid1900166.png  \n",
            "  inflating: COVID_IEEE/covid/covid1900167.png  \n",
            "  inflating: COVID_IEEE/covid/covid1900170.png  \n",
            "  inflating: COVID_IEEE/covid/covid1900171.png  \n",
            "  inflating: COVID_IEEE/covid/covid1900172.png  \n",
            "  inflating: COVID_IEEE/covid/covid1900174.png  \n",
            "  inflating: COVID_IEEE/covid/covid1900175.png  \n",
            "  inflating: COVID_IEEE/covid/covid1900179.png  \n",
            "  inflating: COVID_IEEE/covid/covid1900187.png  \n",
            "  inflating: COVID_IEEE/covid/covid1900189.png  \n",
            "  inflating: COVID_IEEE/covid/covid1900195.png  \n",
            "  inflating: COVID_IEEE/covid/covid1900196.png  \n",
            "  inflating: COVID_IEEE/covid/covid1900200.png  \n",
            "  inflating: COVID_IEEE/covid/covid1900202.png  \n",
            "  inflating: COVID_IEEE/covid/covid1900210.png  \n",
            "  inflating: COVID_IEEE/covid/covid1900215.png  \n",
            "  inflating: COVID_IEEE/covid/covid1900221.png  \n",
            "  inflating: COVID_IEEE/covid/covid1900229.png  \n",
            "  inflating: COVID_IEEE/covid/covid1900239.png  \n",
            "  inflating: COVID_IEEE/covid/covid1900240.png  \n",
            "  inflating: COVID_IEEE/covid/covid1900241.png  \n",
            "  inflating: COVID_IEEE/covid/covid1900242.png  \n",
            "  inflating: COVID_IEEE/covid/covid1900244.png  \n",
            "  inflating: COVID_IEEE/covid/covid1900246.png  \n",
            "  inflating: COVID_IEEE/covid/covid1900249.png  \n",
            "  inflating: COVID_IEEE/covid/covid1900252.png  \n",
            "  inflating: COVID_IEEE/covid/covid1900256.png  \n",
            "  inflating: COVID_IEEE/covid/covid1900258.png  \n",
            "  inflating: COVID_IEEE/covid/covid190026.png  \n",
            "  inflating: COVID_IEEE/covid/covid1900260.png  \n",
            "  inflating: COVID_IEEE/covid/covid1900263.png  \n",
            "  inflating: COVID_IEEE/covid/covid1900266.png  \n",
            "  inflating: COVID_IEEE/covid/covid1900268.png  \n",
            "  inflating: COVID_IEEE/covid/covid1900269.png  \n",
            "  inflating: COVID_IEEE/covid/covid1900272.png  \n",
            "  inflating: COVID_IEEE/covid/covid1900275.png  \n",
            "  inflating: COVID_IEEE/covid/covid1900277.png  \n",
            "  inflating: COVID_IEEE/covid/covid1900283.png  \n",
            "  inflating: COVID_IEEE/covid/covid1900286.png  \n",
            "  inflating: COVID_IEEE/covid/covid1900287.png  \n",
            "  inflating: COVID_IEEE/covid/covid1900289.png  \n",
            "  inflating: COVID_IEEE/covid/covid1900294.png  \n",
            "  inflating: COVID_IEEE/covid/covid1900299.png  \n",
            "  inflating: COVID_IEEE/covid/covid19003.png  \n",
            "  inflating: COVID_IEEE/covid/covid190030.png  \n",
            "  inflating: COVID_IEEE/covid/covid1900300.png  \n",
            "  inflating: COVID_IEEE/covid/covid1900301.png  \n",
            "  inflating: COVID_IEEE/covid/covid1900302.png  \n",
            "  inflating: COVID_IEEE/covid/covid1900303.png  \n",
            "  inflating: COVID_IEEE/covid/covid1900307.png  \n",
            "  inflating: COVID_IEEE/covid/covid1900308.png  \n",
            "  inflating: COVID_IEEE/covid/covid1900309.png  \n",
            "  inflating: COVID_IEEE/covid/covid1900313.png  \n",
            "  inflating: COVID_IEEE/covid/covid1900314.png  \n",
            "  inflating: COVID_IEEE/covid/covid1900315.png  \n",
            "  inflating: COVID_IEEE/covid/covid1900317.png  \n",
            "  inflating: COVID_IEEE/covid/covid1900318.png  \n",
            "  inflating: COVID_IEEE/covid/covid1900322.png  \n",
            "  inflating: COVID_IEEE/covid/covid1900324.png  \n",
            "  inflating: COVID_IEEE/covid/covid1900329.png  \n",
            "  inflating: COVID_IEEE/covid/covid1900333.png  \n",
            "  inflating: COVID_IEEE/covid/covid1900334.png  \n",
            "  inflating: COVID_IEEE/covid/covid1900336.png  \n",
            "  inflating: COVID_IEEE/covid/covid1900339.png  \n",
            "  inflating: COVID_IEEE/covid/covid1900342.png  \n",
            "  inflating: COVID_IEEE/covid/covid1900343.png  \n",
            "  inflating: COVID_IEEE/covid/covid1900344.png  \n",
            "  inflating: COVID_IEEE/covid/covid1900345.png  \n",
            "  inflating: COVID_IEEE/covid/covid1900346.png  \n",
            "  inflating: COVID_IEEE/covid/covid1900347.png  \n",
            "  inflating: COVID_IEEE/covid/covid1900348.png  \n",
            "  inflating: COVID_IEEE/covid/covid1900349.png  \n",
            "  inflating: COVID_IEEE/covid/covid1900352.png  \n",
            "  inflating: COVID_IEEE/covid/covid1900356.png  \n",
            "  inflating: COVID_IEEE/covid/covid190036.png  \n",
            "  inflating: COVID_IEEE/covid/covid1900364.png  \n",
            "  inflating: COVID_IEEE/covid/covid1900367.png  \n",
            "  inflating: COVID_IEEE/covid/covid1900370.png  \n",
            "  inflating: COVID_IEEE/covid/covid1900373.png  \n",
            "  inflating: COVID_IEEE/covid/covid1900377.png  \n",
            "  inflating: COVID_IEEE/covid/covid1900381.png  \n",
            "  inflating: COVID_IEEE/covid/covid1900384.png  \n",
            "  inflating: COVID_IEEE/covid/covid1900385.png  \n",
            "  inflating: COVID_IEEE/covid/covid1900388.png  \n",
            "  inflating: COVID_IEEE/covid/covid1900389.png  \n",
            "  inflating: COVID_IEEE/covid/covid1900394.png  \n",
            "  inflating: COVID_IEEE/covid/covid1900395.png  \n",
            "  inflating: COVID_IEEE/covid/covid1900398.png  \n",
            "  inflating: COVID_IEEE/covid/covid1900399.png  \n",
            "  inflating: COVID_IEEE/covid/covid19004.png  \n",
            "  inflating: COVID_IEEE/covid/covid190040.png  \n",
            "  inflating: COVID_IEEE/covid/covid1900402.png  \n",
            "  inflating: COVID_IEEE/covid/covid1900404.png  \n",
            "  inflating: COVID_IEEE/covid/covid1900409.png  \n",
            "  inflating: COVID_IEEE/covid/covid1900410.png  \n",
            "  inflating: COVID_IEEE/covid/covid1900412.png  \n",
            "  inflating: COVID_IEEE/covid/covid1900413.png  \n",
            "  inflating: COVID_IEEE/covid/covid1900415.png  \n",
            "  inflating: COVID_IEEE/covid/covid1900416.png  \n",
            "  inflating: COVID_IEEE/covid/covid1900418.png  \n",
            "  inflating: COVID_IEEE/covid/covid190042.png  \n",
            "  inflating: COVID_IEEE/covid/covid1900420.png  \n",
            "  inflating: COVID_IEEE/covid/covid1900424.png  \n",
            "  inflating: COVID_IEEE/covid/covid1900429.png  \n",
            "  inflating: COVID_IEEE/covid/covid190043.png  \n",
            "  inflating: COVID_IEEE/covid/covid1900432.png  \n",
            "  inflating: COVID_IEEE/covid/covid1900433.png  \n",
            "  inflating: COVID_IEEE/covid/covid1900435.png  \n",
            "  inflating: COVID_IEEE/covid/covid1900437.png  \n",
            "  inflating: COVID_IEEE/covid/covid1900442.png  \n",
            "  inflating: COVID_IEEE/covid/covid1900444.png  \n",
            "  inflating: COVID_IEEE/covid/covid1900449.png  \n",
            "  inflating: COVID_IEEE/covid/covid190045.png  \n",
            "  inflating: COVID_IEEE/covid/covid1900450.png  \n",
            "  inflating: COVID_IEEE/covid/covid1900456.png  \n",
            "  inflating: COVID_IEEE/covid/covid1900457.png  \n",
            "  inflating: COVID_IEEE/covid/covid1900458.png  \n",
            "  inflating: COVID_IEEE/covid/covid1900464.png  \n",
            "  inflating: COVID_IEEE/covid/covid1900467.png  \n",
            "  inflating: COVID_IEEE/covid/covid190047.png  \n",
            "  inflating: COVID_IEEE/covid/covid1900470.png  \n",
            "  inflating: COVID_IEEE/covid/covid1900475.png  \n",
            "  inflating: COVID_IEEE/covid/covid1900483.png  \n",
            "  inflating: COVID_IEEE/covid/covid1900491.png  \n",
            "  inflating: COVID_IEEE/covid/covid1900492.png  \n",
            "  inflating: COVID_IEEE/covid/covid1900498.png  \n",
            "  inflating: COVID_IEEE/covid/covid19005.png  \n",
            "  inflating: COVID_IEEE/covid/covid1900502.png  \n",
            "  inflating: COVID_IEEE/covid/covid1900505.png  \n",
            "  inflating: COVID_IEEE/covid/covid1900507.png  \n",
            "  inflating: COVID_IEEE/covid/covid1900508.png  \n",
            "  inflating: COVID_IEEE/covid/covid1900509.png  \n",
            "  inflating: COVID_IEEE/covid/covid1900512.png  \n",
            "  inflating: COVID_IEEE/covid/covid1900515.png  \n",
            "  inflating: COVID_IEEE/covid/covid1900523.png  \n",
            "  inflating: COVID_IEEE/covid/covid1900531.png  \n",
            "  inflating: COVID_IEEE/covid/covid1900533.png  \n",
            "  inflating: COVID_IEEE/covid/covid190054.png  \n",
            "  inflating: COVID_IEEE/covid/covid1900541.png  \n",
            "  inflating: COVID_IEEE/covid/covid1900542.png  \n",
            "  inflating: COVID_IEEE/covid/covid1900544.png  \n",
            "  inflating: COVID_IEEE/covid/covid1900547.png  \n",
            "  inflating: COVID_IEEE/covid/covid1900548.png  \n",
            "  inflating: COVID_IEEE/covid/covid1900549.png  \n",
            "  inflating: COVID_IEEE/covid/covid190055.png  \n",
            "  inflating: COVID_IEEE/covid/covid1900551.png  \n",
            "  inflating: COVID_IEEE/covid/covid1900555.png  \n",
            "  inflating: COVID_IEEE/covid/covid1900558.png  \n",
            "  inflating: COVID_IEEE/covid/covid1900561.png  \n",
            "  inflating: COVID_IEEE/covid/covid1900563.png  \n",
            "  inflating: COVID_IEEE/covid/covid1900567.png  \n",
            "  inflating: COVID_IEEE/covid/covid1900569.png  \n",
            "  inflating: COVID_IEEE/covid/covid1900571.png  \n",
            "  inflating: COVID_IEEE/covid/covid1900572.png  \n",
            "  inflating: COVID_IEEE/covid/covid1900574.png  \n",
            "  inflating: COVID_IEEE/covid/covid1900576.png  \n",
            "  inflating: COVID_IEEE/covid/covid1900578.png  \n",
            "  inflating: COVID_IEEE/covid/covid1900580.png  \n",
            "  inflating: COVID_IEEE/covid/covid1900582.png  \n",
            "  inflating: COVID_IEEE/covid/covid1900584.png  \n",
            "  inflating: COVID_IEEE/covid/covid190059.png  \n",
            "  inflating: COVID_IEEE/covid/covid1900590.png  \n",
            "  inflating: COVID_IEEE/covid/covid1900593.png  \n",
            "  inflating: COVID_IEEE/covid/covid1900594.png  \n",
            "  inflating: COVID_IEEE/covid/covid1900595.png  \n",
            "  inflating: COVID_IEEE/covid/covid1900596.png  \n",
            "  inflating: COVID_IEEE/covid/covid1900598.png  \n",
            "  inflating: COVID_IEEE/covid/covid1900601.png  \n",
            "  inflating: COVID_IEEE/covid/covid1900602.png  \n",
            "  inflating: COVID_IEEE/covid/covid1900607.png  \n",
            "  inflating: COVID_IEEE/covid/covid1900608.png  \n",
            "  inflating: COVID_IEEE/covid/covid1900611.png  \n",
            "  inflating: COVID_IEEE/covid/covid1900612.png  \n",
            "  inflating: COVID_IEEE/covid/covid1900614.png  \n",
            "  inflating: COVID_IEEE/covid/covid1900617.png  \n",
            "  inflating: COVID_IEEE/covid/covid1900622.png  \n",
            "  inflating: COVID_IEEE/covid/covid1900623.png  \n",
            "  inflating: COVID_IEEE/covid/covid1900625.png  \n",
            "  inflating: COVID_IEEE/covid/covid1900629.png  \n",
            "  inflating: COVID_IEEE/covid/covid190063.png  \n",
            "  inflating: COVID_IEEE/covid/covid1900630.png  \n",
            "  inflating: COVID_IEEE/covid/covid1900638.png  \n",
            "  inflating: COVID_IEEE/covid/covid1900642.png  \n",
            "  inflating: COVID_IEEE/covid/covid1900643.png  \n",
            "  inflating: COVID_IEEE/covid/covid1900644.png  \n",
            "  inflating: COVID_IEEE/covid/covid1900645.png  \n",
            "  inflating: COVID_IEEE/covid/covid1900653.png  \n",
            "  inflating: COVID_IEEE/covid/covid1900654.png  \n",
            "  inflating: COVID_IEEE/covid/covid1900655.png  \n",
            "  inflating: COVID_IEEE/covid/covid1900657.png  \n",
            "  inflating: COVID_IEEE/covid/covid1900659.png  \n",
            "  inflating: COVID_IEEE/covid/covid190066.png  \n",
            "  inflating: COVID_IEEE/covid/covid1900660.png  \n",
            "  inflating: COVID_IEEE/covid/covid1900661.png  \n",
            "  inflating: COVID_IEEE/covid/covid1900673.png  \n",
            "  inflating: COVID_IEEE/covid/covid1900675.png  \n",
            "  inflating: COVID_IEEE/covid/covid190068.png  \n",
            "  inflating: COVID_IEEE/covid/covid1900686.png  \n",
            "  inflating: COVID_IEEE/covid/covid1900691.png  \n",
            "  inflating: COVID_IEEE/covid/covid1900695.png  \n",
            "  inflating: COVID_IEEE/covid/covid1900696.png  \n",
            "  inflating: COVID_IEEE/covid/covid1900697.png  \n",
            "  inflating: COVID_IEEE/covid/covid1900698.png  \n",
            "  inflating: COVID_IEEE/covid/covid1900700.png  \n",
            "  inflating: COVID_IEEE/covid/covid1900702.png  \n",
            "  inflating: COVID_IEEE/covid/covid1900708.png  \n",
            "  inflating: COVID_IEEE/covid/covid1900709.png  \n",
            "  inflating: COVID_IEEE/covid/covid190074.png  \n",
            "  inflating: COVID_IEEE/covid/covid190075.png  \n",
            "  inflating: COVID_IEEE/covid/covid190078.png  \n",
            "  inflating: COVID_IEEE/covid/covid190083.png  \n",
            "  inflating: COVID_IEEE/covid/covid190084.png  \n",
            "  inflating: COVID_IEEE/covid/covid190087.png  \n",
            "  inflating: COVID_IEEE/covid/extubation-1.jpg  \n",
            "  inflating: COVID_IEEE/covid/extubation-13.jpg  \n",
            "  inflating: COVID_IEEE/covid/extubation-4.jpg  \n",
            "  inflating: COVID_IEEE/covid/extubation-8.jpg  \n",
            "  inflating: COVID_IEEE/covid/fff49165-b22d-4bb4-b9d1-d5d62c52436c.annot.original.png  \n",
            "  inflating: COVID_IEEE/covid/figure1-5e71be566aa8714a04de3386-98-left.jpeg  \n",
            "  inflating: COVID_IEEE/covid/figure1-5e75d0940b71e1b702629659-98-right.jpeg  \n",
            "  inflating: COVID_IEEE/covid/gr1_lrg-a.jpg  \n",
            "  inflating: COVID_IEEE/covid/gr1_lrg-b.jpg  \n",
            "  inflating: COVID_IEEE/covid/kjr-21-e24-g001-l-a.jpg  \n",
            "  inflating: COVID_IEEE/covid/kjr-21-e24-g002-l-a.jpg  \n",
            "  inflating: COVID_IEEE/covid/kjr-21-e24-g003-l-a.jpg  \n",
            "  inflating: COVID_IEEE/covid/kjr-21-e25-g001-l-a.jpg  \n",
            "  inflating: COVID_IEEE/covid/lancet-case2a.jpg  \n",
            "  inflating: COVID_IEEE/covid/lancet-case2b.jpg  \n",
            "  inflating: COVID_IEEE/covid/nCoV-radiol.2020200269.fig1-day7.jpeg  \n",
            "  inflating: COVID_IEEE/covid/nejmc2001573_f1a.jpeg  \n",
            "  inflating: COVID_IEEE/covid/nejmc2001573_f1b.jpeg  \n",
            "  inflating: COVID_IEEE/covid/nejmoa2001191_f1-PA.jpeg  \n",
            "  inflating: COVID_IEEE/covid/nejmoa2001191_f3-PA.jpeg  \n",
            "  inflating: COVID_IEEE/covid/nejmoa2001191_f4.jpeg  \n",
            "  inflating: COVID_IEEE/covid/nejmoa2001191_f5-PA.jpeg  \n",
            "  inflating: COVID_IEEE/covid/paving.jpg  \n",
            "  inflating: COVID_IEEE/covid/radiol.2020200274.fig3d.png  \n",
            "  inflating: COVID_IEEE/covid/radiol.2020200490.fig3.jpeg  \n",
            "  inflating: COVID_IEEE/covid/ryct.2020200028.fig1a.jpeg  \n",
            "  inflating: COVID_IEEE/covid/ryct.2020200034.fig2.jpeg  \n",
            "  inflating: COVID_IEEE/covid/ryct.2020200034.fig5-day0.jpeg  \n",
            "  inflating: COVID_IEEE/covid/ryct.2020200034.fig5-day4.jpeg  \n",
            "  inflating: COVID_IEEE/covid/ryct.2020200034.fig5-day7.jpeg  \n",
            "  inflating: COVID_IEEE/covid/yxppt-2020-02-19_00-51-27_287214-day8.jpg  \n",
            "  inflating: COVID_IEEE/normal/F051E018-DAD1-4506-AD43-BE4CA29E960B.jpeg  \n",
            "  inflating: COVID_IEEE/normal/IM-0001-0001.jpeg  \n",
            "  inflating: COVID_IEEE/normal/IM-0003-0001.jpeg  \n",
            "  inflating: COVID_IEEE/normal/IM-0005-0001.jpeg  \n",
            "  inflating: COVID_IEEE/normal/IM-0006-0001.jpeg  \n",
            "  inflating: COVID_IEEE/normal/IM-0007-0001.jpeg  \n",
            "  inflating: COVID_IEEE/normal/IM-0009-0001.jpeg  \n",
            "  inflating: COVID_IEEE/normal/IM-0010-0001.jpeg  \n",
            "  inflating: COVID_IEEE/normal/IM-0011-0001-0001.jpeg  \n",
            "  inflating: COVID_IEEE/normal/IM-0011-0001-0002.jpeg  \n",
            "  inflating: COVID_IEEE/normal/IM-0011-0001.jpeg  \n",
            "  inflating: COVID_IEEE/normal/IM-0013-0001.jpeg  \n",
            "  inflating: COVID_IEEE/normal/IM-0015-0001.jpeg  \n",
            "  inflating: COVID_IEEE/normal/IM-0016-0001.jpeg  \n",
            "  inflating: COVID_IEEE/normal/IM-0017-0001.jpeg  \n",
            "  inflating: COVID_IEEE/normal/IM-0019-0001.jpeg  \n",
            "  inflating: COVID_IEEE/normal/IM-0021-0001.jpeg  \n",
            "  inflating: COVID_IEEE/normal/IM-0023-0001.jpeg  \n",
            "  inflating: COVID_IEEE/normal/IM-0025-0001.jpeg  \n",
            "  inflating: COVID_IEEE/normal/IM-0027-0001.jpeg  \n",
            "  inflating: COVID_IEEE/normal/IM-0028-0001.jpeg  \n",
            "  inflating: COVID_IEEE/normal/IM-0029-0001.jpeg  \n",
            "  inflating: COVID_IEEE/normal/IM-0030-0001.jpeg  \n",
            "  inflating: COVID_IEEE/normal/IM-0031-0001.jpeg  \n",
            "  inflating: COVID_IEEE/normal/IM-0033-0001-0001.jpeg  \n",
            "  inflating: COVID_IEEE/normal/IM-0033-0001-0002.jpeg  \n",
            "  inflating: COVID_IEEE/normal/IM-0033-0001.jpeg  \n",
            "  inflating: COVID_IEEE/normal/IM-0035-0001.jpeg  \n",
            "  inflating: COVID_IEEE/normal/IM-0036-0001.jpeg  \n",
            "  inflating: COVID_IEEE/normal/IM-0037-0001.jpeg  \n",
            "  inflating: COVID_IEEE/normal/IM-0039-0001.jpeg  \n",
            "  inflating: COVID_IEEE/normal/IM-0041-0001.jpeg  \n",
            "  inflating: COVID_IEEE/normal/IM-0043-0001.jpeg  \n",
            "  inflating: COVID_IEEE/normal/IM-0045-0001.jpeg  \n",
            "  inflating: COVID_IEEE/normal/IM-0046-0001.jpeg  \n",
            "  inflating: COVID_IEEE/normal/IM-0049-0001.jpeg  \n",
            "  inflating: COVID_IEEE/normal/IM-0050-0001.jpeg  \n",
            "  inflating: COVID_IEEE/normal/IM-0059-0001.jpeg  \n",
            "  inflating: COVID_IEEE/normal/IM-0061-0001.jpeg  \n",
            "  inflating: COVID_IEEE/normal/IM-0063-0001.jpeg  \n",
            "  inflating: COVID_IEEE/normal/IM-0065-0001.jpeg  \n",
            "  inflating: COVID_IEEE/normal/IM-0067-0001.jpeg  \n",
            "  inflating: COVID_IEEE/normal/IM-0069-0001.jpeg  \n",
            "  inflating: COVID_IEEE/normal/IM-0070-0001.jpeg  \n",
            "  inflating: COVID_IEEE/normal/IM-0071-0001.jpeg  \n",
            "  inflating: COVID_IEEE/normal/IM-0073-0001.jpeg  \n",
            "  inflating: COVID_IEEE/normal/IM-0075-0001.jpeg  \n",
            "  inflating: COVID_IEEE/normal/IM-0077-0001.jpeg  \n",
            "  inflating: COVID_IEEE/normal/IM-0079-0001.jpeg  \n",
            "  inflating: COVID_IEEE/normal/IM-0081-0001.jpeg  \n",
            "  inflating: COVID_IEEE/normal/IM-0083-0001.jpeg  \n",
            "  inflating: COVID_IEEE/normal/IM-0084-0001.jpeg  \n",
            "  inflating: COVID_IEEE/normal/IM-0085-0001.jpeg  \n",
            "  inflating: COVID_IEEE/normal/IM-0086-0001.jpeg  \n",
            "  inflating: COVID_IEEE/normal/IM-0087-0001.jpeg  \n",
            "  inflating: COVID_IEEE/normal/IM-0089-0001.jpeg  \n",
            "  inflating: COVID_IEEE/normal/IM-0091-0001.jpeg  \n",
            "  inflating: COVID_IEEE/normal/IM-0093-0001.jpeg  \n",
            "  inflating: COVID_IEEE/normal/IM-0095-0001.jpeg  \n",
            "  inflating: COVID_IEEE/normal/IM-0097-0001.jpeg  \n",
            "  inflating: COVID_IEEE/normal/IM-0099-0001.jpeg  \n",
            "  inflating: COVID_IEEE/normal/IM-0101-0001.jpeg  \n",
            "  inflating: COVID_IEEE/normal/IM-0102-0001.jpeg  \n",
            "  inflating: COVID_IEEE/normal/IM-0103-0001.jpeg  \n",
            "  inflating: COVID_IEEE/normal/IM-0105-0001.jpeg  \n",
            "  inflating: COVID_IEEE/normal/IM-0107-0001.jpeg  \n",
            "  inflating: COVID_IEEE/normal/IM-0109-0001.jpeg  \n",
            "  inflating: COVID_IEEE/normal/IM-0110-0001.jpeg  \n",
            "  inflating: COVID_IEEE/normal/IM-0111-0001.jpeg  \n",
            "  inflating: COVID_IEEE/normal/IM-0115-0001.jpeg  \n",
            "  inflating: COVID_IEEE/normal/IM-0117-0001.jpeg  \n",
            "  inflating: COVID_IEEE/normal/IM-0119-0001.jpeg  \n",
            "  inflating: COVID_IEEE/normal/IM-0122-0001.jpeg  \n",
            "  inflating: COVID_IEEE/normal/IM-0125-0001.jpeg  \n",
            "  inflating: COVID_IEEE/normal/IM-0127-0001.jpeg  \n",
            "  inflating: COVID_IEEE/normal/IM-0128-0001.jpeg  \n",
            "  inflating: COVID_IEEE/normal/IM-0129-0001.jpeg  \n",
            "  inflating: COVID_IEEE/normal/IM-0133-0001.jpeg  \n",
            "  inflating: COVID_IEEE/normal/IM-0137-0001.jpeg  \n",
            "  inflating: COVID_IEEE/normal/IM-0149-0001.jpeg  \n",
            "  inflating: COVID_IEEE/normal/IM-0151-0001.jpeg  \n",
            "  inflating: COVID_IEEE/normal/IM-0154-0001.jpeg  \n",
            "  inflating: COVID_IEEE/normal/IM-0160-0001.jpeg  \n",
            "  inflating: COVID_IEEE/normal/IM-0162-0001.jpeg  \n",
            "  inflating: COVID_IEEE/normal/IM-0164-0001.jpeg  \n",
            "  inflating: COVID_IEEE/normal/IM-0168-0001.jpeg  \n",
            "  inflating: COVID_IEEE/normal/IM-0170-0001.jpeg  \n",
            "  inflating: COVID_IEEE/normal/IM-0172-0001.jpeg  \n",
            "  inflating: COVID_IEEE/normal/IM-0176-0001.jpeg  \n",
            "  inflating: COVID_IEEE/normal/IM-0177-0001.jpeg  \n",
            "  inflating: COVID_IEEE/normal/IM-0180-0001.jpeg  \n",
            "  inflating: COVID_IEEE/normal/IM-0182-0001.jpeg  \n",
            "  inflating: COVID_IEEE/normal/IM-0183-0001.jpeg  \n",
            "  inflating: COVID_IEEE/normal/IM-0185-0001.jpeg  \n",
            "  inflating: COVID_IEEE/normal/IM-0187-0001.jpeg  \n",
            "  inflating: COVID_IEEE/normal/IM-0191-0001.jpeg  \n",
            "  inflating: COVID_IEEE/normal/IM-0193-0001.jpeg  \n",
            "  inflating: COVID_IEEE/normal/IM-0195-0001.jpeg  \n",
            "  inflating: COVID_IEEE/normal/IM-0206-0001.jpeg  \n",
            "  inflating: COVID_IEEE/normal/IM-0207-0001.jpeg  \n",
            "  inflating: COVID_IEEE/normal/IM-0210-0001.jpeg  \n",
            "  inflating: COVID_IEEE/normal/IM-0213-0001.jpeg  \n",
            "  inflating: COVID_IEEE/normal/IM-0226-0001.jpeg  \n",
            "  inflating: COVID_IEEE/normal/IM-0228-0001.jpeg  \n",
            "  inflating: COVID_IEEE/normal/IM-0229-0001.jpeg  \n",
            "  inflating: COVID_IEEE/normal/IM-0235-0001.jpeg  \n",
            "  inflating: COVID_IEEE/normal/IM-0237-0001.jpeg  \n",
            "  inflating: COVID_IEEE/normal/IM-0239-0001.jpeg  \n",
            "  inflating: COVID_IEEE/normal/IM-0240-0001.jpeg  \n",
            "  inflating: COVID_IEEE/normal/IM-0241-0001.jpeg  \n",
            "  inflating: COVID_IEEE/normal/IM-0242-0001.jpeg  \n",
            "  inflating: COVID_IEEE/normal/IM-0243-0001.jpeg  \n",
            "  inflating: COVID_IEEE/normal/IM-0245-0001.jpeg  \n",
            "  inflating: COVID_IEEE/normal/IM-0249-0001.jpeg  \n",
            "  inflating: COVID_IEEE/normal/IM-0251-0001.jpeg  \n",
            "  inflating: COVID_IEEE/normal/IM-0255-0001.jpeg  \n",
            "  inflating: COVID_IEEE/normal/IM-0257-0001.jpeg  \n",
            "  inflating: COVID_IEEE/normal/IM-0264-0001.jpeg  \n",
            "  inflating: COVID_IEEE/normal/IM-0265-0001.jpeg  \n",
            "  inflating: COVID_IEEE/normal/IM-0273-0001.jpeg  \n",
            "  inflating: COVID_IEEE/normal/IM-0275-0001.jpeg  \n",
            "  inflating: COVID_IEEE/normal/IM-0283-0001.jpeg  \n",
            "  inflating: COVID_IEEE/normal/IM-0286-0001.jpeg  \n",
            "  inflating: COVID_IEEE/normal/IM-0289-0001.jpeg  \n",
            "  inflating: COVID_IEEE/normal/IM-0293-0001.jpeg  \n",
            "  inflating: COVID_IEEE/normal/IM-0295-0001.jpeg  \n",
            "  inflating: COVID_IEEE/normal/IM-0298-0001.jpeg  \n",
            "  inflating: COVID_IEEE/normal/IM-0300-0001.jpeg  \n",
            "  inflating: COVID_IEEE/normal/IM-0302-0001.jpeg  \n",
            "  inflating: COVID_IEEE/normal/IM-0303-0001.jpeg  \n",
            "  inflating: COVID_IEEE/normal/IM-0304-0001.jpeg  \n",
            "  inflating: COVID_IEEE/normal/IM-0305-0001.jpeg  \n",
            "  inflating: COVID_IEEE/normal/IM-0306-0001.jpeg  \n",
            "  inflating: COVID_IEEE/normal/IM-0307-0001.jpeg  \n",
            "  inflating: COVID_IEEE/normal/IM-0308-0001.jpeg  \n",
            "  inflating: COVID_IEEE/normal/IM-0311-0001.jpeg  \n",
            "  inflating: COVID_IEEE/normal/IM-0312-0001.jpeg  \n",
            "  inflating: COVID_IEEE/normal/IM-0317-0001.jpeg  \n",
            "  inflating: COVID_IEEE/normal/IM-0318-0001.jpeg  \n",
            "  inflating: COVID_IEEE/normal/IM-0319-0001.jpeg  \n",
            "  inflating: COVID_IEEE/normal/IM-0325-0001.jpeg  \n",
            "  inflating: COVID_IEEE/normal/IM-0326-0001.jpeg  \n",
            "  inflating: COVID_IEEE/normal/IM-0327-0001.jpeg  \n",
            "  inflating: COVID_IEEE/normal/IM-0329-0001.jpeg  \n",
            "  inflating: COVID_IEEE/normal/IM-0332-0001.jpeg  \n",
            "  inflating: COVID_IEEE/normal/IM-0337-0001.jpeg  \n",
            "  inflating: COVID_IEEE/normal/IM-0338-0001.jpeg  \n",
            "  inflating: COVID_IEEE/normal/IM-0339-0001.jpeg  \n",
            "  inflating: COVID_IEEE/normal/IM-0341-0001.jpeg  \n",
            "  inflating: COVID_IEEE/normal/IM-0346-0001.jpeg  \n",
            "  inflating: COVID_IEEE/normal/IM-0347-0001.jpeg  \n",
            "  inflating: COVID_IEEE/normal/IM-0349-0001.jpeg  \n",
            "  inflating: COVID_IEEE/normal/IM-0350-0001.jpeg  \n",
            "  inflating: COVID_IEEE/normal/IM-0351-0001.jpeg  \n",
            "  inflating: COVID_IEEE/normal/IM-0358-0001.jpeg  \n",
            "  inflating: COVID_IEEE/normal/IM-0359-0001.jpeg  \n",
            "  inflating: COVID_IEEE/normal/IM-0361-0001.jpeg  \n",
            "  inflating: COVID_IEEE/normal/IM-0362-0001.jpeg  \n",
            "  inflating: COVID_IEEE/normal/IM-0363-0001.jpeg  \n",
            "  inflating: COVID_IEEE/normal/IM-0364-0001.jpeg  \n",
            "  inflating: COVID_IEEE/normal/IM-0365-0001.jpeg  \n",
            "  inflating: COVID_IEEE/normal/IM-0367-0001.jpeg  \n",
            "  inflating: COVID_IEEE/normal/IM-0368-0001.jpeg  \n",
            "  inflating: COVID_IEEE/normal/IM-0369-0001.jpeg  \n",
            "  inflating: COVID_IEEE/normal/IM-0370-0001.jpeg  \n",
            "  inflating: COVID_IEEE/normal/IM-0371-0001.jpeg  \n",
            "  inflating: COVID_IEEE/normal/IM-0372-0001.jpeg  \n",
            "  inflating: COVID_IEEE/normal/IM-0374-0001.jpeg  \n",
            "  inflating: COVID_IEEE/normal/IM-0375-0001.jpeg  \n",
            "  inflating: COVID_IEEE/normal/IM-0377-0001.jpeg  \n",
            "  inflating: COVID_IEEE/normal/IM-0379-0001.jpeg  \n",
            "  inflating: COVID_IEEE/normal/IM-0381-0001.jpeg  \n",
            "  inflating: COVID_IEEE/normal/IM-0382-0001.jpeg  \n",
            "  inflating: COVID_IEEE/normal/IM-0383-0001.jpeg  \n",
            "  inflating: COVID_IEEE/normal/IM-0384-0001.jpeg  \n",
            "  inflating: COVID_IEEE/normal/IM-0385-0001.jpeg  \n",
            "  inflating: COVID_IEEE/normal/IM-0386-0001.jpeg  \n",
            "  inflating: COVID_IEEE/normal/IM-0387-0001.jpeg  \n",
            "  inflating: COVID_IEEE/normal/IM-0388-0001.jpeg  \n",
            "  inflating: COVID_IEEE/normal/IM-0389-0001.jpeg  \n",
            "  inflating: COVID_IEEE/normal/IM-0391-0001.jpeg  \n",
            "  inflating: COVID_IEEE/normal/IM-0392-0001.jpeg  \n",
            "  inflating: COVID_IEEE/normal/IM-0393-0001.jpeg  \n",
            "  inflating: COVID_IEEE/normal/IM-0394-0001.jpeg  \n",
            "  inflating: COVID_IEEE/normal/IM-0395-0001.jpeg  \n",
            "  inflating: COVID_IEEE/normal/IM-0399-0001.jpeg  \n",
            "  inflating: COVID_IEEE/normal/IM-0400-0001.jpeg  \n",
            "  inflating: COVID_IEEE/normal/IM-0401-0001.jpeg  \n",
            "  inflating: COVID_IEEE/normal/IM-0403-0001.jpeg  \n",
            "  inflating: COVID_IEEE/normal/IM-0404-0001.jpeg  \n",
            "  inflating: COVID_IEEE/normal/IM-0405-0001.jpeg  \n",
            "  inflating: COVID_IEEE/normal/IM-0408-0001.jpeg  \n",
            "  inflating: COVID_IEEE/normal/IM-0409-0001.jpeg  \n",
            "  inflating: COVID_IEEE/normal/IM-0410-0001.jpeg  \n",
            "  inflating: COVID_IEEE/normal/IM-0411-0001.jpeg  \n",
            "  inflating: COVID_IEEE/normal/IM-0413-0001.jpeg  \n",
            "  inflating: COVID_IEEE/normal/IM-0414-0001.jpeg  \n",
            "  inflating: COVID_IEEE/normal/IM-0416-0001.jpeg  \n",
            "  inflating: COVID_IEEE/normal/IM-0417-0001.jpeg  \n",
            "  inflating: COVID_IEEE/normal/IM-0420-0001.jpeg  \n",
            "  inflating: COVID_IEEE/normal/IM-0421-0001.jpeg  \n",
            "  inflating: COVID_IEEE/normal/IM-0423-0001.jpeg  \n",
            "  inflating: COVID_IEEE/normal/IM-0424-0001.jpeg  \n",
            "  inflating: COVID_IEEE/normal/IM-0425-0001.jpeg  \n",
            "  inflating: COVID_IEEE/normal/IM-0427-0001.jpeg  \n",
            "  inflating: COVID_IEEE/normal/IM-0428-0001.jpeg  \n",
            "  inflating: COVID_IEEE/normal/IM-0429-0001-0002.jpeg  \n",
            "  inflating: COVID_IEEE/normal/IM-0430-0001.jpeg  \n",
            "  inflating: COVID_IEEE/normal/IM-0432-0001.jpeg  \n",
            "  inflating: COVID_IEEE/normal/IM-0433-0001.jpeg  \n",
            "  inflating: COVID_IEEE/normal/IM-0434-0001.jpeg  \n",
            "  inflating: COVID_IEEE/normal/IM-0435-0001-0001.jpeg  \n",
            "  inflating: COVID_IEEE/normal/IM-0435-0001.jpeg  \n",
            "  inflating: COVID_IEEE/normal/IM-0437-0001-0001.jpeg  \n",
            "  inflating: COVID_IEEE/normal/IM-0437-0001.jpeg  \n",
            "  inflating: COVID_IEEE/normal/IM-0438-0001.jpeg  \n",
            "  inflating: COVID_IEEE/normal/IM-0439-0001-0001.jpeg  \n",
            "  inflating: COVID_IEEE/normal/IM-0439-0001-0002.jpeg  \n",
            "  inflating: COVID_IEEE/normal/IM-0439-0001.jpeg  \n",
            "  inflating: COVID_IEEE/normal/IM-0440-0001.jpeg  \n",
            "  inflating: COVID_IEEE/normal/IM-0444-0001.jpeg  \n",
            "  inflating: COVID_IEEE/normal/IM-0445-0001.jpeg  \n",
            "  inflating: COVID_IEEE/normal/IM-0449-0001.jpeg  \n",
            "  inflating: COVID_IEEE/normal/IM-0450-0001.jpeg  \n",
            "  inflating: COVID_IEEE/normal/IM-0451-0001.jpeg  \n",
            "  inflating: COVID_IEEE/normal/IM-0453-0001.jpeg  \n",
            "  inflating: COVID_IEEE/normal/IM-0455-0001.jpeg  \n",
            "  inflating: COVID_IEEE/normal/IM-0456-0001.jpeg  \n",
            "  inflating: COVID_IEEE/normal/IM-0458-0001.jpeg  \n",
            "  inflating: COVID_IEEE/normal/IM-0460-0001.jpeg  \n",
            "  inflating: COVID_IEEE/normal/IM-0461-0001.jpeg  \n",
            "  inflating: COVID_IEEE/normal/IM-0466-0001.jpeg  \n",
            "  inflating: COVID_IEEE/normal/IM-0467-0001-0001.jpeg  \n",
            "  inflating: COVID_IEEE/normal/IM-0467-0001-0002.jpeg  \n",
            "  inflating: COVID_IEEE/normal/IM-0467-0001.jpeg  \n",
            "  inflating: COVID_IEEE/normal/IM-0471-0001.jpeg  \n",
            "  inflating: COVID_IEEE/normal/IM-0473-0001.jpeg  \n",
            "  inflating: COVID_IEEE/normal/IM-0476-0001.jpeg  \n",
            "  inflating: COVID_IEEE/normal/IM-0477-0001.jpeg  \n",
            "  inflating: COVID_IEEE/normal/IM-0481-0001.jpeg  \n",
            "  inflating: COVID_IEEE/normal/IM-0482-0001.jpeg  \n",
            "  inflating: COVID_IEEE/normal/IM-0484-0001.jpeg  \n",
            "  inflating: COVID_IEEE/normal/IM-0485-0001.jpeg  \n",
            "  inflating: COVID_IEEE/normal/IM-0486-0001.jpeg  \n",
            "  inflating: COVID_IEEE/normal/IM-0487-0001.jpeg  \n",
            "  inflating: COVID_IEEE/normal/IM-0488-0001.jpeg  \n",
            "  inflating: COVID_IEEE/normal/IM-0489-0001.jpeg  \n",
            "  inflating: COVID_IEEE/normal/IM-0490-0001.jpeg  \n",
            "  inflating: COVID_IEEE/normal/IM-0491-0001-0001.jpeg  \n",
            "  inflating: COVID_IEEE/normal/IM-0491-0001-0002.jpeg  \n",
            "  inflating: COVID_IEEE/normal/IM-0491-0001.jpeg  \n",
            "  inflating: COVID_IEEE/normal/IM-0492-0001.jpeg  \n",
            "  inflating: COVID_IEEE/normal/IM-0493-0001.jpeg  \n",
            "  inflating: COVID_IEEE/normal/IM-0494-0001.jpeg  \n",
            "  inflating: COVID_IEEE/normal/IM-0495-0001.jpeg  \n",
            "  inflating: COVID_IEEE/normal/IM-0496-0001.jpeg  \n",
            "  inflating: COVID_IEEE/normal/IM-0497-0001-0001.jpeg  \n",
            "  inflating: COVID_IEEE/normal/IM-0497-0001-0002.jpeg  \n",
            "  inflating: COVID_IEEE/normal/IM-0497-0001.jpeg  \n",
            "  inflating: COVID_IEEE/normal/IM-0499-0001-0001.jpeg  \n",
            "  inflating: COVID_IEEE/normal/IM-0499-0001-0002.jpeg  \n",
            "  inflating: COVID_IEEE/normal/IM-0499-0001.jpeg  \n",
            "  inflating: COVID_IEEE/normal/IM-0500-0001.jpeg  \n",
            "  inflating: COVID_IEEE/normal/IM-0501-0001-0001.jpeg  \n",
            "  inflating: COVID_IEEE/normal/IM-0501-0001-0002.jpeg  \n",
            "  inflating: COVID_IEEE/normal/IM-0501-0001.jpeg  \n",
            "  inflating: COVID_IEEE/normal/IM-0502-0001.jpeg  \n",
            "  inflating: COVID_IEEE/normal/IM-0503-0001.jpeg  \n",
            "  inflating: COVID_IEEE/normal/IM-0504-0001.jpeg  \n",
            "  inflating: COVID_IEEE/normal/IM-0505-0001-0001.jpeg  \n",
            "  inflating: COVID_IEEE/normal/IM-0505-0001-0002.jpeg  \n",
            "  inflating: COVID_IEEE/normal/IM-0505-0001.jpeg  \n",
            "  inflating: COVID_IEEE/normal/IM-0506-0001.jpeg  \n",
            "  inflating: COVID_IEEE/normal/IM-0507-0001.jpeg  \n",
            "  inflating: COVID_IEEE/normal/IM-0508-0001.jpeg  \n",
            "  inflating: COVID_IEEE/normal/IM-0509-0001-0001.jpeg  \n",
            "  inflating: COVID_IEEE/normal/IM-0509-0001-0002.jpeg  \n",
            "  inflating: COVID_IEEE/normal/IM-0509-0001.jpeg  \n",
            "  inflating: COVID_IEEE/normal/IM-0510-0001.jpeg  \n",
            "  inflating: COVID_IEEE/normal/IM-0511-0001-0001.jpeg  \n",
            "  inflating: COVID_IEEE/normal/IM-0511-0001-0002.jpeg  \n",
            "  inflating: COVID_IEEE/normal/IM-0511-0001.jpeg  \n",
            "  inflating: COVID_IEEE/normal/IM-0512-0001.jpeg  \n",
            "  inflating: COVID_IEEE/normal/IM-0513-0001.jpeg  \n",
            "  inflating: COVID_IEEE/normal/IM-0514-0001.jpeg  \n",
            "  inflating: COVID_IEEE/normal/IM-0515-0001.jpeg  \n",
            "  inflating: COVID_IEEE/normal/IM-0516-0001.jpeg  \n",
            "  inflating: COVID_IEEE/normal/IM-0517-0001-0001.jpeg  \n",
            "  inflating: COVID_IEEE/normal/IM-0517-0001.jpeg  \n",
            "  inflating: COVID_IEEE/normal/IM-0519-0001-0001.jpeg  \n",
            "  inflating: COVID_IEEE/normal/IM-0519-0001-0002.jpeg  \n",
            "  inflating: COVID_IEEE/normal/IM-0519-0001.jpeg  \n",
            "  inflating: COVID_IEEE/normal/IM-0520-0001.jpeg  \n",
            "  inflating: COVID_IEEE/normal/IM-0521-0001.jpeg  \n",
            "  inflating: COVID_IEEE/normal/IM-0522-0001.jpeg  \n",
            "  inflating: COVID_IEEE/normal/IM-0523-0001-0001.jpeg  \n",
            "  inflating: COVID_IEEE/normal/IM-0523-0001-0002.jpeg  \n",
            "  inflating: COVID_IEEE/normal/IM-0523-0001-0003.jpeg  \n",
            "  inflating: COVID_IEEE/normal/IM-0523-0001.jpeg  \n",
            "  inflating: COVID_IEEE/normal/IM-0524-0001.jpeg  \n",
            "  inflating: COVID_IEEE/normal/IM-0525-0001-0001.jpeg  \n",
            "  inflating: COVID_IEEE/normal/IM-0525-0001-0002.jpeg  \n",
            "  inflating: COVID_IEEE/normal/IM-0525-0001.jpeg  \n",
            "  inflating: COVID_IEEE/normal/IM-0526-0001.jpeg  \n",
            "  inflating: COVID_IEEE/normal/IM-0527-0001.jpeg  \n",
            "  inflating: COVID_IEEE/normal/IM-0528-0001.jpeg  \n",
            "  inflating: COVID_IEEE/normal/IM-0529-0001.jpeg  \n",
            "  inflating: COVID_IEEE/normal/IM-0530-0001.jpeg  \n",
            "  inflating: COVID_IEEE/normal/IM-0531-0001-0001.jpeg  \n",
            "  inflating: COVID_IEEE/normal/IM-0533-0001-0002.jpeg  \n",
            "  inflating: COVID_IEEE/normal/IM-0533-0001.jpeg  \n",
            "  inflating: COVID_IEEE/normal/IM-0535-0001.jpeg  \n",
            "  inflating: COVID_IEEE/normal/NORMAL2-IM-0383-0001.jpeg  \n",
            "  inflating: COVID_IEEE/normal/NORMAL2-IM-0384-0001.jpeg  \n",
            "  inflating: COVID_IEEE/normal/NORMAL2-IM-0385-0001.jpeg  \n",
            "  inflating: COVID_IEEE/normal/NORMAL2-IM-0386-0001.jpeg  \n",
            "  inflating: COVID_IEEE/normal/NORMAL2-IM-0388-0001.jpeg  \n",
            "  inflating: COVID_IEEE/normal/NORMAL2-IM-0389-0001.jpeg  \n",
            "  inflating: COVID_IEEE/normal/NORMAL2-IM-0390-0001.jpeg  \n",
            "  inflating: COVID_IEEE/normal/NORMAL2-IM-0391-0001.jpeg  \n",
            "  inflating: COVID_IEEE/normal/NORMAL2-IM-0392-0001.jpeg  \n",
            "  inflating: COVID_IEEE/normal/NORMAL2-IM-0393-0001.jpeg  \n",
            "  inflating: COVID_IEEE/normal/NORMAL2-IM-0394-0001.jpeg  \n",
            "  inflating: COVID_IEEE/normal/NORMAL2-IM-0395-0001-0001.jpeg  \n",
            "  inflating: COVID_IEEE/normal/NORMAL2-IM-0395-0001-0002.jpeg  \n",
            "  inflating: COVID_IEEE/normal/NORMAL2-IM-0395-0001.jpeg  \n",
            "  inflating: COVID_IEEE/normal/NORMAL2-IM-0396-0001.jpeg  \n",
            "  inflating: COVID_IEEE/normal/NORMAL2-IM-0397-0001.jpeg  \n",
            "  inflating: COVID_IEEE/normal/NORMAL2-IM-0399-0001.jpeg  \n",
            "  inflating: COVID_IEEE/normal/NORMAL2-IM-0401-0001.jpeg  \n",
            "  inflating: COVID_IEEE/normal/NORMAL2-IM-0402-0001.jpeg  \n",
            "  inflating: COVID_IEEE/normal/NORMAL2-IM-0403-0001.jpeg  \n",
            "  inflating: COVID_IEEE/normal/NORMAL2-IM-0404-0001.jpeg  \n",
            "  inflating: COVID_IEEE/normal/NORMAL2-IM-0406-0001.jpeg  \n",
            "  inflating: COVID_IEEE/normal/NORMAL2-IM-0407-0001.jpeg  \n",
            "  inflating: COVID_IEEE/normal/NORMAL2-IM-0408-0001.jpeg  \n",
            "  inflating: COVID_IEEE/normal/NORMAL2-IM-0409-0001.jpeg  \n",
            "  inflating: COVID_IEEE/normal/NORMAL2-IM-0410-0001.jpeg  \n",
            "  inflating: COVID_IEEE/normal/NORMAL2-IM-0412-0001.jpeg  \n",
            "  inflating: COVID_IEEE/normal/NORMAL2-IM-0414-0001.jpeg  \n",
            "  inflating: COVID_IEEE/normal/NORMAL2-IM-0416-0001-0002.jpeg  \n",
            "  inflating: COVID_IEEE/normal/NORMAL2-IM-0416-0001.jpeg  \n",
            "  inflating: COVID_IEEE/normal/NORMAL2-IM-0418-0001.jpeg  \n",
            "  inflating: COVID_IEEE/normal/NORMAL2-IM-0419-0001.jpeg  \n",
            "  inflating: COVID_IEEE/normal/NORMAL2-IM-0421-0001.jpeg  \n",
            "  inflating: COVID_IEEE/normal/NORMAL2-IM-0423-0001.jpeg  \n",
            "  inflating: COVID_IEEE/normal/NORMAL2-IM-0424-0001.jpeg  \n",
            "  inflating: COVID_IEEE/normal/NORMAL2-IM-0425-0001.jpeg  \n",
            "  inflating: COVID_IEEE/normal/NORMAL2-IM-0428-0001.jpeg  \n",
            "  inflating: COVID_IEEE/normal/NORMAL2-IM-0435-0001.jpeg  \n",
            "  inflating: COVID_IEEE/normal/NORMAL2-IM-0437-0001.jpeg  \n",
            "  inflating: COVID_IEEE/normal/NORMAL2-IM-0441-0001.jpeg  \n",
            "  inflating: COVID_IEEE/normal/NORMAL2-IM-0447-0001.jpeg  \n",
            "  inflating: COVID_IEEE/normal/NORMAL2-IM-0449-0001.jpeg  \n",
            "  inflating: COVID_IEEE/normal/NORMAL2-IM-0451-0001.jpeg  \n",
            "  inflating: COVID_IEEE/normal/NORMAL2-IM-0453-0001.jpeg  \n",
            "  inflating: COVID_IEEE/normal/NORMAL2-IM-0455-0001.jpeg  \n",
            "  inflating: COVID_IEEE/normal/NORMAL2-IM-0458-0001.jpeg  \n",
            "  inflating: COVID_IEEE/normal/NORMAL2-IM-0460-0001.jpeg  \n",
            "  inflating: COVID_IEEE/normal/NORMAL2-IM-0462-0001.jpeg  \n",
            "  inflating: COVID_IEEE/normal/NORMAL2-IM-0464-0001.jpeg  \n",
            "  inflating: COVID_IEEE/normal/NORMAL2-IM-0465-0001.jpeg  \n",
            "  inflating: COVID_IEEE/normal/NORMAL2-IM-0468-0001.jpeg  \n",
            "  inflating: COVID_IEEE/normal/NORMAL2-IM-0478-0001.jpeg  \n",
            "  inflating: COVID_IEEE/normal/NORMAL2-IM-0479-0001.jpeg  \n",
            "  inflating: COVID_IEEE/normal/NORMAL2-IM-0480-0001.jpeg  \n",
            "  inflating: COVID_IEEE/normal/NORMAL2-IM-0481-0001.jpeg  \n",
            "  inflating: COVID_IEEE/normal/NORMAL2-IM-0482-0001.jpeg  \n",
            "  inflating: COVID_IEEE/normal/NORMAL2-IM-0485-0001.jpeg  \n",
            "  inflating: COVID_IEEE/normal/NORMAL2-IM-0486-0001.jpeg  \n",
            "  inflating: COVID_IEEE/normal/NORMAL2-IM-0487-0001.jpeg  \n",
            "  inflating: COVID_IEEE/normal/NORMAL2-IM-0488-0001.jpeg  \n",
            "  inflating: COVID_IEEE/normal/NORMAL2-IM-0489-0001.jpeg  \n",
            "  inflating: COVID_IEEE/normal/NORMAL2-IM-0490-0001.jpeg  \n",
            "  inflating: COVID_IEEE/normal/NORMAL2-IM-0491-0001.jpeg  \n",
            "  inflating: COVID_IEEE/normal/NORMAL2-IM-0493-0001.jpeg  \n",
            "  inflating: COVID_IEEE/normal/NORMAL2-IM-0496-0001.jpeg  \n",
            "  inflating: COVID_IEEE/normal/NORMAL2-IM-0497-0001.jpeg  \n",
            "  inflating: COVID_IEEE/normal/NORMAL2-IM-0499-0001.jpeg  \n",
            "  inflating: COVID_IEEE/normal/NORMAL2-IM-0500-0001.jpeg  \n",
            "  inflating: COVID_IEEE/normal/NORMAL2-IM-0501-0001.jpeg  \n",
            "  inflating: COVID_IEEE/normal/NORMAL2-IM-0502-0001.jpeg  \n",
            "  inflating: COVID_IEEE/normal/NORMAL2-IM-0503-0001.jpeg  \n",
            "  inflating: COVID_IEEE/normal/NORMAL2-IM-0506-0001.jpeg  \n",
            "  inflating: COVID_IEEE/normal/NORMAL2-IM-0507-0001.jpeg  \n",
            "  inflating: COVID_IEEE/normal/NORMAL2-IM-0508-0001.jpeg  \n",
            "  inflating: COVID_IEEE/normal/NORMAL2-IM-0509-0001.jpeg  \n",
            "  inflating: COVID_IEEE/normal/NORMAL2-IM-0511-0001.jpeg  \n",
            "  inflating: COVID_IEEE/normal/NORMAL2-IM-0512-0001.jpeg  \n",
            "  inflating: COVID_IEEE/normal/NORMAL2-IM-0513-0001.jpeg  \n",
            "  inflating: COVID_IEEE/normal/NORMAL2-IM-0515-0001.jpeg  \n",
            "  inflating: COVID_IEEE/normal/NORMAL2-IM-0516-0001.jpeg  \n",
            "  inflating: COVID_IEEE/normal/NORMAL2-IM-0517-0001.jpeg  \n",
            "  inflating: COVID_IEEE/normal/NORMAL2-IM-0518-0001.jpeg  \n",
            "  inflating: COVID_IEEE/normal/NORMAL2-IM-0520-0001.jpeg  \n",
            "  inflating: COVID_IEEE/normal/NORMAL2-IM-0521-0001.jpeg  \n",
            "  inflating: COVID_IEEE/normal/NORMAL2-IM-0522-0001.jpeg  \n",
            "  inflating: COVID_IEEE/normal/NORMAL2-IM-0523-0001.jpeg  \n",
            "  inflating: COVID_IEEE/normal/NORMAL2-IM-0525-0001.jpeg  \n",
            "  inflating: COVID_IEEE/normal/NORMAL2-IM-0526-0001.jpeg  \n",
            "  inflating: COVID_IEEE/normal/NORMAL2-IM-0528-0001.jpeg  \n",
            "  inflating: COVID_IEEE/normal/NORMAL2-IM-0529-0001.jpeg  \n",
            "  inflating: COVID_IEEE/normal/NORMAL2-IM-0530-0001.jpeg  \n",
            "  inflating: COVID_IEEE/normal/NORMAL2-IM-0531-0001.jpeg  \n",
            "  inflating: COVID_IEEE/normal/NORMAL2-IM-0533-0001.jpeg  \n",
            "  inflating: COVID_IEEE/normal/NORMAL2-IM-0535-0001-0002.jpeg  \n",
            "  inflating: COVID_IEEE/normal/NORMAL2-IM-0535-0001.jpeg  \n",
            "  inflating: COVID_IEEE/normal/NORMAL2-IM-0536-0001.jpeg  \n",
            "  inflating: COVID_IEEE/normal/NORMAL2-IM-0537-0001.jpeg  \n",
            "  inflating: COVID_IEEE/normal/NORMAL2-IM-0539-0001.jpeg  \n",
            "  inflating: COVID_IEEE/normal/NORMAL2-IM-0540-0001.jpeg  \n",
            "  inflating: COVID_IEEE/normal/NORMAL2-IM-0550-0001.jpeg  \n",
            "  inflating: COVID_IEEE/normal/NORMAL2-IM-0552-0001.jpeg  \n",
            "  inflating: COVID_IEEE/normal/NORMAL2-IM-0553-0001.jpeg  \n",
            "  inflating: COVID_IEEE/normal/NORMAL2-IM-0554-0001.jpeg  \n",
            "  inflating: COVID_IEEE/normal/NORMAL2-IM-0555-0001-0001.jpeg  \n",
            "  inflating: COVID_IEEE/normal/NORMAL2-IM-0555-0001-0002.jpeg  \n",
            "  inflating: COVID_IEEE/normal/NORMAL2-IM-0555-0001.jpeg  \n",
            "  inflating: COVID_IEEE/normal/NORMAL2-IM-0558-0001.jpeg  \n",
            "  inflating: COVID_IEEE/normal/NORMAL2-IM-0559-0001.jpeg  \n",
            "  inflating: COVID_IEEE/normal/NORMAL2-IM-0561-0001.jpeg  \n",
            "  inflating: COVID_IEEE/normal/NORMAL2-IM-0563-0001.jpeg  \n",
            "  inflating: COVID_IEEE/normal/NORMAL2-IM-0564-0001.jpeg  \n",
            "  inflating: COVID_IEEE/normal/NORMAL2-IM-0567-0001.jpeg  \n",
            "  inflating: COVID_IEEE/normal/NORMAL2-IM-0568-0001.jpeg  \n",
            "  inflating: COVID_IEEE/normal/NORMAL2-IM-0569-0001.jpeg  \n",
            "  inflating: COVID_IEEE/normal/NORMAL2-IM-0571-0001.jpeg  \n",
            "  inflating: COVID_IEEE/normal/NORMAL2-IM-0572-0001.jpeg  \n",
            "  inflating: COVID_IEEE/normal/NORMAL2-IM-0573-0001.jpeg  \n",
            "  inflating: COVID_IEEE/normal/NORMAL2-IM-0576-0001.jpeg  \n",
            "  inflating: COVID_IEEE/normal/NORMAL2-IM-0579-0001.jpeg  \n",
            "  inflating: COVID_IEEE/normal/NORMAL2-IM-0580-0001.jpeg  \n",
            "  inflating: COVID_IEEE/normal/NORMAL2-IM-0583-0001.jpeg  \n",
            "  inflating: COVID_IEEE/normal/NORMAL2-IM-0585-0001.jpeg  \n",
            "  inflating: COVID_IEEE/normal/NORMAL2-IM-0587-0001-0001.jpeg  \n",
            "  inflating: COVID_IEEE/normal/NORMAL2-IM-0587-0001-0002.jpeg  \n",
            "  inflating: COVID_IEEE/normal/NORMAL2-IM-0587-0001.jpeg  \n",
            "  inflating: COVID_IEEE/normal/NORMAL2-IM-0588-0001.jpeg  \n",
            "  inflating: COVID_IEEE/normal/NORMAL2-IM-0589-0001.jpeg  \n",
            "  inflating: COVID_IEEE/normal/NORMAL2-IM-0594-0001.jpeg  \n",
            "  inflating: COVID_IEEE/normal/NORMAL2-IM-0599-0001.jpeg  \n",
            "  inflating: COVID_IEEE/normal/NORMAL2-IM-0600-0001.jpeg  \n",
            "  inflating: COVID_IEEE/normal/NORMAL2-IM-0601-0001.jpeg  \n",
            "  inflating: COVID_IEEE/normal/NORMAL2-IM-0602-0001.jpeg  \n",
            "  inflating: COVID_IEEE/normal/NORMAL2-IM-0603-0001.jpeg  \n",
            "  inflating: COVID_IEEE/normal/NORMAL2-IM-0604-0001.jpeg  \n",
            "  inflating: COVID_IEEE/normal/NORMAL2-IM-0609-0001.jpeg  \n",
            "  inflating: COVID_IEEE/normal/NORMAL2-IM-0611-0001.jpeg  \n",
            "  inflating: COVID_IEEE/normal/NORMAL2-IM-0616-0001.jpeg  \n",
            "  inflating: COVID_IEEE/normal/NORMAL2-IM-0617-0001.jpeg  \n",
            "  inflating: COVID_IEEE/normal/NORMAL2-IM-0618-0001.jpeg  \n",
            "  inflating: COVID_IEEE/normal/NORMAL2-IM-0619-0001.jpeg  \n",
            "  inflating: COVID_IEEE/normal/NORMAL2-IM-0620-0001.jpeg  \n",
            "  inflating: COVID_IEEE/normal/NORMAL2-IM-0621-0001.jpeg  \n",
            "  inflating: COVID_IEEE/normal/NORMAL2-IM-0622-0001.jpeg  \n",
            "  inflating: COVID_IEEE/normal/NORMAL2-IM-0623-0001.jpeg  \n",
            "  inflating: COVID_IEEE/normal/NORMAL2-IM-0626-0001.jpeg  \n",
            "  inflating: COVID_IEEE/normal/NORMAL2-IM-0627-0001.jpeg  \n",
            "  inflating: COVID_IEEE/normal/NORMAL2-IM-0629-0001.jpeg  \n",
            "  inflating: COVID_IEEE/normal/NORMAL2-IM-0630-0001.jpeg  \n",
            "  inflating: COVID_IEEE/normal/NORMAL2-IM-0633-0001.jpeg  \n",
            "  inflating: COVID_IEEE/normal/NORMAL2-IM-0634-0001.jpeg  \n",
            "  inflating: COVID_IEEE/normal/NORMAL2-IM-0635-0001.jpeg  \n",
            "  inflating: COVID_IEEE/normal/NORMAL2-IM-0636-0001.jpeg  \n",
            "  inflating: COVID_IEEE/normal/NORMAL2-IM-0637-0001.jpeg  \n",
            "  inflating: COVID_IEEE/normal/NORMAL2-IM-0640-0001.jpeg  \n",
            "  inflating: COVID_IEEE/normal/NORMAL2-IM-0641-0001.jpeg  \n",
            "  inflating: COVID_IEEE/normal/NORMAL2-IM-0642-0001.jpeg  \n",
            "  inflating: COVID_IEEE/normal/NORMAL2-IM-0643-0001.jpeg  \n",
            "  inflating: COVID_IEEE/normal/NORMAL2-IM-0645-0001.jpeg  \n",
            "  inflating: COVID_IEEE/normal/NORMAL2-IM-0647-0001.jpeg  \n",
            "  inflating: COVID_IEEE/normal/NORMAL2-IM-0648-0001.jpeg  \n",
            "  inflating: COVID_IEEE/normal/NORMAL2-IM-0649-0001.jpeg  \n",
            "  inflating: COVID_IEEE/normal/NORMAL2-IM-0650-0001.jpeg  \n",
            "  inflating: COVID_IEEE/normal/NORMAL2-IM-0651-0001.jpeg  \n",
            "  inflating: COVID_IEEE/normal/NORMAL2-IM-0651-0004.jpeg  \n",
            "  inflating: COVID_IEEE/normal/NORMAL2-IM-0652-0001.jpeg  \n",
            "  inflating: COVID_IEEE/normal/NORMAL2-IM-0653-0001.jpeg  \n",
            "  inflating: COVID_IEEE/normal/NORMAL2-IM-0655-0001.jpeg  \n",
            "  inflating: COVID_IEEE/normal/NORMAL2-IM-0659-0001.jpeg  \n",
            "  inflating: COVID_IEEE/normal/NORMAL2-IM-0661-0001.jpeg  \n",
            "  inflating: COVID_IEEE/normal/NORMAL2-IM-0663-0001.jpeg  \n",
            "  inflating: COVID_IEEE/normal/NORMAL2-IM-0665-0001.jpeg  \n",
            "  inflating: COVID_IEEE/normal/NORMAL2-IM-0666-0001.jpeg  \n",
            "  inflating: COVID_IEEE/normal/NORMAL2-IM-0667-0001.jpeg  \n",
            "  inflating: COVID_IEEE/normal/NORMAL2-IM-0668-0001.jpeg  \n",
            "  inflating: COVID_IEEE/normal/NORMAL2-IM-0669-0001.jpeg  \n",
            "  inflating: COVID_IEEE/normal/NORMAL2-IM-0671-0001.jpeg  \n",
            "  inflating: COVID_IEEE/normal/NORMAL2-IM-0673-0001.jpeg  \n",
            "  inflating: COVID_IEEE/normal/NORMAL2-IM-0678-0001.jpeg  \n",
            "  inflating: COVID_IEEE/normal/NORMAL2-IM-0682-0001.jpeg  \n",
            "  inflating: COVID_IEEE/normal/NORMAL2-IM-0683-0001.jpeg  \n",
            "  inflating: COVID_IEEE/normal/NORMAL2-IM-0686-0001.jpeg  \n",
            "  inflating: COVID_IEEE/normal/NORMAL2-IM-0689-0001.jpeg  \n",
            "  inflating: COVID_IEEE/normal/NORMAL2-IM-0690-0001.jpeg  \n",
            "  inflating: COVID_IEEE/normal/NORMAL2-IM-0692-0001.jpeg  \n",
            "  inflating: COVID_IEEE/normal/NORMAL2-IM-0693-0001.jpeg  \n",
            "  inflating: COVID_IEEE/normal/NORMAL2-IM-0694-0001.jpeg  \n",
            "  inflating: COVID_IEEE/normal/NORMAL2-IM-0695-0001.jpeg  \n",
            "  inflating: COVID_IEEE/normal/NORMAL2-IM-0696-0001.jpeg  \n",
            "  inflating: COVID_IEEE/normal/NORMAL2-IM-0700-0001.jpeg  \n",
            "  inflating: COVID_IEEE/normal/NORMAL2-IM-0702-0001.jpeg  \n",
            "  inflating: COVID_IEEE/normal/NORMAL2-IM-0707-0001.jpeg  \n",
            "  inflating: COVID_IEEE/normal/NORMAL2-IM-0718-0001.jpeg  \n",
            "  inflating: COVID_IEEE/normal/NORMAL2-IM-0719-0001.jpeg  \n",
            "  inflating: COVID_IEEE/normal/NORMAL2-IM-0723-0001.jpeg  \n",
            "  inflating: COVID_IEEE/normal/NORMAL2-IM-0727-0001.jpeg  \n",
            "  inflating: COVID_IEEE/normal/NORMAL2-IM-0730-0001.jpeg  \n",
            "  inflating: COVID_IEEE/normal/NORMAL2-IM-0736-0001.jpeg  \n",
            "  inflating: COVID_IEEE/normal/NORMAL2-IM-0741-0001.jpeg  \n",
            "  inflating: COVID_IEEE/normal/NORMAL2-IM-0744-0001.jpeg  \n",
            "  inflating: COVID_IEEE/normal/NORMAL2-IM-0746-0001.jpeg  \n",
            "  inflating: COVID_IEEE/normal/NORMAL2-IM-0749-0001.jpeg  \n",
            "  inflating: COVID_IEEE/normal/NORMAL2-IM-0753-0001.jpeg  \n",
            "  inflating: COVID_IEEE/normal/NORMAL2-IM-0757-0001.jpeg  \n",
            "  inflating: COVID_IEEE/normal/NORMAL2-IM-0765-0001.jpeg  \n",
            "  inflating: COVID_IEEE/normal/NORMAL2-IM-0771-0001.jpeg  \n",
            "  inflating: COVID_IEEE/normal/NORMAL2-IM-0772-0001.jpeg  \n",
            "  inflating: COVID_IEEE/normal/NORMAL2-IM-0774-0001.jpeg  \n",
            "  inflating: COVID_IEEE/normal/NORMAL2-IM-0775-0001.jpeg  \n",
            "  inflating: COVID_IEEE/normal/NORMAL2-IM-0776-0001.jpeg  \n",
            "  inflating: COVID_IEEE/normal/NORMAL2-IM-0777-0001.jpeg  \n",
            "  inflating: COVID_IEEE/normal/NORMAL2-IM-0780-0001.jpeg  \n",
            "  inflating: COVID_IEEE/normal/NORMAL2-IM-0781-0001.jpeg  \n",
            "  inflating: COVID_IEEE/normal/NORMAL2-IM-0790-0001.jpeg  \n",
            "  inflating: COVID_IEEE/normal/NORMAL2-IM-0793-0001.jpeg  \n",
            "  inflating: COVID_IEEE/normal/NORMAL2-IM-0796-0001.jpeg  \n",
            "  inflating: COVID_IEEE/normal/NORMAL2-IM-0797-0001.jpeg  \n",
            "  inflating: COVID_IEEE/normal/NORMAL2-IM-0798-0001.jpeg  \n",
            "  inflating: COVID_IEEE/normal/NORMAL2-IM-0799-0001.jpeg  \n",
            "  inflating: COVID_IEEE/normal/NORMAL2-IM-0803-0001.jpeg  \n",
            "  inflating: COVID_IEEE/normal/NORMAL2-IM-0804-0001.jpeg  \n",
            "  inflating: COVID_IEEE/normal/NORMAL2-IM-0806-0001.jpeg  \n",
            "  inflating: COVID_IEEE/normal/NORMAL2-IM-0807-0001.jpeg  \n",
            "  inflating: COVID_IEEE/normal/NORMAL2-IM-0808-0001.jpeg  \n",
            "  inflating: COVID_IEEE/normal/NORMAL2-IM-0809-0001.jpeg  \n",
            "  inflating: COVID_IEEE/virus/person101_virus_187.jpeg  \n",
            "  inflating: COVID_IEEE/virus/person102_virus_189.jpeg  \n",
            "  inflating: COVID_IEEE/virus/person103_virus_190.jpeg  \n",
            "  inflating: COVID_IEEE/virus/person104_virus_191.jpeg  \n",
            "  inflating: COVID_IEEE/virus/person105_virus_192.jpeg  \n",
            "  inflating: COVID_IEEE/virus/person105_virus_193.jpeg  \n",
            "  inflating: COVID_IEEE/virus/person106_virus_194.jpeg  \n",
            "  inflating: COVID_IEEE/virus/person107_virus_197.jpeg  \n",
            "  inflating: COVID_IEEE/virus/person108_virus_199.jpeg  \n",
            "  inflating: COVID_IEEE/virus/person108_virus_200.jpeg  \n",
            "  inflating: COVID_IEEE/virus/person108_virus_201.jpeg  \n",
            "  inflating: COVID_IEEE/virus/person109_virus_203.jpeg  \n",
            "  inflating: COVID_IEEE/virus/person10_virus_35.jpeg  \n",
            "  inflating: COVID_IEEE/virus/person110_virus_205.jpeg  \n",
            "  inflating: COVID_IEEE/virus/person110_virus_206.jpeg  \n",
            "  inflating: COVID_IEEE/virus/person110_virus_207.jpeg  \n",
            "  inflating: COVID_IEEE/virus/person110_virus_208.jpeg  \n",
            "  inflating: COVID_IEEE/virus/person111_virus_209.jpeg  \n",
            "  inflating: COVID_IEEE/virus/person111_virus_210.jpeg  \n",
            "  inflating: COVID_IEEE/virus/person111_virus_212.jpeg  \n",
            "  inflating: COVID_IEEE/virus/person112_virus_213.jpeg  \n",
            "  inflating: COVID_IEEE/virus/person113_virus_215.jpeg  \n",
            "  inflating: COVID_IEEE/virus/person113_virus_216.jpeg  \n",
            "  inflating: COVID_IEEE/virus/person114_virus_217.jpeg  \n",
            "  inflating: COVID_IEEE/virus/person115_virus_218.jpeg  \n",
            "  inflating: COVID_IEEE/virus/person115_virus_219.jpeg  \n",
            "  inflating: COVID_IEEE/virus/person116_virus_221.jpeg  \n",
            "  inflating: COVID_IEEE/virus/person117_virus_223.jpeg  \n",
            "  inflating: COVID_IEEE/virus/person1180_virus_2011.jpeg  \n",
            "  inflating: COVID_IEEE/virus/person1180_virus_2012.jpeg  \n",
            "  inflating: COVID_IEEE/virus/person1180_virus_2013.jpeg  \n",
            "  inflating: COVID_IEEE/virus/person1180_virus_2014.jpeg  \n",
            "  inflating: COVID_IEEE/virus/person1180_virus_2015.jpeg  \n",
            "  inflating: COVID_IEEE/virus/person1181_virus_2016.jpeg  \n",
            "  inflating: COVID_IEEE/virus/person1182_virus_2017.jpeg  \n",
            "  inflating: COVID_IEEE/virus/person1183_virus_2018.jpeg  \n",
            "  inflating: COVID_IEEE/virus/person1184_virus_2019.jpeg  \n",
            "  inflating: COVID_IEEE/virus/person1186_virus_2021.jpeg  \n",
            "  inflating: COVID_IEEE/virus/person1186_virus_2022.jpeg  \n",
            "  inflating: COVID_IEEE/virus/person1187_virus_2023.jpeg  \n",
            "  inflating: COVID_IEEE/virus/person1188_virus_2024.jpeg  \n",
            "  inflating: COVID_IEEE/virus/person118_virus_224.jpeg  \n",
            "  inflating: COVID_IEEE/virus/person1190_virus_2031.jpeg  \n",
            "  inflating: COVID_IEEE/virus/person1191_virus_2032.jpeg  \n",
            "  inflating: COVID_IEEE/virus/person1193_virus_2034.jpeg  \n",
            "  inflating: COVID_IEEE/virus/person1197_virus_2039.jpeg  \n",
            "  inflating: COVID_IEEE/virus/person119_virus_225.jpeg  \n",
            "  inflating: COVID_IEEE/virus/person11_virus_38.jpeg  \n",
            "  inflating: COVID_IEEE/virus/person1200_virus_2042.jpeg  \n",
            "  inflating: COVID_IEEE/virus/person1202_virus_2045.jpeg  \n",
            "  inflating: COVID_IEEE/virus/person1206_virus_2051.jpeg  \n",
            "  inflating: COVID_IEEE/virus/person120_virus_226.jpeg  \n",
            "  inflating: COVID_IEEE/virus/person1211_virus_2056.jpeg  \n",
            "  inflating: COVID_IEEE/virus/person1212_virus_2057.jpeg  \n",
            "  inflating: COVID_IEEE/virus/person1213_virus_2058.jpeg  \n",
            "  inflating: COVID_IEEE/virus/person1214_virus_2059.jpeg  \n",
            "  inflating: COVID_IEEE/virus/person1216_virus_2062.jpeg  \n",
            "  inflating: COVID_IEEE/virus/person1217_virus_2063.jpeg  \n",
            "  inflating: COVID_IEEE/virus/person1218_virus_2066.jpeg  \n",
            "  inflating: COVID_IEEE/virus/person1219_virus_2067.jpeg  \n",
            "  inflating: COVID_IEEE/virus/person1220_virus_2068.jpeg  \n",
            "  inflating: COVID_IEEE/virus/person1222_virus_2071.jpeg  \n",
            "  inflating: COVID_IEEE/virus/person1223_virus_2073.jpeg  \n",
            "  inflating: COVID_IEEE/virus/person1224_virus_2074.jpeg  \n",
            "  inflating: COVID_IEEE/virus/person1225_virus_2076.jpeg  \n",
            "  inflating: COVID_IEEE/virus/person1226_virus_2077.jpeg  \n",
            "  inflating: COVID_IEEE/virus/person1227_virus_2078.jpeg  \n",
            "  inflating: COVID_IEEE/virus/person1228_virus_2079.jpeg  \n",
            "  inflating: COVID_IEEE/virus/person1229_virus_2080.jpeg  \n",
            "  inflating: COVID_IEEE/virus/person122_virus_229.jpeg  \n",
            "  inflating: COVID_IEEE/virus/person1230_virus_2081.jpeg  \n",
            "  inflating: COVID_IEEE/virus/person1231_virus_2088.jpeg  \n",
            "  inflating: COVID_IEEE/virus/person1232_virus_2089.jpeg  \n",
            "  inflating: COVID_IEEE/virus/person1233_virus_2090.jpeg  \n",
            "  inflating: COVID_IEEE/virus/person1234_virus_2093.jpeg  \n",
            "  inflating: COVID_IEEE/virus/person1235_virus_2095.jpeg  \n",
            "  inflating: COVID_IEEE/virus/person1236_virus_2096.jpeg  \n",
            "  inflating: COVID_IEEE/virus/person1237_virus_2097.jpeg  \n",
            "  inflating: COVID_IEEE/virus/person1238_virus_2098.jpeg  \n",
            "  inflating: COVID_IEEE/virus/person1239_virus_2099.jpeg  \n",
            "  inflating: COVID_IEEE/virus/person123_virus_230.jpeg  \n",
            "  inflating: COVID_IEEE/virus/person1241_virus_2106.jpeg  \n",
            "  inflating: COVID_IEEE/virus/person1242_virus_2108.jpeg  \n",
            "  inflating: COVID_IEEE/virus/person1242_virus_2109.jpeg  \n",
            "  inflating: COVID_IEEE/virus/person1243_virus_2110.jpeg  \n",
            "  inflating: COVID_IEEE/virus/person1244_virus_2111.jpeg  \n",
            "  inflating: COVID_IEEE/virus/person1247_virus_2115.jpeg  \n",
            "  inflating: COVID_IEEE/virus/person1248_virus_2117.jpeg  \n",
            "  inflating: COVID_IEEE/virus/person1249_virus_2118.jpeg  \n",
            "  inflating: COVID_IEEE/virus/person124_virus_231.jpeg  \n",
            "  inflating: COVID_IEEE/virus/person124_virus_233.jpeg  \n",
            "  inflating: COVID_IEEE/virus/person124_virus_234.jpeg  \n",
            "  inflating: COVID_IEEE/virus/person124_virus_236.jpeg  \n",
            "  inflating: COVID_IEEE/virus/person124_virus_237.jpeg  \n",
            "  inflating: COVID_IEEE/virus/person124_virus_238.jpeg  \n",
            "  inflating: COVID_IEEE/virus/person124_virus_239.jpeg  \n",
            "  inflating: COVID_IEEE/virus/person124_virus_240.jpeg  \n",
            "  inflating: COVID_IEEE/virus/person124_virus_242.jpeg  \n",
            "  inflating: COVID_IEEE/virus/person124_virus_244.jpeg  \n",
            "  inflating: COVID_IEEE/virus/person124_virus_245.jpeg  \n",
            "  inflating: COVID_IEEE/virus/person1252_virus_2124.jpeg  \n",
            "  inflating: COVID_IEEE/virus/person1253_virus_2129.jpeg  \n",
            "  inflating: COVID_IEEE/virus/person1254_virus_2130.jpeg  \n",
            "  inflating: COVID_IEEE/virus/person1255_virus_2132.jpeg  \n",
            "  inflating: COVID_IEEE/virus/person1258_virus_2138.jpeg  \n",
            "  inflating: COVID_IEEE/virus/person1259_virus_2139.jpeg  \n",
            "  inflating: COVID_IEEE/virus/person1260_virus_2140.jpeg  \n",
            "  inflating: COVID_IEEE/virus/person1261_virus_2145.jpeg  \n",
            "  inflating: COVID_IEEE/virus/person1261_virus_2147.jpeg  \n",
            "  inflating: COVID_IEEE/virus/person1261_virus_2148.jpeg  \n",
            "  inflating: COVID_IEEE/virus/person1264_virus_2155.jpeg  \n",
            "  inflating: COVID_IEEE/virus/person1265_virus_2156.jpeg  \n",
            "  inflating: COVID_IEEE/virus/person1266_virus_2158.jpeg  \n",
            "  inflating: COVID_IEEE/virus/person1267_virus_2160.jpeg  \n",
            "  inflating: COVID_IEEE/virus/person1268_virus_2161.jpeg  \n",
            "  inflating: COVID_IEEE/virus/person1269_virus_2162.jpeg  \n",
            "  inflating: COVID_IEEE/virus/person1270_virus_2163.jpeg  \n",
            "  inflating: COVID_IEEE/virus/person1271_virus_2164.jpeg  \n",
            "  inflating: COVID_IEEE/virus/person1272_virus_2190.jpeg  \n",
            "  inflating: COVID_IEEE/virus/person1273_virus_2191.jpeg  \n",
            "  inflating: COVID_IEEE/virus/person1276_virus_2198.jpeg  \n",
            "  inflating: COVID_IEEE/virus/person1278_virus_2201.jpeg  \n",
            "  inflating: COVID_IEEE/virus/person1281_virus_2204.jpeg  \n",
            "  inflating: COVID_IEEE/virus/person1283_virus_2206.jpeg  \n",
            "  inflating: COVID_IEEE/virus/person1284_virus_2207.jpeg  \n",
            "  inflating: COVID_IEEE/virus/person1285_virus_2208.jpeg  \n",
            "  inflating: COVID_IEEE/virus/person1286_virus_2209.jpeg  \n",
            "  inflating: COVID_IEEE/virus/person1287_virus_2210.jpeg  \n",
            "  inflating: COVID_IEEE/virus/person1288_virus_2211.jpeg  \n",
            "  inflating: COVID_IEEE/virus/person1290_virus_2215.jpeg  \n",
            "  inflating: COVID_IEEE/virus/person1290_virus_2216.jpeg  \n",
            "  inflating: COVID_IEEE/virus/person1291_virus_2217.jpeg  \n",
            "  inflating: COVID_IEEE/virus/person1292_virus_2218.jpeg  \n",
            "  inflating: COVID_IEEE/virus/person1293_virus_2219.jpeg  \n",
            "  inflating: COVID_IEEE/virus/person1294_virus_2221.jpeg  \n",
            "  inflating: COVID_IEEE/virus/person1294_virus_2222.jpeg  \n",
            "  inflating: COVID_IEEE/virus/person1295_virus_2223.jpeg  \n",
            "  inflating: COVID_IEEE/virus/person1296_virus_2224.jpeg  \n",
            "  inflating: COVID_IEEE/virus/person1298_virus_2226.jpeg  \n",
            "  inflating: COVID_IEEE/virus/person1298_virus_2228.jpeg  \n",
            "  inflating: COVID_IEEE/virus/person1300_virus_2240.jpeg  \n",
            "  inflating: COVID_IEEE/virus/person1301_virus_2241.jpeg  \n",
            "  inflating: COVID_IEEE/virus/person1303_virus_2243.jpeg  \n",
            "  inflating: COVID_IEEE/virus/person1306_virus_2249.jpeg  \n",
            "  inflating: COVID_IEEE/virus/person1307_virus_2251.jpeg  \n",
            "  inflating: COVID_IEEE/virus/person1308_virus_2252.jpeg  \n",
            "  inflating: COVID_IEEE/virus/person1308_virus_2253.jpeg  \n",
            "  inflating: COVID_IEEE/virus/person1309_virus_2254.jpeg  \n",
            "  inflating: COVID_IEEE/virus/person1310_virus_2255.jpeg  \n",
            "  inflating: COVID_IEEE/virus/person1311_virus_2257.jpeg  \n",
            "  inflating: COVID_IEEE/virus/person1311_virus_2259.jpeg  \n",
            "  inflating: COVID_IEEE/virus/person1314_virus_2268.jpeg  \n",
            "  inflating: COVID_IEEE/virus/person1315_virus_2270.jpeg  \n",
            "  inflating: COVID_IEEE/virus/person1316_virus_2271.jpeg  \n",
            "  inflating: COVID_IEEE/virus/person1317_virus_2273.jpeg  \n",
            "  inflating: COVID_IEEE/virus/person1319_virus_2276.jpeg  \n",
            "  inflating: COVID_IEEE/virus/person1320_virus_2277.jpeg  \n",
            "  inflating: COVID_IEEE/virus/person1321_virus_2279.jpeg  \n",
            "  inflating: COVID_IEEE/virus/person1323_virus_2282.jpeg  \n",
            "  inflating: COVID_IEEE/virus/person1323_virus_2283.jpeg  \n",
            "  inflating: COVID_IEEE/virus/person1324_virus_2284.jpeg  \n",
            "  inflating: COVID_IEEE/virus/person1324_virus_2285.jpeg  \n",
            "  inflating: COVID_IEEE/virus/person1325_virus_2287.jpeg  \n",
            "  inflating: COVID_IEEE/virus/person1328_virus_2293.jpeg  \n",
            "  inflating: COVID_IEEE/virus/person1328_virus_2294.jpeg  \n",
            "  inflating: COVID_IEEE/virus/person1331_virus_2299.jpeg  \n",
            "  inflating: COVID_IEEE/virus/person1332_virus_2300.jpeg  \n",
            "  inflating: COVID_IEEE/virus/person14_virus_44.jpeg  \n",
            "  inflating: COVID_IEEE/virus/person16_virus_47.jpeg  \n",
            "  inflating: COVID_IEEE/virus/person17_virus_48.jpeg  \n",
            "  inflating: COVID_IEEE/virus/person18_virus_49.jpeg  \n",
            "  inflating: COVID_IEEE/virus/person19_virus_50.jpeg  \n",
            "  inflating: COVID_IEEE/virus/person1_virus_11.jpeg  \n",
            "  inflating: COVID_IEEE/virus/person1_virus_12.jpeg  \n",
            "  inflating: COVID_IEEE/virus/person1_virus_13.jpeg  \n",
            "  inflating: COVID_IEEE/virus/person1_virus_6.jpeg  \n",
            "  inflating: COVID_IEEE/virus/person1_virus_8.jpeg  \n",
            "  inflating: COVID_IEEE/virus/person1_virus_9.jpeg  \n",
            "  inflating: COVID_IEEE/virus/person20_virus_51.jpeg  \n",
            "  inflating: COVID_IEEE/virus/person21_virus_52.jpeg  \n",
            "  inflating: COVID_IEEE/virus/person22_virus_54.jpeg  \n",
            "  inflating: COVID_IEEE/virus/person22_virus_55.jpeg  \n",
            "  inflating: COVID_IEEE/virus/person23_virus_56.jpeg  \n",
            "  inflating: COVID_IEEE/virus/person24_virus_58.jpeg  \n",
            "  inflating: COVID_IEEE/virus/person26_virus_60.jpeg  \n",
            "  inflating: COVID_IEEE/virus/person28_virus_62.jpeg  \n",
            "  inflating: COVID_IEEE/virus/person28_virus_63.jpeg  \n",
            "  inflating: COVID_IEEE/virus/person29_virus_64.jpeg  \n",
            "  inflating: COVID_IEEE/virus/person324_virus_658.jpeg  \n",
            "  inflating: COVID_IEEE/virus/person325_virus_664.jpeg  \n",
            "  inflating: COVID_IEEE/virus/person327_virus_679.jpeg  \n",
            "  inflating: COVID_IEEE/virus/person328_virus_681.jpeg  \n",
            "  inflating: COVID_IEEE/virus/person32_virus_71.jpeg  \n",
            "  inflating: COVID_IEEE/virus/person330_virus_683.jpeg  \n",
            "  inflating: COVID_IEEE/virus/person338_virus_694.jpeg  \n",
            "  inflating: COVID_IEEE/virus/person339_virus_695.jpeg  \n",
            "  inflating: COVID_IEEE/virus/person340_virus_698.jpeg  \n",
            "  inflating: COVID_IEEE/virus/person341_virus_699.jpeg  \n",
            "  inflating: COVID_IEEE/virus/person342_virus_701.jpeg  \n",
            "  inflating: COVID_IEEE/virus/person342_virus_702.jpeg  \n",
            "  inflating: COVID_IEEE/virus/person343_virus_704.jpeg  \n",
            "  inflating: COVID_IEEE/virus/person344_virus_705.jpeg  \n",
            "  inflating: COVID_IEEE/virus/person346_virus_708.jpeg  \n",
            "  inflating: COVID_IEEE/virus/person346_virus_709.jpeg  \n",
            "  inflating: COVID_IEEE/virus/person348_virus_711.jpeg  \n",
            "  inflating: COVID_IEEE/virus/person348_virus_714.jpeg  \n",
            "  inflating: COVID_IEEE/virus/person348_virus_715.jpeg  \n",
            "  inflating: COVID_IEEE/virus/person348_virus_716.jpeg  \n",
            "  inflating: COVID_IEEE/virus/person348_virus_717.jpeg  \n",
            "  inflating: COVID_IEEE/virus/person348_virus_719.jpeg  \n",
            "  inflating: COVID_IEEE/virus/person348_virus_720.jpeg  \n",
            "  inflating: COVID_IEEE/virus/person348_virus_721.jpeg  \n",
            "  inflating: COVID_IEEE/virus/person348_virus_723.jpeg  \n",
            "  inflating: COVID_IEEE/virus/person34_virus_76.jpeg  \n",
            "  inflating: COVID_IEEE/virus/person354_virus_729.jpeg  \n",
            "  inflating: COVID_IEEE/virus/person35_virus_80.jpeg  \n",
            "  inflating: COVID_IEEE/virus/person363_virus_742.jpeg  \n",
            "  inflating: COVID_IEEE/virus/person368_virus_748.jpeg  \n",
            "  inflating: COVID_IEEE/virus/person36_virus_81.jpeg  \n",
            "  inflating: COVID_IEEE/virus/person374_virus_757.jpeg  \n",
            "  inflating: COVID_IEEE/virus/person376_virus_759.jpeg  \n",
            "  inflating: COVID_IEEE/virus/person377_virus_760.jpeg  \n",
            "  inflating: COVID_IEEE/virus/person378_virus_761.jpeg  \n",
            "  inflating: COVID_IEEE/virus/person379_virus_762.jpeg  \n",
            "  inflating: COVID_IEEE/virus/person37_virus_82.jpeg  \n",
            "  inflating: COVID_IEEE/virus/person380_virus_763.jpeg  \n",
            "  inflating: COVID_IEEE/virus/person383_virus_767.jpeg  \n",
            "  inflating: COVID_IEEE/virus/person384_virus_769.jpeg  \n",
            "  inflating: COVID_IEEE/virus/person385_virus_770.jpeg  \n",
            "  inflating: COVID_IEEE/virus/person386_virus_771.jpeg  \n",
            "  inflating: COVID_IEEE/virus/person387_virus_772.jpeg  \n",
            "  inflating: COVID_IEEE/virus/person388_virus_775.jpeg  \n",
            "  inflating: COVID_IEEE/virus/person388_virus_777.jpeg  \n",
            "  inflating: COVID_IEEE/virus/person389_virus_778.jpeg  \n",
            "  inflating: COVID_IEEE/virus/person38_virus_83.jpeg  \n",
            "  inflating: COVID_IEEE/virus/person391_virus_781.jpeg  \n",
            "  inflating: COVID_IEEE/virus/person392_virus_782.jpeg  \n",
            "  inflating: COVID_IEEE/virus/person393_virus_784.jpeg  \n",
            "  inflating: COVID_IEEE/virus/person395_virus_788.jpeg  \n",
            "  inflating: COVID_IEEE/virus/person396_virus_789.jpeg  \n",
            "  inflating: COVID_IEEE/virus/person397_virus_790.jpeg  \n",
            "  inflating: COVID_IEEE/virus/person399_virus_793.jpeg  \n",
            "  inflating: COVID_IEEE/virus/person39_virus_85.jpeg  \n",
            "  inflating: COVID_IEEE/virus/person3_virus_15.jpeg  \n",
            "  inflating: COVID_IEEE/virus/person3_virus_17.jpeg  \n",
            "  inflating: COVID_IEEE/virus/person400_virus_794.jpeg  \n",
            "  inflating: COVID_IEEE/virus/person401_virus_795.jpeg  \n",
            "  inflating: COVID_IEEE/virus/person401_virus_797.jpeg  \n",
            "  inflating: COVID_IEEE/virus/person401_virus_798.jpeg  \n",
            "  inflating: COVID_IEEE/virus/person402_virus_799.jpeg  \n",
            "  inflating: COVID_IEEE/virus/person405_virus_805.jpeg  \n",
            "  inflating: COVID_IEEE/virus/person407_virus_811.jpeg  \n",
            "  inflating: COVID_IEEE/virus/person407_virus_812.jpeg  \n",
            "  inflating: COVID_IEEE/virus/person407_virus_814.jpeg  \n",
            "  inflating: COVID_IEEE/virus/person408_virus_815.jpeg  \n",
            "  inflating: COVID_IEEE/virus/person409_virus_816.jpeg  \n",
            "  inflating: COVID_IEEE/virus/person409_virus_818.jpeg  \n",
            "  inflating: COVID_IEEE/virus/person409_virus_820.jpeg  \n",
            "  inflating: COVID_IEEE/virus/person410_virus_821.jpeg  \n",
            "  inflating: COVID_IEEE/virus/person413_virus_844.jpeg  \n",
            "  inflating: COVID_IEEE/virus/person414_virus_845.jpeg  \n",
            "  inflating: COVID_IEEE/virus/person416_virus_849.jpeg  \n",
            "  inflating: COVID_IEEE/virus/person418_virus_852.jpeg  \n",
            "  inflating: COVID_IEEE/virus/person419_virus_859.jpeg  \n",
            "  inflating: COVID_IEEE/virus/person419_virus_861.jpeg  \n",
            "  inflating: COVID_IEEE/virus/person422_virus_867.jpeg  \n",
            "  inflating: COVID_IEEE/virus/person423_virus_869.jpeg  \n",
            "  inflating: COVID_IEEE/virus/person425_virus_871.jpeg  \n",
            "  inflating: COVID_IEEE/virus/person426_virus_873.jpeg  \n",
            "  inflating: COVID_IEEE/virus/person427_virus_875.jpeg  \n",
            "  inflating: COVID_IEEE/virus/person428_virus_876.jpeg  \n",
            "  inflating: COVID_IEEE/virus/person429_virus_877.jpeg  \n",
            "  inflating: COVID_IEEE/virus/person42_virus_89.jpeg  \n",
            "  inflating: COVID_IEEE/virus/person430_virus_879.jpeg  \n",
            "  inflating: COVID_IEEE/virus/person431_virus_880.jpeg  \n",
            "  inflating: COVID_IEEE/virus/person432_virus_881.jpeg  \n",
            "  inflating: COVID_IEEE/virus/person433_virus_882.jpeg  \n",
            "  inflating: COVID_IEEE/virus/person434_virus_883.jpeg  \n",
            "  inflating: COVID_IEEE/virus/person434_virus_884.jpeg  \n",
            "  inflating: COVID_IEEE/virus/person435_virus_885.jpeg  \n",
            "  inflating: COVID_IEEE/virus/person436_virus_886.jpeg  \n",
            "  inflating: COVID_IEEE/virus/person437_virus_888.jpeg  \n",
            "  inflating: COVID_IEEE/virus/person438_virus_889.jpeg  \n",
            "  inflating: COVID_IEEE/virus/person441_virus_894.jpeg  \n",
            "  inflating: COVID_IEEE/virus/person441_virus_895.jpeg  \n",
            "  inflating: COVID_IEEE/virus/person441_virus_896.jpeg  \n",
            "  inflating: COVID_IEEE/virus/person441_virus_897.jpeg  \n",
            "  inflating: COVID_IEEE/virus/person442_virus_898.jpeg  \n",
            "  inflating: COVID_IEEE/virus/person442_virus_899.jpeg  \n",
            "  inflating: COVID_IEEE/virus/person442_virus_900.jpeg  \n",
            "  inflating: COVID_IEEE/virus/person442_virus_901.jpeg  \n",
            "  inflating: COVID_IEEE/virus/person442_virus_902.jpeg  \n",
            "  inflating: COVID_IEEE/virus/person442_virus_903.jpeg  \n",
            "  inflating: COVID_IEEE/virus/person442_virus_904.jpeg  \n",
            "  inflating: COVID_IEEE/virus/person442_virus_905.jpeg  \n",
            "  inflating: COVID_IEEE/virus/person442_virus_906.jpeg  \n",
            "  inflating: COVID_IEEE/virus/person443_virus_908.jpeg  \n",
            "  inflating: COVID_IEEE/virus/person444_virus_911.jpeg  \n",
            "  inflating: COVID_IEEE/virus/person445_virus_912.jpeg  \n",
            "  inflating: COVID_IEEE/virus/person445_virus_913.jpeg  \n",
            "  inflating: COVID_IEEE/virus/person445_virus_914.jpeg  \n",
            "  inflating: COVID_IEEE/virus/person445_virus_915.jpeg  \n",
            "  inflating: COVID_IEEE/virus/person445_virus_916.jpeg  \n",
            "  inflating: COVID_IEEE/virus/person445_virus_917.jpeg  \n",
            "  inflating: COVID_IEEE/virus/person445_virus_918.jpeg  \n",
            "  inflating: COVID_IEEE/virus/person445_virus_919.jpeg  \n",
            "  inflating: COVID_IEEE/virus/person446_virus_920.jpeg  \n",
            "  inflating: COVID_IEEE/virus/person447_virus_921.jpeg  \n",
            "  inflating: COVID_IEEE/virus/person447_virus_921_1.jpeg  \n",
            "  inflating: COVID_IEEE/virus/person448_virus_922.jpeg  \n",
            "  inflating: COVID_IEEE/virus/person450_virus_931.jpeg  \n",
            "  inflating: COVID_IEEE/virus/person451_virus_932.jpeg  \n",
            "  inflating: COVID_IEEE/virus/person453_virus_935.jpeg  \n",
            "  inflating: COVID_IEEE/virus/person453_virus_936.jpeg  \n",
            "  inflating: COVID_IEEE/virus/person454_virus_938.jpeg  \n",
            "  inflating: COVID_IEEE/virus/person456_virus_943.jpeg  \n",
            "  inflating: COVID_IEEE/virus/person457_virus_944.jpeg  \n",
            "  inflating: COVID_IEEE/virus/person458_virus_945.jpeg  \n",
            "  inflating: COVID_IEEE/virus/person459_virus_947.jpeg  \n",
            "  inflating: COVID_IEEE/virus/person460_virus_948.jpeg  \n",
            "  inflating: COVID_IEEE/virus/person461_virus_949.jpeg  \n",
            "  inflating: COVID_IEEE/virus/person461_virus_950.jpeg  \n",
            "  inflating: COVID_IEEE/virus/person462_virus_951.jpeg  \n",
            "  inflating: COVID_IEEE/virus/person463_virus_952.jpeg  \n",
            "  inflating: COVID_IEEE/virus/person463_virus_953.jpeg  \n",
            "  inflating: COVID_IEEE/virus/person464_virus_954.jpeg  \n",
            "  inflating: COVID_IEEE/virus/person464_virus_956.jpeg  \n",
            "  inflating: COVID_IEEE/virus/person468_virus_963.jpeg  \n",
            "  inflating: COVID_IEEE/virus/person46_virus_96.jpeg  \n",
            "  inflating: COVID_IEEE/virus/person471_virus_967.jpeg  \n",
            "  inflating: COVID_IEEE/virus/person474_virus_971.jpeg  \n",
            "  inflating: COVID_IEEE/virus/person476_virus_973.jpeg  \n",
            "  inflating: COVID_IEEE/virus/person47_virus_99.jpeg  \n",
            "  inflating: COVID_IEEE/virus/person484_virus_986.jpeg  \n",
            "  inflating: COVID_IEEE/virus/person485_virus_988.jpeg  \n",
            "  inflating: COVID_IEEE/virus/person487_virus_991.jpeg  \n",
            "  inflating: COVID_IEEE/virus/person488_virus_992.jpeg  \n",
            "  inflating: COVID_IEEE/virus/person489_virus_994.jpeg  \n",
            "  inflating: COVID_IEEE/virus/person48_virus_100.jpeg  \n",
            "  inflating: COVID_IEEE/virus/person490_virus_996.jpeg  \n",
            "  inflating: COVID_IEEE/virus/person491_virus_997.jpeg  \n",
            "  inflating: COVID_IEEE/virus/person492_virus_998.jpeg  \n",
            "  inflating: COVID_IEEE/virus/person493_virus_999.jpeg  \n",
            "  inflating: COVID_IEEE/virus/person494_virus_1000.jpeg  \n",
            "  inflating: COVID_IEEE/virus/person495_virus_1001.jpeg  \n",
            "  inflating: COVID_IEEE/virus/person496_virus_1003.jpeg  \n",
            "  inflating: COVID_IEEE/virus/person497_virus_1005.jpeg  \n",
            "  inflating: COVID_IEEE/virus/person498_virus_1007.jpeg  \n",
            "  inflating: COVID_IEEE/virus/person499_virus_1008.jpeg  \n",
            "  inflating: COVID_IEEE/virus/person500_virus_1009.jpeg  \n",
            "  inflating: COVID_IEEE/virus/person502_virus_1011.jpeg  \n",
            "  inflating: COVID_IEEE/virus/person502_virus_1012.jpeg  \n",
            "  inflating: COVID_IEEE/virus/person503_virus_1013.jpeg  \n",
            "  inflating: COVID_IEEE/virus/person507_virus_1019.jpeg  \n",
            "  inflating: COVID_IEEE/virus/person508_virus_1020.jpeg  \n",
            "  inflating: COVID_IEEE/virus/person508_virus_1021.jpeg  \n",
            "  inflating: COVID_IEEE/virus/person509_virus_1024.jpeg  \n",
            "  inflating: COVID_IEEE/virus/person509_virus_1025.jpeg  \n",
            "  inflating: COVID_IEEE/virus/person50_virus_102.jpeg  \n",
            "  inflating: COVID_IEEE/virus/person510_virus_1026.jpeg  \n",
            "  inflating: COVID_IEEE/virus/person511_virus_1027.jpeg  \n",
            "  inflating: COVID_IEEE/virus/person512_virus_1029.jpeg  \n",
            "  inflating: COVID_IEEE/virus/person513_virus_1030.jpeg  \n",
            "  inflating: COVID_IEEE/virus/person514_virus_1031.jpeg  \n",
            "  inflating: COVID_IEEE/virus/person515_virus_1032.jpeg  \n",
            "  inflating: COVID_IEEE/virus/person516_virus_1033.jpeg  \n",
            "  inflating: COVID_IEEE/virus/person51_virus_105.jpeg  \n",
            "  inflating: COVID_IEEE/virus/person52_virus_106.jpeg  \n",
            "  inflating: COVID_IEEE/virus/person53_virus_107.jpeg  \n",
            "  inflating: COVID_IEEE/virus/person53_virus_108.jpeg  \n",
            "  inflating: COVID_IEEE/virus/person54_virus_109.jpeg  \n",
            "  inflating: COVID_IEEE/virus/person557_virus_1097.jpeg  \n",
            "  inflating: COVID_IEEE/virus/person558_virus_1098.jpeg  \n",
            "  inflating: COVID_IEEE/virus/person559_virus_1099.jpeg  \n",
            "  inflating: COVID_IEEE/virus/person55_virus_110.jpeg  \n",
            "  inflating: COVID_IEEE/virus/person562_virus_1102.jpeg  \n",
            "  inflating: COVID_IEEE/virus/person563_virus_1103.jpeg  \n",
            "  inflating: COVID_IEEE/virus/person564_virus_1104.jpeg  \n",
            "  inflating: COVID_IEEE/virus/person566_virus_1106.jpeg  \n",
            "  inflating: COVID_IEEE/virus/person567_virus_1107.jpeg  \n",
            "  inflating: COVID_IEEE/virus/person569_virus_1110.jpeg  \n",
            "  inflating: COVID_IEEE/virus/person56_virus_112.jpeg  \n",
            "  inflating: COVID_IEEE/virus/person570_virus_1112.jpeg  \n",
            "  inflating: COVID_IEEE/virus/person571_virus_1114.jpeg  \n",
            "  inflating: COVID_IEEE/virus/person573_virus_1116.jpeg  \n",
            "  inflating: COVID_IEEE/virus/person574_virus_1118.jpeg  \n",
            "  inflating: COVID_IEEE/virus/person575_virus_1119.jpeg  \n",
            "  inflating: COVID_IEEE/virus/person576_virus_1120.jpeg  \n",
            "  inflating: COVID_IEEE/virus/person577_virus_1121.jpeg  \n",
            "  inflating: COVID_IEEE/virus/person578_virus_1122.jpeg  \n",
            "  inflating: COVID_IEEE/virus/person579_virus_1123.jpeg  \n",
            "  inflating: COVID_IEEE/virus/person57_virus_113.jpeg  \n",
            "  inflating: COVID_IEEE/virus/person583_virus_1127.jpeg  \n",
            "  inflating: COVID_IEEE/virus/person584_virus_1128.jpeg  \n",
            "  inflating: COVID_IEEE/virus/person585_virus_1129.jpeg  \n",
            "  inflating: COVID_IEEE/virus/person586_virus_1130.jpeg  \n",
            "  inflating: COVID_IEEE/virus/person588_virus_1134.jpeg  \n",
            "  inflating: COVID_IEEE/virus/person588_virus_1135.jpeg  \n",
            "  inflating: COVID_IEEE/virus/person590_virus_1138.jpeg  \n",
            "  inflating: COVID_IEEE/virus/person591_virus_1139.jpeg  \n",
            "  inflating: COVID_IEEE/virus/person598_virus_1151.jpeg  \n",
            "  inflating: COVID_IEEE/virus/person598_virus_1153.jpeg  \n",
            "  inflating: COVID_IEEE/virus/person598_virus_1154.jpeg  \n",
            "  inflating: COVID_IEEE/virus/person599_virus_1155.jpeg  \n",
            "  inflating: COVID_IEEE/virus/person59_virus_116.jpeg  \n",
            "  inflating: COVID_IEEE/virus/person600_virus_1156.jpeg  \n",
            "  inflating: COVID_IEEE/virus/person603_virus_1164.jpeg  \n",
            "  inflating: COVID_IEEE/virus/person604_virus_1165.jpeg  \n",
            "  inflating: COVID_IEEE/virus/person605_virus_1166.jpeg  \n",
            "  inflating: COVID_IEEE/virus/person605_virus_1169.jpeg  \n",
            "  inflating: COVID_IEEE/virus/person607_virus_1173.jpeg  \n",
            "  inflating: COVID_IEEE/virus/person608_virus_1175.jpeg  \n",
            "  inflating: COVID_IEEE/virus/person609_virus_1176.jpeg  \n",
            "  inflating: COVID_IEEE/virus/person610_virus_1177.jpeg  \n",
            "  inflating: COVID_IEEE/virus/person612_virus_1179.jpeg  \n",
            "  inflating: COVID_IEEE/virus/person613_virus_1181.jpeg  \n",
            "  inflating: COVID_IEEE/virus/person614_virus_1183.jpeg  \n",
            "  inflating: COVID_IEEE/virus/person615_virus_1184.jpeg  \n",
            "  inflating: COVID_IEEE/virus/person616_virus_1186.jpeg  \n",
            "  inflating: COVID_IEEE/virus/person617_virus_1187.jpeg  \n",
            "  inflating: COVID_IEEE/virus/person618_virus_1189.jpeg  \n",
            "  inflating: COVID_IEEE/virus/person619_virus_1190.jpeg  \n",
            "  inflating: COVID_IEEE/virus/person61_virus_118.jpeg  \n",
            "  inflating: COVID_IEEE/virus/person620_virus_1191.jpeg  \n",
            "  inflating: COVID_IEEE/virus/person620_virus_1192.jpeg  \n",
            "  inflating: COVID_IEEE/virus/person621_virus_1194.jpeg  \n",
            "  inflating: COVID_IEEE/virus/person621_virus_1195.jpeg  \n",
            "  inflating: COVID_IEEE/virus/person622_virus_1196.jpeg  \n",
            "  inflating: COVID_IEEE/virus/person623_virus_1197.jpeg  \n",
            "  inflating: COVID_IEEE/virus/person624_virus_1198.jpeg  \n",
            "  inflating: COVID_IEEE/virus/person625_virus_1199.jpeg  \n",
            "  inflating: COVID_IEEE/virus/person626_virus_1202.jpeg  \n",
            "  inflating: COVID_IEEE/virus/person627_virus_1204.jpeg  \n",
            "  inflating: COVID_IEEE/virus/person628_virus_1206.jpeg  \n",
            "  inflating: COVID_IEEE/virus/person629_virus_1207.jpeg  \n",
            "  inflating: COVID_IEEE/virus/person630_virus_1209.jpeg  \n",
            "  inflating: COVID_IEEE/virus/person632_virus_1211.jpeg  \n",
            "  inflating: COVID_IEEE/virus/person633_virus_1213.jpeg  \n",
            "  inflating: COVID_IEEE/virus/person636_virus_1217.jpeg  \n",
            "  inflating: COVID_IEEE/virus/person637_virus_1218.jpeg  \n",
            "  inflating: COVID_IEEE/virus/person639_virus_1220.jpeg  \n",
            "  inflating: COVID_IEEE/virus/person63_virus_121.jpeg  \n",
            "  inflating: COVID_IEEE/virus/person640_virus_1221.jpeg  \n",
            "  inflating: COVID_IEEE/virus/person641_virus_1222.jpeg  \n",
            "  inflating: COVID_IEEE/virus/person65_virus_123.jpeg  \n",
            "  inflating: COVID_IEEE/virus/person671_virus_1260.jpeg  \n",
            "  inflating: COVID_IEEE/virus/person672_virus_1261.jpeg  \n",
            "  inflating: COVID_IEEE/virus/person673_virus_1263.jpeg  \n",
            "  inflating: COVID_IEEE/virus/person677_virus_1268.jpeg  \n",
            "  inflating: COVID_IEEE/virus/person679_virus_1270.jpeg  \n",
            "  inflating: COVID_IEEE/virus/person67_virus_126.jpeg  \n",
            "  inflating: COVID_IEEE/virus/person681_virus_1272.jpeg  \n",
            "  inflating: COVID_IEEE/virus/person682_virus_1273.jpeg  \n",
            "  inflating: COVID_IEEE/virus/person684_virus_1275.jpeg  \n",
            "  inflating: COVID_IEEE/virus/person688_virus_1281.jpeg  \n",
            "  inflating: COVID_IEEE/virus/person688_virus_1282.jpeg  \n",
            "  inflating: COVID_IEEE/virus/person692_virus_1286.jpeg  \n",
            "  inflating: COVID_IEEE/virus/person698_virus_1294.jpeg  \n",
            "  inflating: COVID_IEEE/virus/person699_virus_1295.jpeg  \n",
            "  inflating: COVID_IEEE/virus/person69_virus_129.jpeg  \n",
            "  inflating: COVID_IEEE/virus/person701_virus_1297.jpeg  \n",
            "  inflating: COVID_IEEE/virus/person702_virus_1299.jpeg  \n",
            "  inflating: COVID_IEEE/virus/person704_virus_1301.jpeg  \n",
            "  inflating: COVID_IEEE/virus/person705_virus_1302.jpeg  \n",
            "  inflating: COVID_IEEE/virus/person705_virus_1303.jpeg  \n",
            "  inflating: COVID_IEEE/virus/person706_virus_1304.jpeg  \n",
            "  inflating: COVID_IEEE/virus/person707_virus_1305.jpeg  \n",
            "  inflating: COVID_IEEE/virus/person710_virus_1308.jpeg  \n",
            "  inflating: COVID_IEEE/virus/person711_virus_1309.jpeg  \n",
            "  inflating: COVID_IEEE/virus/person712_virus_1310.jpeg  \n",
            "  inflating: COVID_IEEE/virus/person716_virus_1314.jpeg  \n",
            "  inflating: COVID_IEEE/virus/person718_virus_1316.jpeg  \n",
            "  inflating: COVID_IEEE/virus/person719_virus_1338.jpeg  \n",
            "  inflating: COVID_IEEE/virus/person71_virus_131.jpeg  \n",
            "  inflating: COVID_IEEE/virus/person71_virus_132.jpeg  \n",
            "  inflating: COVID_IEEE/virus/person720_virus_1339.jpeg  \n",
            "  inflating: COVID_IEEE/virus/person721_virus_1340.jpeg  \n",
            "  inflating: COVID_IEEE/virus/person722_virus_1341.jpeg  \n",
            "  inflating: COVID_IEEE/virus/person723_virus_1342.jpeg  \n",
            "  inflating: COVID_IEEE/virus/person724_virus_1343.jpeg  \n",
            "  inflating: COVID_IEEE/virus/person724_virus_1344.jpeg  \n",
            "  inflating: COVID_IEEE/virus/person727_virus_1347.jpeg  \n",
            "  inflating: COVID_IEEE/virus/person72_virus_133.jpeg  \n",
            "  inflating: COVID_IEEE/virus/person730_virus_1351.jpeg  \n",
            "  inflating: COVID_IEEE/virus/person734_virus_1355.jpeg  \n",
            "  inflating: COVID_IEEE/virus/person735_virus_1356.jpeg  \n",
            "  inflating: COVID_IEEE/virus/person736_virus_1358.jpeg  \n",
            "  inflating: COVID_IEEE/virus/person738_virus_1360.jpeg  \n",
            "  inflating: COVID_IEEE/virus/person739_virus_1361.jpeg  \n",
            "  inflating: COVID_IEEE/virus/person754_virus_1379.jpeg  \n",
            "  inflating: COVID_IEEE/virus/person755_virus_1380.jpeg  \n",
            "  inflating: COVID_IEEE/virus/person761_virus_1389.jpeg  \n",
            "  inflating: COVID_IEEE/virus/person765_virus_1393.jpeg  \n",
            "  inflating: COVID_IEEE/virus/person775_virus_1404.jpeg  \n",
            "  inflating: COVID_IEEE/virus/person778_virus_1408.jpeg  \n",
            "  inflating: COVID_IEEE/virus/person779_virus_1409.jpeg  \n",
            "  inflating: COVID_IEEE/virus/person8_virus_28.jpeg  \n",
            "  inflating: COVID_IEEE/virus/person918_virus_1575.jpeg  \n",
            "  inflating: COVID_IEEE/virus/person919_virus_1576.jpeg  \n",
            "  inflating: COVID_IEEE/virus/person924_virus_1581.jpeg  \n",
            "  inflating: COVID_IEEE/virus/person925_virus_1582.jpeg  \n",
            "  inflating: COVID_IEEE/virus/person926_virus_1583.jpeg  \n",
            "  inflating: COVID_IEEE/virus/person927_virus_1584.jpeg  \n",
            "  inflating: COVID_IEEE/virus/person928_virus_1586.jpeg  \n",
            "  inflating: COVID_IEEE/virus/person929_virus_1588.jpeg  \n",
            "  inflating: COVID_IEEE/virus/person929_virus_1589.jpeg  \n",
            "  inflating: COVID_IEEE/virus/person931_virus_1592.jpeg  \n",
            "  inflating: COVID_IEEE/virus/person932_virus_1593.jpeg  \n",
            "  inflating: COVID_IEEE/virus/person933_virus_1594.jpeg  \n",
            "  inflating: COVID_IEEE/virus/person934_virus_1595.jpeg  \n",
            "  inflating: COVID_IEEE/virus/person935_virus_1597.jpeg  \n",
            "  inflating: COVID_IEEE/virus/person936_virus_1598.jpeg  \n",
            "  inflating: COVID_IEEE/virus/person938_virus_1600.jpeg  \n",
            "  inflating: COVID_IEEE/virus/person940_virus_1602.jpeg  \n",
            "  inflating: COVID_IEEE/virus/person940_virus_1604.jpeg  \n",
            "  inflating: COVID_IEEE/virus/person940_virus_1605.jpeg  \n",
            "  inflating: COVID_IEEE/virus/person940_virus_1607.jpeg  \n",
            "  inflating: COVID_IEEE/virus/person940_virus_1609.jpeg  \n",
            "  inflating: COVID_IEEE/virus/person941_virus_1610.jpeg  \n",
            "  inflating: COVID_IEEE/virus/person942_virus_1611.jpeg  \n",
            "  inflating: COVID_IEEE/virus/person947_virus_1618.jpeg  \n",
            "  inflating: COVID_IEEE/virus/person949_virus_1620.jpeg  \n",
            "  inflating: COVID_IEEE/virus/person950_virus_1621.jpeg  \n",
            "  inflating: COVID_IEEE/virus/person951_virus_1622.jpeg  \n",
            "  inflating: COVID_IEEE/virus/person952_virus_1623.jpeg  \n",
            "  inflating: COVID_IEEE/virus/person954_virus_1626.jpeg  \n",
            "  inflating: COVID_IEEE/virus/person955_virus_1627.jpeg  \n",
            "  inflating: COVID_IEEE/virus/person956_virus_1628.jpeg  \n",
            "  inflating: COVID_IEEE/virus/person957_virus_1629.jpeg  \n",
            "  inflating: COVID_IEEE/virus/person958_virus_1630.jpeg  \n",
            "  inflating: COVID_IEEE/virus/person960_virus_1633.jpeg  \n",
            "  inflating: COVID_IEEE/virus/person961_virus_1634.jpeg  \n",
            "  inflating: COVID_IEEE/virus/person962_virus_1635.jpeg  \n",
            "  inflating: COVID_IEEE/virus/person963_virus_1636.jpeg  \n",
            "  inflating: COVID_IEEE/virus/person964_virus_1637.jpeg  \n",
            "  inflating: COVID_IEEE/virus/person967_virus_1640.jpeg  \n"
          ]
        }
      ]
    },
    {
      "cell_type": "code",
      "source": [
        "!pip install Augmentor"
      ],
      "metadata": {
        "colab": {
          "base_uri": "https://localhost:8080/"
        },
        "id": "yT2EAUVKv2yF",
        "outputId": "12e5a01f-950b-4734-d351-9edff64a939d"
      },
      "execution_count": 61,
      "outputs": [
        {
          "output_type": "stream",
          "name": "stdout",
          "text": [
            "Looking in indexes: https://pypi.org/simple, https://us-python.pkg.dev/colab-wheels/public/simple/\n",
            "Collecting Augmentor\n",
            "  Downloading Augmentor-0.2.10-py2.py3-none-any.whl (38 kB)\n",
            "Requirement already satisfied: tqdm>=4.9.0 in /usr/local/lib/python3.7/dist-packages (from Augmentor) (4.64.1)\n",
            "Requirement already satisfied: Pillow>=5.2.0 in /usr/local/lib/python3.7/dist-packages (from Augmentor) (7.1.2)\n",
            "Requirement already satisfied: future>=0.16.0 in /usr/local/lib/python3.7/dist-packages (from Augmentor) (0.16.0)\n",
            "Requirement already satisfied: numpy>=1.11.0 in /usr/local/lib/python3.7/dist-packages (from Augmentor) (1.21.6)\n",
            "Installing collected packages: Augmentor\n",
            "Successfully installed Augmentor-0.2.10\n"
          ]
        }
      ]
    },
    {
      "cell_type": "code",
      "source": [
        "import Augmentor"
      ],
      "metadata": {
        "id": "KO4QWOcqv2vO"
      },
      "execution_count": 62,
      "outputs": []
    },
    {
      "cell_type": "code",
      "source": [
        "P = Augmentor.Pipeline('/content/COVID_IEEE', output_directory='/content/COVID_IEEE')"
      ],
      "metadata": {
        "colab": {
          "base_uri": "https://localhost:8080/"
        },
        "id": "RBnGMNVuv2sh",
        "outputId": "95d4edcd-8984-466e-ada7-a286efdbe552"
      },
      "execution_count": 63,
      "outputs": [
        {
          "output_type": "stream",
          "name": "stdout",
          "text": [
            "Initialised with 1493 image(s) found.\n",
            "Output directory set to /content/COVID_IEEE."
          ]
        }
      ]
    },
    {
      "cell_type": "code",
      "source": [
        "P.rotate(probability=0.7, max_left_rotation =10, max_right_rotation=10)"
      ],
      "metadata": {
        "id": "1ZM7ritvwBNY"
      },
      "execution_count": 64,
      "outputs": []
    },
    {
      "cell_type": "code",
      "source": [
        "P.zoom(probability  = 0.3, min_factor = 1.1, max_factor = 1.6)"
      ],
      "metadata": {
        "id": "TsbSN2SKwDY2"
      },
      "execution_count": 65,
      "outputs": []
    },
    {
      "cell_type": "code",
      "source": [
        "P.sample(1493)"
      ],
      "metadata": {
        "colab": {
          "base_uri": "https://localhost:8080/"
        },
        "id": "ZpOgSjBgwDWJ",
        "outputId": "5dc3dd8c-365d-4380-f873-122cb122fbcb"
      },
      "execution_count": 66,
      "outputs": [
        {
          "output_type": "stream",
          "name": "stderr",
          "text": [
            "Processing <PIL.Image.Image image mode=L size=1396x1001 at 0x7FD10DDBF810>: 100%|██████████| 1493/1493 [02:46<00:00,  8.97 Samples/s]\n"
          ]
        }
      ]
    },
    {
      "cell_type": "code",
      "source": [
        "for dirpath,dirnames,filenames in os.walk(\"/content/COVID_IEEE\"):\n",
        "    print(f\"there are {len(dirnames)} directories and {len(filenames)} images in '{dirpath}'.\")"
      ],
      "metadata": {
        "colab": {
          "base_uri": "https://localhost:8080/"
        },
        "id": "Zl42hq3fwDTJ",
        "outputId": "3d5c6a7c-7d9d-456c-9120-59e1cba0be1e"
      },
      "execution_count": 67,
      "outputs": [
        {
          "output_type": "stream",
          "name": "stdout",
          "text": [
            "there are 3 directories and 0 images in '/content/COVID_IEEE'.\n",
            "there are 0 directories and 1075 images in '/content/COVID_IEEE/virus'.\n",
            "there are 0 directories and 964 images in '/content/COVID_IEEE/covid'.\n",
            "there are 0 directories and 1062 images in '/content/COVID_IEEE/normal'.\n"
          ]
        }
      ]
    },
    {
      "cell_type": "code",
      "source": [
        "import pathlib\n",
        "import tensorflow as tf\n",
        "data_dir = pathlib.Path(\"/content/COVID_IEEE\")\n",
        "class_names = np.array(sorted([item.name for item in data_dir.glob(\"*\")]))\n",
        "class_names"
      ],
      "metadata": {
        "colab": {
          "base_uri": "https://localhost:8080/"
        },
        "id": "Xo1cJYLKwJcv",
        "outputId": "bf8914a0-e7b5-4295-f915-1b4089382ae9"
      },
      "execution_count": 68,
      "outputs": [
        {
          "output_type": "execute_result",
          "data": {
            "text/plain": [
              "array(['covid', 'normal', 'virus'], dtype='<U6')"
            ]
          },
          "metadata": {},
          "execution_count": 68
        }
      ]
    },
    {
      "cell_type": "code",
      "source": [
        "img_height =224\n",
        "img_width =224"
      ],
      "metadata": {
        "id": "YjQVI2lCwJaQ"
      },
      "execution_count": 69,
      "outputs": []
    },
    {
      "cell_type": "code",
      "source": [
        "train_ds = tf.keras.utils.image_dataset_from_directory(\n",
        "    data_dir,\n",
        "    validation_split=0.2,\n",
        "    subset = 'training',\n",
        "    seed =123,\n",
        "    image_size = (img_height, img_width),\n",
        "    batch_size =32\n",
        ")"
      ],
      "metadata": {
        "colab": {
          "base_uri": "https://localhost:8080/"
        },
        "id": "A9SEe36jwJXl",
        "outputId": "bbf472b3-0183-4e31-b9b3-4aa3c48be8eb"
      },
      "execution_count": 76,
      "outputs": [
        {
          "output_type": "stream",
          "name": "stdout",
          "text": [
            "Found 2986 files belonging to 3 classes.\n",
            "Using 2389 files for training.\n"
          ]
        }
      ]
    },
    {
      "cell_type": "code",
      "source": [
        "validation_ds = tf.keras.utils.image_dataset_from_directory(\n",
        "    data_dir,\n",
        "    validation_split=0.2,\n",
        "    subset = 'validation',\n",
        "    seed =123,\n",
        "    image_size = (img_height, img_width),\n",
        "    batch_size = 32\n",
        ")"
      ],
      "metadata": {
        "colab": {
          "base_uri": "https://localhost:8080/"
        },
        "id": "pLeRYPYywJU6",
        "outputId": "62e20cd5-4e29-48f5-c21e-7ef2f12bd3f5"
      },
      "execution_count": 77,
      "outputs": [
        {
          "output_type": "stream",
          "name": "stdout",
          "text": [
            "Found 2986 files belonging to 3 classes.\n",
            "Using 597 files for validation.\n"
          ]
        }
      ]
    },
    {
      "cell_type": "code",
      "source": [
        "normalization_layer = tf.keras.layers.Rescaling(1./255)"
      ],
      "metadata": {
        "id": "RbfSDrJNwRrs"
      },
      "execution_count": 78,
      "outputs": []
    },
    {
      "cell_type": "code",
      "source": [
        "import numpy as np\n",
        "normalized_ds = train_ds.map(lambda x, y: (normalization_layer(x),y))\n",
        "image_batch, label_batch= next(iter(normalized_ds))\n",
        "first_image = image_batch[0]\n",
        "#Notice the pixel values are now in (0,1)\n",
        "print(np.min(first_image), np.max(first_image))"
      ],
      "metadata": {
        "colab": {
          "base_uri": "https://localhost:8080/"
        },
        "id": "9pUn4mvIwRop",
        "outputId": "dd4e49e8-20e2-402b-8e84-124ee242ff31"
      },
      "execution_count": 81,
      "outputs": [
        {
          "output_type": "stream",
          "name": "stdout",
          "text": [
            "0.0 1.0\n"
          ]
        }
      ]
    },
    {
      "cell_type": "code",
      "source": [
        "AUTOTUNE = tf.data.AUTOTUNE\n",
        "train_ds= train_ds.cache().shuffle(1000).prefetch(buffer_size = AUTOTUNE)\n",
        "validation_ds= validation_ds.cache().prefetch(buffer_size = AUTOTUNE)"
      ],
      "metadata": {
        "id": "AYJbH0tvwRlz"
      },
      "execution_count": 82,
      "outputs": []
    },
    {
      "cell_type": "code",
      "source": [
        "import tensorflow as tf\n",
        "opt=tf.keras.optimizers.Adam(learning_rate=0.0001)"
      ],
      "metadata": {
        "id": "RobhcgRTwRjJ"
      },
      "execution_count": 88,
      "outputs": []
    },
    {
      "cell_type": "code",
      "source": [
        "model = Sequential()\n",
        "\n",
        "#Block Number 1\n",
        "model.add(Conv2D(input_shape = (224,224,3), filters=32,padding=\"same\", kernel_size= (3,3)))\n",
        "model.add(Activation(\"relu\"))\n",
        "\n",
        "model.add(Conv2D(filters=32,padding=\"same\", kernel_size= (3,3)))\n",
        "model.add(Activation(\"relu\"))\n",
        "\n",
        "\n",
        "model.add(MaxPool2D((2,2)))\n",
        "\n",
        "\n",
        "#Block Number 2\n",
        "model.add(Conv2D(filters=64,padding=\"same\", kernel_size= (3,3)))\n",
        "model.add(Activation(\"relu\"))\n",
        "\n",
        "\n",
        "model.add(Conv2D(filters=64,padding=\"same\", kernel_size= (3,3)))\n",
        "model.add(Activation(\"relu\"))\n",
        "\n",
        "model.add(MaxPool2D((2,2)))\n",
        "model.add(MaxPool2D((2,2)))\n",
        "Dropout(0.20)\n",
        "\n",
        "#Block Number 3\n",
        "model.add(Conv2D(filters=128,padding=\"same\", kernel_size= (3,3)))\n",
        "model.add(Activation(\"relu\"))\n",
        "\n",
        "model.add(Conv2D(filters=128,padding=\"same\", kernel_size= (3,3)))\n",
        "model.add(Activation(\"relu\"))\n",
        "\n",
        "model.add(MaxPool2D((2,2)))\n",
        "\n",
        "model.add(MaxPool2D((2,2)))\n",
        "Dropout(0.20)\n",
        "\n",
        "#Block Number 4\n",
        "model.add(Conv2D(filters=256,padding=\"same\", kernel_size= (3,3)))\n",
        "model.add(Activation(\"relu\"))\n",
        "\n",
        "model.add(Conv2D(filters=256,padding=\"same\", kernel_size= (3,3)))\n",
        "model.add(Activation(\"relu\"))\n",
        "\n",
        "model.add(MaxPool2D((2,2)))\n",
        "\n",
        "model.add(MaxPool2D((2,2)))\n",
        "\n",
        "Dropout(0.40)\n",
        "\n",
        "\n",
        "# Fully Connected layer\n",
        "model.add(Flatten())\n",
        "\n",
        "model.add(Dense(units=1024, activation=\"relu\"))\n",
        "\n",
        "model.add(Dense(units= 256, activation=\"relu\"))\n",
        "model.add(Dense(units=128, activation=\"relu\"))\n",
        "Dropout(0.40)\n",
        "\n",
        "model.add(Dense(units=3, activation=\"softmax\"))"
      ],
      "metadata": {
        "id": "kA-BoODWweeO"
      },
      "execution_count": 89,
      "outputs": []
    },
    {
      "cell_type": "code",
      "source": [
        "model.compile(optimizer = opt, loss = tf.losses.SparseCategoricalCrossentropy(from_logits = False),metrics=['accuracy'])"
      ],
      "metadata": {
        "id": "67xyKDZwwebV"
      },
      "execution_count": 90,
      "outputs": []
    },
    {
      "cell_type": "code",
      "source": [
        "history1 = model.fit(\n",
        "    train_ds,\n",
        "    validation_data = validation_ds,\n",
        "    epochs=20\n",
        ")"
      ],
      "metadata": {
        "colab": {
          "base_uri": "https://localhost:8080/"
        },
        "id": "vI9ploCoweYg",
        "outputId": "9901368c-01b2-45e0-b20b-a1e2739b3238"
      },
      "execution_count": 91,
      "outputs": [
        {
          "output_type": "stream",
          "name": "stdout",
          "text": [
            "Epoch 1/20\n",
            "75/75 [==============================] - 10s 123ms/step - loss: 0.7379 - accuracy: 0.6802 - val_loss: 0.4264 - val_accuracy: 0.8576\n",
            "Epoch 2/20\n",
            "75/75 [==============================] - 9s 122ms/step - loss: 0.4646 - accuracy: 0.8150 - val_loss: 0.3544 - val_accuracy: 0.8543\n",
            "Epoch 3/20\n",
            "75/75 [==============================] - 9s 123ms/step - loss: 0.2940 - accuracy: 0.8903 - val_loss: 0.3959 - val_accuracy: 0.8308\n",
            "Epoch 4/20\n",
            "75/75 [==============================] - 9s 124ms/step - loss: 0.2255 - accuracy: 0.9192 - val_loss: 0.1893 - val_accuracy: 0.9229\n",
            "Epoch 5/20\n",
            "75/75 [==============================] - 9s 125ms/step - loss: 0.2410 - accuracy: 0.9054 - val_loss: 0.1914 - val_accuracy: 0.9229\n",
            "Epoch 6/20\n",
            "75/75 [==============================] - 9s 125ms/step - loss: 0.1740 - accuracy: 0.9334 - val_loss: 0.3107 - val_accuracy: 0.8760\n",
            "Epoch 7/20\n",
            "75/75 [==============================] - 9s 125ms/step - loss: 0.1617 - accuracy: 0.9318 - val_loss: 0.2235 - val_accuracy: 0.9012\n",
            "Epoch 8/20\n",
            "75/75 [==============================] - 9s 123ms/step - loss: 0.1200 - accuracy: 0.9523 - val_loss: 0.2404 - val_accuracy: 0.8961\n",
            "Epoch 9/20\n",
            "75/75 [==============================] - 9s 123ms/step - loss: 0.1121 - accuracy: 0.9598 - val_loss: 0.1924 - val_accuracy: 0.9347\n",
            "Epoch 10/20\n",
            "75/75 [==============================] - 9s 123ms/step - loss: 0.1303 - accuracy: 0.9485 - val_loss: 0.1660 - val_accuracy: 0.9313\n",
            "Epoch 11/20\n",
            "75/75 [==============================] - 9s 123ms/step - loss: 0.0684 - accuracy: 0.9753 - val_loss: 0.1386 - val_accuracy: 0.9464\n",
            "Epoch 12/20\n",
            "75/75 [==============================] - 9s 124ms/step - loss: 0.0662 - accuracy: 0.9749 - val_loss: 0.1951 - val_accuracy: 0.9296\n",
            "Epoch 13/20\n",
            "75/75 [==============================] - 9s 125ms/step - loss: 0.0627 - accuracy: 0.9774 - val_loss: 0.1684 - val_accuracy: 0.9397\n",
            "Epoch 14/20\n",
            "75/75 [==============================] - 9s 125ms/step - loss: 0.0942 - accuracy: 0.9619 - val_loss: 0.1452 - val_accuracy: 0.9481\n",
            "Epoch 15/20\n",
            "75/75 [==============================] - 9s 124ms/step - loss: 0.0332 - accuracy: 0.9895 - val_loss: 0.2069 - val_accuracy: 0.9380\n",
            "Epoch 16/20\n",
            "75/75 [==============================] - 9s 124ms/step - loss: 0.0575 - accuracy: 0.9799 - val_loss: 0.3081 - val_accuracy: 0.9028\n",
            "Epoch 17/20\n",
            "75/75 [==============================] - 9s 123ms/step - loss: 0.0714 - accuracy: 0.9749 - val_loss: 0.1860 - val_accuracy: 0.9447\n",
            "Epoch 18/20\n",
            "75/75 [==============================] - 9s 124ms/step - loss: 0.0245 - accuracy: 0.9912 - val_loss: 0.2025 - val_accuracy: 0.9464\n",
            "Epoch 19/20\n",
            "75/75 [==============================] - 9s 124ms/step - loss: 0.0493 - accuracy: 0.9833 - val_loss: 0.1778 - val_accuracy: 0.9414\n",
            "Epoch 20/20\n",
            "75/75 [==============================] - 9s 124ms/step - loss: 0.0261 - accuracy: 0.9920 - val_loss: 0.1670 - val_accuracy: 0.9464\n"
          ]
        }
      ]
    },
    {
      "cell_type": "code",
      "source": [
        "#Plot the Loss Curves\n",
        "plt.figure(figsize=[8,6])\n",
        "plt.plot(history1.history['loss'],linewidth=2.0)\n",
        "plt.plot(history1.history['val_loss'],linewidth=2.0)\n",
        "plt.legend(['Training loss', 'Validation Loss'],fontsize=16)\n",
        "plt.xlabel('Epochs ',fontsize=16)\n",
        "plt.ylabel('Loss',fontsize=16)\n",
        "plt.title('Loss Curves',fontsize=16)\n",
        "\n",
        "#Plot the Accuracy Curves\n",
        "plt.figure(figsize=[8,6])\n",
        "plt.plot(history1.history['accuracy'],linewidth=2.0)\n",
        "plt.plot(history1.history['val_accuracy'],linewidth=2.0)\n",
        "plt.legend(['Training Accuracy', 'Validation Accuracy'],fontsize=16)\n",
        "plt.xlabel('Epochs ',fontsize=16)\n",
        "plt.ylabel('Accuracy',fontsize=16)\n",
        "plt.title('Accuracy Curves',fontsize=16)"
      ],
      "metadata": {
        "colab": {
          "base_uri": "https://localhost:8080/",
          "height": 848
        },
        "id": "yGfiTIEtwoo_",
        "outputId": "308d2941-64e2-4cb4-e80b-c614d6f9eb85"
      },
      "execution_count": 92,
      "outputs": [
        {
          "output_type": "execute_result",
          "data": {
            "text/plain": [
              "Text(0.5, 1.0, 'Accuracy Curves')"
            ]
          },
          "metadata": {},
          "execution_count": 92
        },
        {
          "output_type": "display_data",
          "data": {
            "text/plain": [
              "<Figure size 576x432 with 1 Axes>"
            ],
            "image/png": "[encoded data removed]"
          },
          "metadata": {}
        },
        {
          "output_type": "display_data",
          "data": {
            "text/plain": [
              "<Figure size 576x432 with 1 Axes>"
            ],
            "image/png": "[encoded data removed]"
          },
          "metadata": {}
        }
      ]
    },
    {
      "cell_type": "code",
      "source": [
        "from tensorflow.keras.models import Model\n",
        "a = np.array(history1.history['accuracy']).mean()\n",
        "history1.history\n",
        "model.evaluate_generator(generator=validation_ds)"
      ],
      "metadata": {
        "colab": {
          "base_uri": "https://localhost:8080/"
        },
        "id": "frPytiKOwomW",
        "outputId": "aeacb14b-1aab-422e-d019-506a043226e9"
      },
      "execution_count": 93,
      "outputs": [
        {
          "output_type": "stream",
          "name": "stderr",
          "text": [
            "/usr/local/lib/python3.7/dist-packages/ipykernel_launcher.py:4: UserWarning: `Model.evaluate_generator` is deprecated and will be removed in a future version. Please use `Model.evaluate`, which supports generators.\n",
            "  after removing the cwd from sys.path.\n"
          ]
        },
        {
          "output_type": "execute_result",
          "data": {
            "text/plain": [
              "[0.16702952980995178, 0.9463986754417419]"
            ]
          },
          "metadata": {},
          "execution_count": 93
        }
      ]
    },
    {
      "cell_type": "code",
      "source": [
        "import seaborn as sns"
      ],
      "metadata": {
        "id": "F3vLVe1dwojp"
      },
      "execution_count": 95,
      "outputs": []
    },
    {
      "cell_type": "code",
      "source": [
        "train_label =np.concatenate([y for x, y in train_ds], axis = 0)\n",
        "print(train_label.shape)\n",
        "\n",
        "test_label =np.concatenate([y for x, y in validation_ds], axis = 0)\n",
        "print(test_label.shape)"
      ],
      "metadata": {
        "colab": {
          "base_uri": "https://localhost:8080/"
        },
        "id": "1CTw521txN7R",
        "outputId": "c5853dc1-95ae-4e7b-b91c-8e912f7af588"
      },
      "execution_count": 96,
      "outputs": [
        {
          "output_type": "stream",
          "name": "stdout",
          "text": [
            "(2389,)\n",
            "(597,)\n"
          ]
        }
      ]
    },
    {
      "cell_type": "code",
      "source": [
        "from sklearn.metrics import classification_report, confusion_matrix\n",
        "from sklearn.metrics import ConfusionMatrixDisplay\n",
        "import matplotlib.pyplot as plt\n",
        "Y_pred = model.predict_generator(validation_ds, 1600)\n",
        "y_pred = np.argmax(Y_pred, axis =1)\n",
        "print(\"Confusion Matrix\")\n",
        "Cm = confusion_matrix(test_label,y_pred)\n",
        "print(Cm)\n",
        "sns.heatmap(Cm, annot = True, annot_kws={'size': 22})"
      ],
      "metadata": {
        "colab": {
          "base_uri": "https://localhost:8080/",
          "height": 444
        },
        "id": "ZAv-lEQvxQ_H",
        "outputId": "2c865fb6-63d0-44d3-9cdc-67993d792d3e"
      },
      "execution_count": 97,
      "outputs": [
        {
          "output_type": "stream",
          "name": "stderr",
          "text": [
            "/usr/local/lib/python3.7/dist-packages/ipykernel_launcher.py:4: UserWarning: `Model.predict_generator` is deprecated and will be removed in a future version. Please use `Model.predict`, which supports generators.\n",
            "  after removing the cwd from sys.path.\n",
            "WARNING:tensorflow:Your input ran out of data; interrupting training. Make sure that your dataset or generator can generate at least `steps_per_epoch * epochs` batches (in this case, 1600 batches). You may need to use the repeat() function when building your dataset.\n"
          ]
        },
        {
          "output_type": "stream",
          "name": "stdout",
          "text": [
            "Confusion Matrix\n",
            "[[166   2   0]\n",
            " [  0 198  11]\n",
            " [  4  15 201]]\n"
          ]
        },
        {
          "output_type": "execute_result",
          "data": {
            "text/plain": [
              "<matplotlib.axes._subplots.AxesSubplot at 0x7fd3f06a2750>"
            ]
          },
          "metadata": {},
          "execution_count": 97
        },
        {
          "output_type": "display_data",
          "data": {
            "text/plain": [
              "<Figure size 432x288 with 2 Axes>"
            ],
            "image/png": "[encoded data removed]"
          },
          "metadata": {}
        }
      ]
    },
    {
      "cell_type": "code",
      "source": [
        "print('Classification Report')\n",
        "target_names=['covid', 'normal', 'virus']\n",
        "print(classification_report(test_label, y_pred, target_names = target_names))"
      ],
      "metadata": {
        "colab": {
          "base_uri": "https://localhost:8080/"
        },
        "id": "M4gsWs5qxQ8R",
        "outputId": "914f9e6d-213d-4ea0-db8f-46f1d64a5f5e"
      },
      "execution_count": 98,
      "outputs": [
        {
          "output_type": "stream",
          "name": "stdout",
          "text": [
            "Classification Report\n",
            "              precision    recall  f1-score   support\n",
            "\n",
            "       covid       0.98      0.99      0.98       168\n",
            "      normal       0.92      0.95      0.93       209\n",
            "       virus       0.95      0.91      0.93       220\n",
            "\n",
            "    accuracy                           0.95       597\n",
            "   macro avg       0.95      0.95      0.95       597\n",
            "weighted avg       0.95      0.95      0.95       597\n",
            "\n"
          ]
        }
      ]
    },
    {
      "cell_type": "code",
      "source": [
        "import seaborn as sns\n",
        "sns.set(font_scale = 1.0)\n",
        "ax = sns.heatmap(Cm, annot= True, cmap = 'summer', cbar = False, linewidths=3, linecolor='g', square = True, xticklabels =target_names, yticklabels= target_names, mask= False, ax = None)\n",
        "\n",
        "sns.set(font_scale = 2.0)\n",
        "ax.set_title('Seaborn confusion Matrix with lebels\\n\\n');\n",
        "ax.set_xlabel('\\nActual Values')\n",
        "ax.set_ylabel(\"Prediction Values\");"
      ],
      "metadata": {
        "colab": {
          "base_uri": "https://localhost:8080/",
          "height": 380
        },
        "id": "oNep-hzTxWqC",
        "outputId": "749252f7-b17b-411a-b9e2-2340aeb6c29e"
      },
      "execution_count": 99,
      "outputs": [
        {
          "output_type": "display_data",
          "data": {
            "text/plain": [
              "<Figure size 432x288 with 1 Axes>"
            ],
            "image/png": "[encoded data removed]"
          },
          "metadata": {}
        }
      ]
    },
    {
      "cell_type": "code",
      "source": [
        "import tensorflow as tf\n",
        "opt=tf.keras.optimizers.Adam(learning_rate=0.0001)"
      ],
      "metadata": {
        "id": "Ur1sLXFCxWeY"
      },
      "execution_count": 100,
      "outputs": []
    },
    {
      "cell_type": "code",
      "source": [
        "from tensorflow.keras.applications import InceptionV3\n",
        "from tensorflow.keras.models import Model\n",
        "from keras.layers import GlobalAveragePooling2D, Flatten, BatchNormalization, Dense, Dropout\n",
        "from tensorflow.keras.layers import MaxPooling2D,  GlobalAveragePooling2D\n",
        "base_model = InceptionV3(\n",
        "    input_shape=(224,224,3),\n",
        "    weights=\"imagenet\",\n",
        "    include_top = False)\n",
        "\n",
        "#Freeze the first ten layers\n",
        "for layer in base_model.layers[:10]:\n",
        "  layer.trainable = False\n",
        "x = base_model.output\n",
        "x = GlobalAveragePooling2D()(x)\n",
        "x= Dense(512, activation = 'relu')(x)\n",
        "x= Dropout(0.4)(x)\n",
        "predictions  = Dense(3, activation = 'softmax')(x)\n",
        "model1 = Model(inputs = base_model.inputs, outputs = predictions)"
      ],
      "metadata": {
        "id": "L5au0M1AxkZd"
      },
      "execution_count": 101,
      "outputs": []
    },
    {
      "cell_type": "code",
      "source": [
        "model1.compile(optimizer =opt, loss = tf.losses.SparseCategoricalCrossentropy(from_logits = False),metrics=['accuracy'])"
      ],
      "metadata": {
        "id": "mIvmPn-ExkWt"
      },
      "execution_count": 102,
      "outputs": []
    },
    {
      "cell_type": "code",
      "source": [
        "history2 = model1.fit(\n",
        "    train_ds,\n",
        "    validation_data = validation_ds,\n",
        "    epochs=20\n",
        ")"
      ],
      "metadata": {
        "colab": {
          "base_uri": "https://localhost:8080/"
        },
        "id": "aWRI_5mxxkUT",
        "outputId": "ba364147-ed38-45c5-ec28-720ccb4f3f3a"
      },
      "execution_count": 103,
      "outputs": [
        {
          "output_type": "stream",
          "name": "stdout",
          "text": [
            "Epoch 1/20\n",
            "75/75 [==============================] - 27s 277ms/step - loss: 0.3531 - accuracy: 0.8610 - val_loss: 1.2807 - val_accuracy: 0.5796\n",
            "Epoch 2/20\n",
            "75/75 [==============================] - 17s 233ms/step - loss: 0.0730 - accuracy: 0.9736 - val_loss: 0.4434 - val_accuracy: 0.8559\n",
            "Epoch 3/20\n",
            "75/75 [==============================] - 18s 239ms/step - loss: 0.0207 - accuracy: 0.9941 - val_loss: 0.2286 - val_accuracy: 0.9397\n",
            "Epoch 4/20\n",
            "75/75 [==============================] - 18s 234ms/step - loss: 0.0181 - accuracy: 0.9950 - val_loss: 0.1633 - val_accuracy: 0.9581\n",
            "Epoch 5/20\n",
            "75/75 [==============================] - 17s 232ms/step - loss: 0.0210 - accuracy: 0.9929 - val_loss: 0.1360 - val_accuracy: 0.9715\n",
            "Epoch 6/20\n",
            "75/75 [==============================] - 17s 232ms/step - loss: 0.0206 - accuracy: 0.9925 - val_loss: 0.1657 - val_accuracy: 0.9481\n",
            "Epoch 7/20\n",
            "75/75 [==============================] - 18s 234ms/step - loss: 0.0647 - accuracy: 0.9824 - val_loss: 0.2872 - val_accuracy: 0.9464\n",
            "Epoch 8/20\n",
            "75/75 [==============================] - 18s 234ms/step - loss: 0.0268 - accuracy: 0.9908 - val_loss: 0.2126 - val_accuracy: 0.9548\n",
            "Epoch 9/20\n",
            "75/75 [==============================] - 17s 233ms/step - loss: 0.0271 - accuracy: 0.9920 - val_loss: 0.1614 - val_accuracy: 0.9665\n",
            "Epoch 10/20\n",
            "75/75 [==============================] - 18s 234ms/step - loss: 0.0077 - accuracy: 0.9979 - val_loss: 0.1111 - val_accuracy: 0.9732\n",
            "Epoch 11/20\n",
            "75/75 [==============================] - 18s 235ms/step - loss: 0.0012 - accuracy: 1.0000 - val_loss: 0.1222 - val_accuracy: 0.9765\n",
            "Epoch 12/20\n",
            "75/75 [==============================] - 18s 234ms/step - loss: 2.2496e-04 - accuracy: 1.0000 - val_loss: 0.1246 - val_accuracy: 0.9765\n",
            "Epoch 13/20\n",
            "75/75 [==============================] - 17s 233ms/step - loss: 1.3237e-04 - accuracy: 1.0000 - val_loss: 0.1265 - val_accuracy: 0.9765\n",
            "Epoch 14/20\n",
            "75/75 [==============================] - 17s 233ms/step - loss: 9.3526e-05 - accuracy: 1.0000 - val_loss: 0.1281 - val_accuracy: 0.9782\n",
            "Epoch 15/20\n",
            "75/75 [==============================] - 18s 234ms/step - loss: 8.8069e-05 - accuracy: 1.0000 - val_loss: 0.1298 - val_accuracy: 0.9782\n",
            "Epoch 16/20\n",
            "75/75 [==============================] - 18s 234ms/step - loss: 6.7974e-05 - accuracy: 1.0000 - val_loss: 0.1308 - val_accuracy: 0.9782\n",
            "Epoch 17/20\n",
            "75/75 [==============================] - 17s 233ms/step - loss: 6.3165e-05 - accuracy: 1.0000 - val_loss: 0.1319 - val_accuracy: 0.9782\n",
            "Epoch 18/20\n",
            "75/75 [==============================] - 17s 233ms/step - loss: 4.9652e-05 - accuracy: 1.0000 - val_loss: 0.1325 - val_accuracy: 0.9782\n",
            "Epoch 19/20\n",
            "75/75 [==============================] - 18s 235ms/step - loss: 4.6663e-05 - accuracy: 1.0000 - val_loss: 0.1331 - val_accuracy: 0.9782\n",
            "Epoch 20/20\n",
            "75/75 [==============================] - 17s 234ms/step - loss: 4.3147e-05 - accuracy: 1.0000 - val_loss: 0.1340 - val_accuracy: 0.9782\n"
          ]
        }
      ]
    },
    {
      "cell_type": "code",
      "source": [
        "#Plot the Loss Curves\n",
        "plt.figure(figsize=[8,6])\n",
        "plt.plot(history2.history['loss'],linewidth=2.0)\n",
        "plt.plot(history2.history['val_loss'],linewidth=2.0)\n",
        "plt.legend(['Training loss', 'Validation Loss'],fontsize=16)\n",
        "plt.xlabel('Epochs ',fontsize=16)\n",
        "plt.ylabel('Loss',fontsize=16)\n",
        "plt.title('Loss Curves',fontsize=16)\n",
        "\n",
        "#Plot the Accuracy Curves\n",
        "plt.figure(figsize=[8,6])\n",
        "plt.plot(history2.history['accuracy'],linewidth=2.0)\n",
        "plt.plot(history2.history['val_accuracy'],linewidth=2.0)\n",
        "plt.legend(['Training Accuracy', 'Validation Accuracy'],fontsize=16)\n",
        "plt.xlabel('Epochs ',fontsize=16)\n",
        "plt.ylabel('Accuracy',fontsize=16)\n",
        "plt.title('Accuracy Curves',fontsize=16)"
      ],
      "metadata": {
        "colab": {
          "base_uri": "https://localhost:8080/",
          "height": 848
        },
        "id": "3bUjeJJUz6V1",
        "outputId": "c848cf65-5ca5-4789-878b-5c219d75a63b"
      },
      "execution_count": 104,
      "outputs": [
        {
          "output_type": "execute_result",
          "data": {
            "text/plain": [
              "Text(0.5, 1.0, 'Accuracy Curves')"
            ]
          },
          "metadata": {},
          "execution_count": 104
        },
        {
          "output_type": "display_data",
          "data": {
            "text/plain": [
              "<Figure size 576x432 with 1 Axes>"
            ],
            "image/png": "[encoded data removed]"
          },
          "metadata": {}
        },
        {
          "output_type": "display_data",
          "data": {
            "text/plain": [
              "<Figure size 576x432 with 1 Axes>"
            ],
            "image/png": "[encoded data removed]"
          },
          "metadata": {}
        }
      ]
    },
    {
      "cell_type": "code",
      "source": [
        "from sklearn.metrics import classification_report, confusion_matrix\n",
        "from sklearn.metrics import ConfusionMatrixDisplay\n",
        "import matplotlib.pyplot as plt\n",
        "Y_pred = model1.predict_generator(validation_ds, 1600)\n",
        "y_pred = np.argmax(Y_pred, axis =1)\n",
        "print(\"Confusion Matrix\")\n",
        "Cm = confusion_matrix(test_label,y_pred)\n",
        "print(Cm)\n",
        "sns.heatmap(Cm, annot = True, annot_kws={'size': 22})"
      ],
      "metadata": {
        "colab": {
          "base_uri": "https://localhost:8080/",
          "height": 437
        },
        "id": "TFzXxhRCxruF",
        "outputId": "fae3329c-5f9f-46c9-f603-dcad9bebbef7"
      },
      "execution_count": 105,
      "outputs": [
        {
          "output_type": "stream",
          "name": "stderr",
          "text": [
            "/usr/local/lib/python3.7/dist-packages/ipykernel_launcher.py:4: UserWarning: `Model.predict_generator` is deprecated and will be removed in a future version. Please use `Model.predict`, which supports generators.\n",
            "  after removing the cwd from sys.path.\n",
            "WARNING:tensorflow:Your input ran out of data; interrupting training. Make sure that your dataset or generator can generate at least `steps_per_epoch * epochs` batches (in this case, 1600 batches). You may need to use the repeat() function when building your dataset.\n"
          ]
        },
        {
          "output_type": "stream",
          "name": "stdout",
          "text": [
            "Confusion Matrix\n",
            "[[167   0   1]\n",
            " [  0 203   6]\n",
            " [  1   5 214]]\n"
          ]
        },
        {
          "output_type": "execute_result",
          "data": {
            "text/plain": [
              "<matplotlib.axes._subplots.AxesSubplot at 0x7fd21ee19290>"
            ]
          },
          "metadata": {},
          "execution_count": 105
        },
        {
          "output_type": "display_data",
          "data": {
            "text/plain": [
              "<Figure size 432x288 with 2 Axes>"
            ],
            "image/png": "[encoded data removed]"
          },
          "metadata": {}
        }
      ]
    },
    {
      "cell_type": "code",
      "source": [
        "print('Classification Report')\n",
        "target_names=['covid', 'normal', 'virus']\n",
        "print(classification_report(test_label, y_pred, target_names = target_names))"
      ],
      "metadata": {
        "colab": {
          "base_uri": "https://localhost:8080/"
        },
        "id": "byFjTkozxrrp",
        "outputId": "3380f5d4-5ada-41bb-d0c7-820abd07f805"
      },
      "execution_count": 106,
      "outputs": [
        {
          "output_type": "stream",
          "name": "stdout",
          "text": [
            "Classification Report\n",
            "              precision    recall  f1-score   support\n",
            "\n",
            "       covid       0.99      0.99      0.99       168\n",
            "      normal       0.98      0.97      0.97       209\n",
            "       virus       0.97      0.97      0.97       220\n",
            "\n",
            "    accuracy                           0.98       597\n",
            "   macro avg       0.98      0.98      0.98       597\n",
            "weighted avg       0.98      0.98      0.98       597\n",
            "\n"
          ]
        }
      ]
    },
    {
      "cell_type": "code",
      "source": [
        "import seaborn as sns\n",
        "sns.set(font_scale = 1.0)\n",
        "ax = sns.heatmap(Cm, annot= True, cmap = 'summer', cbar = False, linewidths=3, linecolor='g', square = True, xticklabels =target_names, yticklabels= target_names, mask= False, ax = None)\n",
        "\n",
        "sns.set(font_scale = 2.0)\n",
        "ax.set_title('Confusion Matrix for InceptionV3\\n\\n');\n",
        "ax.set_xlabel('\\nActual Values')\n",
        "ax.set_ylabel(\"Prediction Values\");"
      ],
      "metadata": {
        "colab": {
          "base_uri": "https://localhost:8080/",
          "height": 380
        },
        "id": "5sjkCwIwymij",
        "outputId": "581fa5d9-ecab-48ba-ef10-b0e80c2fc619"
      },
      "execution_count": 109,
      "outputs": [
        {
          "output_type": "display_data",
          "data": {
            "text/plain": [
              "<Figure size 432x288 with 1 Axes>"
            ],
            "image/png": "[encoded data removed]"
          },
          "metadata": {}
        }
      ]
    },
    {
      "cell_type": "code",
      "source": [
        "import tensorflow as tf\n",
        "opt=tf.keras.optimizers.Adam(learning_rate=0.0001)"
      ],
      "metadata": {
        "id": "rQhEJgqrypBS"
      },
      "execution_count": 110,
      "outputs": []
    },
    {
      "cell_type": "code",
      "source": [
        "from tensorflow.keras.applications import DenseNet121\n",
        "from tensorflow.keras.models import Model\n",
        "from keras.layers import GlobalAveragePooling2D, Flatten, BatchNormalization, Dense, Dropout\n",
        "from tensorflow.keras.layers import MaxPooling2D,  GlobalAveragePooling2D\n",
        "base_model = DenseNet121(\n",
        "    input_shape=(224,224,3),\n",
        "    weights=\"imagenet\",\n",
        "    include_top = False)\n",
        "\n",
        "#Freeze the first ten layers\n",
        "for layer in base_model.layers[:10]:\n",
        "  layer.trainable = False\n",
        "x = base_model.output\n",
        "x = GlobalAveragePooling2D()(x)\n",
        "x= Dense(512, activation = 'relu')(x)\n",
        "x= Dropout(0.4)(x)\n",
        "predictions  = Dense(3, activation = 'softmax')(x)\n",
        "model2 = Model(inputs = base_model.inputs, outputs = predictions)"
      ],
      "metadata": {
        "id": "j8PJc5z6yvvj"
      },
      "execution_count": 111,
      "outputs": []
    },
    {
      "cell_type": "code",
      "source": [
        "model2.compile(optimizer =opt, loss = tf.losses.SparseCategoricalCrossentropy(from_logits = False),metrics=['accuracy'])"
      ],
      "metadata": {
        "id": "IthqUfmxyyJJ"
      },
      "execution_count": 112,
      "outputs": []
    },
    {
      "cell_type": "code",
      "source": [
        "history3 = model2.fit(\n",
        "    train_ds,\n",
        "    validation_data = validation_ds,\n",
        "    epochs= 20\n",
        ")"
      ],
      "metadata": {
        "colab": {
          "base_uri": "https://localhost:8080/"
        },
        "id": "TY7IUs_ayyEi",
        "outputId": "89dd5f63-a91b-4afc-8285-94e362549c85"
      },
      "execution_count": 113,
      "outputs": [
        {
          "output_type": "stream",
          "name": "stdout",
          "text": [
            "Epoch 1/20\n",
            "75/75 [==============================] - 41s 415ms/step - loss: 0.2702 - accuracy: 0.9033 - val_loss: 0.5311 - val_accuracy: 0.7973\n",
            "Epoch 2/20\n",
            "75/75 [==============================] - 27s 357ms/step - loss: 0.0385 - accuracy: 0.9908 - val_loss: 0.2757 - val_accuracy: 0.9229\n",
            "Epoch 3/20\n",
            "75/75 [==============================] - 27s 365ms/step - loss: 0.0087 - accuracy: 0.9992 - val_loss: 0.1007 - val_accuracy: 0.9665\n",
            "Epoch 4/20\n",
            "75/75 [==============================] - 28s 367ms/step - loss: 0.0026 - accuracy: 1.0000 - val_loss: 0.0859 - val_accuracy: 0.9782\n",
            "Epoch 5/20\n",
            "75/75 [==============================] - 27s 364ms/step - loss: 0.0012 - accuracy: 1.0000 - val_loss: 0.0841 - val_accuracy: 0.9749\n",
            "Epoch 6/20\n",
            "75/75 [==============================] - 28s 371ms/step - loss: 5.7548e-04 - accuracy: 1.0000 - val_loss: 0.0871 - val_accuracy: 0.9765\n",
            "Epoch 7/20\n",
            "75/75 [==============================] - 27s 365ms/step - loss: 4.8450e-04 - accuracy: 1.0000 - val_loss: 0.0867 - val_accuracy: 0.9765\n",
            "Epoch 8/20\n",
            "75/75 [==============================] - 27s 366ms/step - loss: 3.7101e-04 - accuracy: 1.0000 - val_loss: 0.0854 - val_accuracy: 0.9782\n",
            "Epoch 9/20\n",
            "75/75 [==============================] - 28s 367ms/step - loss: 2.5943e-04 - accuracy: 1.0000 - val_loss: 0.0854 - val_accuracy: 0.9782\n",
            "Epoch 10/20\n",
            "75/75 [==============================] - 27s 367ms/step - loss: 2.0241e-04 - accuracy: 1.0000 - val_loss: 0.0870 - val_accuracy: 0.9765\n",
            "Epoch 11/20\n",
            "75/75 [==============================] - 28s 367ms/step - loss: 2.0002e-04 - accuracy: 1.0000 - val_loss: 0.0893 - val_accuracy: 0.9782\n",
            "Epoch 12/20\n",
            "75/75 [==============================] - 27s 367ms/step - loss: 1.5450e-04 - accuracy: 1.0000 - val_loss: 0.0921 - val_accuracy: 0.9782\n",
            "Epoch 13/20\n",
            "75/75 [==============================] - 28s 367ms/step - loss: 1.1576e-04 - accuracy: 1.0000 - val_loss: 0.0936 - val_accuracy: 0.9782\n",
            "Epoch 14/20\n",
            "75/75 [==============================] - 27s 366ms/step - loss: 1.1479e-04 - accuracy: 1.0000 - val_loss: 0.0947 - val_accuracy: 0.9765\n",
            "Epoch 15/20\n",
            "75/75 [==============================] - 28s 370ms/step - loss: 1.1964e-04 - accuracy: 1.0000 - val_loss: 0.0939 - val_accuracy: 0.9799\n",
            "Epoch 16/20\n",
            "75/75 [==============================] - 27s 364ms/step - loss: 8.5476e-05 - accuracy: 1.0000 - val_loss: 0.0942 - val_accuracy: 0.9782\n",
            "Epoch 17/20\n",
            "75/75 [==============================] - 27s 366ms/step - loss: 9.0300e-05 - accuracy: 1.0000 - val_loss: 0.0940 - val_accuracy: 0.9799\n",
            "Epoch 18/20\n",
            "75/75 [==============================] - 28s 368ms/step - loss: 8.4293e-05 - accuracy: 1.0000 - val_loss: 0.0943 - val_accuracy: 0.9782\n",
            "Epoch 19/20\n",
            "75/75 [==============================] - 27s 367ms/step - loss: 5.4585e-05 - accuracy: 1.0000 - val_loss: 0.0962 - val_accuracy: 0.9799\n",
            "Epoch 20/20\n",
            "75/75 [==============================] - 27s 367ms/step - loss: 4.7334e-05 - accuracy: 1.0000 - val_loss: 0.0979 - val_accuracy: 0.9799\n"
          ]
        }
      ]
    },
    {
      "cell_type": "code",
      "source": [
        "#Plot the Loss Curves\n",
        "plt.figure(figsize=[8,6])\n",
        "plt.plot(history3.history['loss'],linewidth=2.0)\n",
        "plt.plot(history3.history['val_loss'],linewidth=2.0)\n",
        "plt.legend(['Training loss', 'Validation Loss'],fontsize=16)\n",
        "plt.xlabel('Epochs ',fontsize=16)\n",
        "plt.ylabel('Loss',fontsize=16)\n",
        "plt.title('Loss Curves',fontsize=16)\n",
        "\n",
        "#Plot the Accuracy Curves\n",
        "plt.figure(figsize=[8,6])\n",
        "plt.plot(history3.history['accuracy'],linewidth=2.0)\n",
        "plt.plot(history3.history['val_accuracy'],linewidth=2.0)\n",
        "plt.legend(['Training Accuracy', 'Validation Accuracy'],fontsize=16)\n",
        "plt.xlabel('Epochs ',fontsize=16)\n",
        "plt.ylabel('Accuracy',fontsize=16)\n",
        "plt.title('Accuracy Curves',fontsize=16)"
      ],
      "metadata": {
        "colab": {
          "base_uri": "https://localhost:8080/",
          "height": 848
        },
        "id": "75PYLwou0-DL",
        "outputId": "0391a74b-2049-4f41-def0-c1d3f8b4ea7d"
      },
      "execution_count": 128,
      "outputs": [
        {
          "output_type": "execute_result",
          "data": {
            "text/plain": [
              "Text(0.5, 1.0, 'Accuracy Curves')"
            ]
          },
          "metadata": {},
          "execution_count": 128
        },
        {
          "output_type": "display_data",
          "data": {
            "text/plain": [
              "<Figure size 576x432 with 1 Axes>"
            ],
            "image/png": "[encoded data removed]"
          },
          "metadata": {}
        },
        {
          "output_type": "display_data",
          "data": {
            "text/plain": [
              "<Figure size 576x432 with 1 Axes>"
            ],
            "image/png": "[encoded data removed]"
          },
          "metadata": {}
        }
      ]
    },
    {
      "cell_type": "code",
      "source": [
        "from sklearn.metrics import classification_report, confusion_matrix\n",
        "from sklearn.metrics import ConfusionMatrixDisplay\n",
        "import matplotlib.pyplot as plt\n",
        "Y_pred = model2.predict_generator(validation_ds, 1600)\n",
        "y_pred = np.argmax(Y_pred, axis =1)\n",
        "print(\"Confusion Matrix\")\n",
        "Cm = confusion_matrix(test_label,y_pred)\n",
        "print(Cm)\n",
        "sns.heatmap(Cm, annot = True, annot_kws={'size': 22})"
      ],
      "metadata": {
        "colab": {
          "base_uri": "https://localhost:8080/",
          "height": 437
        },
        "id": "K1sBCYSO097z",
        "outputId": "ccef36bf-bae0-4c20-942c-d33054e28251"
      },
      "execution_count": 115,
      "outputs": [
        {
          "output_type": "stream",
          "name": "stderr",
          "text": [
            "/usr/local/lib/python3.7/dist-packages/ipykernel_launcher.py:4: UserWarning: `Model.predict_generator` is deprecated and will be removed in a future version. Please use `Model.predict`, which supports generators.\n",
            "  after removing the cwd from sys.path.\n",
            "WARNING:tensorflow:Your input ran out of data; interrupting training. Make sure that your dataset or generator can generate at least `steps_per_epoch * epochs` batches (in this case, 1600 batches). You may need to use the repeat() function when building your dataset.\n"
          ]
        },
        {
          "output_type": "stream",
          "name": "stdout",
          "text": [
            "Confusion Matrix\n",
            "[[168   0   0]\n",
            " [  0 204   5]\n",
            " [  1   6 213]]\n"
          ]
        },
        {
          "output_type": "execute_result",
          "data": {
            "text/plain": [
              "<matplotlib.axes._subplots.AxesSubplot at 0x7fd31660e850>"
            ]
          },
          "metadata": {},
          "execution_count": 115
        },
        {
          "output_type": "display_data",
          "data": {
            "text/plain": [
              "<Figure size 432x288 with 2 Axes>"
            ],
            "image/png": "[encoded data removed]"
          },
          "metadata": {}
        }
      ]
    },
    {
      "cell_type": "code",
      "source": [
        "print('Classification Report')\n",
        "target_names=['covid', 'normal', 'virus']\n",
        "print(classification_report(test_label, y_pred, target_names = target_names))"
      ],
      "metadata": {
        "colab": {
          "base_uri": "https://localhost:8080/"
        },
        "id": "76Gq6Hts1RY0",
        "outputId": "0eb5ea0d-aced-4c6e-dc15-306d7b01f472"
      },
      "execution_count": 116,
      "outputs": [
        {
          "output_type": "stream",
          "name": "stdout",
          "text": [
            "Classification Report\n",
            "              precision    recall  f1-score   support\n",
            "\n",
            "       covid       0.99      1.00      1.00       168\n",
            "      normal       0.97      0.98      0.97       209\n",
            "       virus       0.98      0.97      0.97       220\n",
            "\n",
            "    accuracy                           0.98       597\n",
            "   macro avg       0.98      0.98      0.98       597\n",
            "weighted avg       0.98      0.98      0.98       597\n",
            "\n"
          ]
        }
      ]
    },
    {
      "cell_type": "code",
      "source": [
        "import seaborn as sns\n",
        "sns.set(font_scale = 1.0)\n",
        "ax = sns.heatmap(Cm, annot= True, cmap = 'summer', cbar = False, linewidths=1, linecolor='g', square = True, xticklabels =target_names, yticklabels= target_names, mask= False, ax = None)\n",
        "\n",
        "sns.set(font_scale = 2.0)\n",
        "ax.set_title('Confusion Matrix for DenseNet121\\n');\n",
        "ax.set_xlabel('\\nActual Values')\n",
        "ax.set_ylabel(\"Prediction Values\");"
      ],
      "metadata": {
        "colab": {
          "base_uri": "https://localhost:8080/",
          "height": 353
        },
        "id": "0Q8uJZaO1RPz",
        "outputId": "cb38d88c-7b92-4c2a-97dd-ec4aa7e07a24"
      },
      "execution_count": 118,
      "outputs": [
        {
          "output_type": "display_data",
          "data": {
            "text/plain": [
              "<Figure size 432x288 with 1 Axes>"
            ],
            "image/png": "[encoded data removed]"
          },
          "metadata": {}
        }
      ]
    },
    {
      "cell_type": "code",
      "source": [
        "import tensorflow as tf\n",
        "opt=tf.keras.optimizers.Adam(learning_rate=0.0001)"
      ],
      "metadata": {
        "id": "yL2D9AV81vtM"
      },
      "execution_count": 119,
      "outputs": []
    },
    {
      "cell_type": "code",
      "source": [
        "from tensorflow.keras.applications import MobileNet\n",
        "from tensorflow.keras.models import Model\n",
        "from keras.layers import GlobalAveragePooling2D, Flatten, BatchNormalization, Dense, Dropout\n",
        "from tensorflow.keras.layers import MaxPooling2D,  GlobalAveragePooling2D\n",
        "base_model = MobileNet(\n",
        "    input_shape=(224,224,3),\n",
        "    weights=\"imagenet\",\n",
        "    include_top = False)\n",
        "\n",
        "#Freeze the first ten layers\n",
        "for layer in base_model.layers[:10]:\n",
        "  layer.trainable = False\n",
        "x = base_model.output\n",
        "x = GlobalAveragePooling2D()(x)\n",
        "x= Dense(512, activation = 'relu')(x)\n",
        "x= Dropout(0.4)(x)\n",
        "predictions  = Dense(3, activation = 'softmax')(x)\n",
        "model3 = Model(inputs = base_model.inputs, outputs = predictions)"
      ],
      "metadata": {
        "id": "0ZJNWsiA1vfE"
      },
      "execution_count": 120,
      "outputs": []
    },
    {
      "cell_type": "code",
      "source": [
        "model3.compile(optimizer =opt, loss = tf.losses.SparseCategoricalCrossentropy(from_logits = False),metrics=['accuracy'])"
      ],
      "metadata": {
        "id": "dt43OZ8N2Vye"
      },
      "execution_count": 121,
      "outputs": []
    },
    {
      "cell_type": "code",
      "source": [
        "history4 = model3.fit(\n",
        "    train_ds,\n",
        "    validation_data = validation_ds,\n",
        "    epochs= 20\n",
        ")"
      ],
      "metadata": {
        "colab": {
          "base_uri": "https://localhost:8080/"
        },
        "id": "chjgb8452Wmn",
        "outputId": "d6f2c1ab-945e-42cf-e83b-e215b49c3069"
      },
      "execution_count": 122,
      "outputs": [
        {
          "output_type": "stream",
          "name": "stdout",
          "text": [
            "Epoch 1/20\n",
            "75/75 [==============================] - 13s 146ms/step - loss: 0.3889 - accuracy: 0.8481 - val_loss: 4.2246 - val_accuracy: 0.5209\n",
            "Epoch 2/20\n",
            "75/75 [==============================] - 10s 134ms/step - loss: 0.0700 - accuracy: 0.9803 - val_loss: 2.8613 - val_accuracy: 0.5444\n",
            "Epoch 3/20\n",
            "75/75 [==============================] - 10s 136ms/step - loss: 0.0183 - accuracy: 0.9958 - val_loss: 2.3193 - val_accuracy: 0.5578\n",
            "Epoch 4/20\n",
            "75/75 [==============================] - 10s 135ms/step - loss: 0.0073 - accuracy: 1.0000 - val_loss: 0.8217 - val_accuracy: 0.7722\n",
            "Epoch 5/20\n",
            "75/75 [==============================] - 10s 134ms/step - loss: 0.0039 - accuracy: 1.0000 - val_loss: 0.2366 - val_accuracy: 0.9246\n",
            "Epoch 6/20\n",
            "75/75 [==============================] - 10s 133ms/step - loss: 0.0022 - accuracy: 1.0000 - val_loss: 0.1541 - val_accuracy: 0.9514\n",
            "Epoch 7/20\n",
            "75/75 [==============================] - 10s 133ms/step - loss: 0.0016 - accuracy: 1.0000 - val_loss: 0.1386 - val_accuracy: 0.9531\n",
            "Epoch 8/20\n",
            "75/75 [==============================] - 10s 133ms/step - loss: 0.0010 - accuracy: 1.0000 - val_loss: 0.1242 - val_accuracy: 0.9598\n",
            "Epoch 9/20\n",
            "75/75 [==============================] - 10s 132ms/step - loss: 7.5867e-04 - accuracy: 1.0000 - val_loss: 0.1195 - val_accuracy: 0.9631\n",
            "Epoch 10/20\n",
            "75/75 [==============================] - 10s 133ms/step - loss: 7.1902e-04 - accuracy: 1.0000 - val_loss: 0.1214 - val_accuracy: 0.9648\n",
            "Epoch 11/20\n",
            "75/75 [==============================] - 10s 134ms/step - loss: 5.2672e-04 - accuracy: 1.0000 - val_loss: 0.1243 - val_accuracy: 0.9665\n",
            "Epoch 12/20\n",
            "75/75 [==============================] - 10s 134ms/step - loss: 5.0164e-04 - accuracy: 1.0000 - val_loss: 0.1262 - val_accuracy: 0.9698\n",
            "Epoch 13/20\n",
            "75/75 [==============================] - 10s 135ms/step - loss: 3.5985e-04 - accuracy: 1.0000 - val_loss: 0.1249 - val_accuracy: 0.9682\n",
            "Epoch 14/20\n",
            "75/75 [==============================] - 10s 133ms/step - loss: 2.6444e-04 - accuracy: 1.0000 - val_loss: 0.1267 - val_accuracy: 0.9682\n",
            "Epoch 15/20\n",
            "75/75 [==============================] - 10s 133ms/step - loss: 2.8978e-04 - accuracy: 1.0000 - val_loss: 0.1266 - val_accuracy: 0.9665\n",
            "Epoch 16/20\n",
            "75/75 [==============================] - 10s 132ms/step - loss: 2.9459e-04 - accuracy: 1.0000 - val_loss: 0.1261 - val_accuracy: 0.9665\n",
            "Epoch 17/20\n",
            "75/75 [==============================] - 10s 132ms/step - loss: 1.9770e-04 - accuracy: 1.0000 - val_loss: 0.1275 - val_accuracy: 0.9682\n",
            "Epoch 18/20\n",
            "75/75 [==============================] - 10s 134ms/step - loss: 2.0032e-04 - accuracy: 1.0000 - val_loss: 0.1290 - val_accuracy: 0.9665\n",
            "Epoch 19/20\n",
            "75/75 [==============================] - 10s 133ms/step - loss: 1.5215e-04 - accuracy: 1.0000 - val_loss: 0.1287 - val_accuracy: 0.9682\n",
            "Epoch 20/20\n",
            "75/75 [==============================] - 10s 135ms/step - loss: 1.4243e-04 - accuracy: 1.0000 - val_loss: 0.1302 - val_accuracy: 0.9682\n"
          ]
        }
      ]
    },
    {
      "cell_type": "code",
      "source": [
        "from sklearn.metrics import classification_report, confusion_matrix\n",
        "from sklearn.metrics import ConfusionMatrixDisplay\n",
        "import matplotlib.pyplot as plt\n",
        "Y_pred = model3.predict_generator(validation_ds, 1600)\n",
        "y_pred = np.argmax(Y_pred, axis =1)\n",
        "print(\"Confusion Matrix\")\n",
        "Cm = confusion_matrix(test_label,y_pred)\n",
        "print(Cm)\n",
        "sns.heatmap(Cm, annot = True, annot_kws={'size': 22})"
      ],
      "metadata": {
        "colab": {
          "base_uri": "https://localhost:8080/",
          "height": 437
        },
        "id": "uDrfj_Sl2Wjz",
        "outputId": "4185132c-a0ce-4c09-83d2-561323332717"
      },
      "execution_count": 123,
      "outputs": [
        {
          "output_type": "stream",
          "name": "stderr",
          "text": [
            "/usr/local/lib/python3.7/dist-packages/ipykernel_launcher.py:4: UserWarning: `Model.predict_generator` is deprecated and will be removed in a future version. Please use `Model.predict`, which supports generators.\n",
            "  after removing the cwd from sys.path.\n",
            "WARNING:tensorflow:Your input ran out of data; interrupting training. Make sure that your dataset or generator can generate at least `steps_per_epoch * epochs` batches (in this case, 1600 batches). You may need to use the repeat() function when building your dataset.\n"
          ]
        },
        {
          "output_type": "stream",
          "name": "stdout",
          "text": [
            "Confusion Matrix\n",
            "[[166   1   1]\n",
            " [  0 202   7]\n",
            " [  4   6 210]]\n"
          ]
        },
        {
          "output_type": "execute_result",
          "data": {
            "text/plain": [
              "<matplotlib.axes._subplots.AxesSubplot at 0x7fd383077190>"
            ]
          },
          "metadata": {},
          "execution_count": 123
        },
        {
          "output_type": "display_data",
          "data": {
            "text/plain": [
              "<Figure size 432x288 with 2 Axes>"
            ],
            "image/png": "[encoded data removed]"
          },
          "metadata": {}
        }
      ]
    },
    {
      "cell_type": "code",
      "source": [
        "print('Classification Report')\n",
        "target_names=['covid', 'normal', 'virus']\n",
        "print(classification_report(test_label, y_pred, target_names = target_names))"
      ],
      "metadata": {
        "colab": {
          "base_uri": "https://localhost:8080/"
        },
        "id": "8ZxNcdU-3a9a",
        "outputId": "772625ab-948d-4371-d501-ebbf90e6ab61"
      },
      "execution_count": 124,
      "outputs": [
        {
          "output_type": "stream",
          "name": "stdout",
          "text": [
            "Classification Report\n",
            "              precision    recall  f1-score   support\n",
            "\n",
            "       covid       0.98      0.99      0.98       168\n",
            "      normal       0.97      0.97      0.97       209\n",
            "       virus       0.96      0.95      0.96       220\n",
            "\n",
            "    accuracy                           0.97       597\n",
            "   macro avg       0.97      0.97      0.97       597\n",
            "weighted avg       0.97      0.97      0.97       597\n",
            "\n"
          ]
        }
      ]
    },
    {
      "cell_type": "code",
      "source": [
        "import seaborn as sns\n",
        "sns.set(font_scale = 1.0)\n",
        "ax = sns.heatmap(Cm, annot= True, cmap = 'summer', cbar = False, linewidths=1, linecolor='g', square = True, xticklabels =target_names, yticklabels= target_names, mask= False, ax = None)\n",
        "\n",
        "sns.set(font_scale = 2.0)\n",
        "ax.set_title('Confusion Matrix For MobileNet\\n');\n",
        "ax.set_xlabel('\\nActual Values')\n",
        "ax.set_ylabel(\"Prediction Values\");"
      ],
      "metadata": {
        "colab": {
          "base_uri": "https://localhost:8080/",
          "height": 353
        },
        "id": "SXWFxc_13a6V",
        "outputId": "cf60dabf-ed6f-4ca0-a880-43c6cba47f08"
      },
      "execution_count": 126,
      "outputs": [
        {
          "output_type": "display_data",
          "data": {
            "text/plain": [
              "<Figure size 432x288 with 1 Axes>"
            ],
            "image/png": "[encoded data removed]"
          },
          "metadata": {}
        }
      ]
    },
    {
      "cell_type": "code",
      "source": [
        "#Plot the Loss Curves\n",
        "plt.figure(figsize=[8,6])\n",
        "plt.plot(history4.history['loss'],linewidth=2.0)\n",
        "plt.plot(history4.history['val_loss'],linewidth=2.0)\n",
        "plt.legend(['Training loss', 'Validation Loss'],fontsize=16)\n",
        "plt.xlabel('Epochs ',fontsize=16)\n",
        "plt.ylabel('Loss',fontsize=16)\n",
        "plt.title('Loss Curves',fontsize=16)\n",
        "\n",
        "#Plot the Accuracy Curves\n",
        "plt.figure(figsize=[8,6])\n",
        "plt.plot(history4.history['accuracy'],linewidth=2.0)\n",
        "plt.plot(history4.history['val_accuracy'],linewidth=2.0)\n",
        "plt.legend(['Training Accuracy', 'Validation Accuracy'],fontsize=16)\n",
        "plt.xlabel('Epochs ',fontsize=16)\n",
        "plt.ylabel('Accuracy',fontsize=16)\n",
        "plt.title('Accuracy Curves',fontsize=16)"
      ],
      "metadata": {
        "colab": {
          "base_uri": "https://localhost:8080/",
          "height": 848
        },
        "id": "7ipeWDoy3ict",
        "outputId": "0d82d38c-d050-405a-e3fa-904fdacb3e18"
      },
      "execution_count": 127,
      "outputs": [
        {
          "output_type": "execute_result",
          "data": {
            "text/plain": [
              "Text(0.5, 1.0, 'Accuracy Curves')"
            ]
          },
          "metadata": {},
          "execution_count": 127
        },
        {
          "output_type": "display_data",
          "data": {
            "text/plain": [
              "<Figure size 576x432 with 1 Axes>"
            ],
            "image/png": "[encoded data removed]"
          },
          "metadata": {}
        },
        {
          "output_type": "display_data",
          "data": {
            "text/plain": [
              "<Figure size 576x432 with 1 Axes>"
            ],
            "image/png": "[encoded data removed]"
          },
          "metadata": {}
        }
      ]
    },
    {
      "cell_type": "code",
      "source": [],
      "metadata": {
        "id": "kRFXPcdv3iV8"
      },
      "execution_count": null,
      "outputs": []
    }
  ]
}